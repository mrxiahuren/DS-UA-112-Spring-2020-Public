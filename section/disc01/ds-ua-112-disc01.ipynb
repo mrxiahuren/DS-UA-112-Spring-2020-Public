{
 "cells": [
  {
   "cell_type": "markdown",
   "metadata": {
    "nbgrader": {
     "grade": false,
     "grade_id": "cell-13e40a1399707439",
     "locked": true,
     "schema_version": 2,
     "solution": false
    }
   },
   "source": [
    "## List Comprehension\n",
    "\n",
    "***Note:*** The line `raise NotImplementedError()` indicates that the implementation still needs to be added. This is an exception derived from `RuntimeError`. Please comment out that line when you have implemented the function.\n",
    "\n",
    "\n",
    "### Part A\n",
    "\n",
    "Write a function that returns a list of numbers such that $ x_i=i^2 $ for $1\\leq i \\leq n$. Don't worry about the case where $n \\leq 0$."
   ]
  },
  {
   "cell_type": "code",
   "execution_count": null,
   "metadata": {
    "ExecuteTime": {
     "end_time": "2018-01-18T23:32:44.865968Z",
     "start_time": "2018-01-18T23:32:44.861303Z"
    },
    "nbgrader": {
     "grade": false,
     "grade_id": "cell-9388c587d0e639ff",
     "locked": false,
     "schema_version": 2,
     "solution": true
    }
   },
   "outputs": [],
   "source": [
    "def squares(n):\n",
    "    \"\"\"Compute the squares of numbers from 1 to n such that the ith element of the returned list equals i^2.\"\"\"\n",
    "    ### BEGIN SOLUTION\n",
    "    # TODO: solve me\n",
    "    ### END SOLUTION"
   ]
  },
  {
   "cell_type": "markdown",
   "metadata": {
    "nbgrader": {
     "grade": false,
     "grade_id": "cell-b8e3b9b11b0f764c",
     "locked": true,
     "schema_version": 2,
     "solution": false
    }
   },
   "source": [
    "Your function should print `[1, 4, 9, 16, 25, 36, 49, 64, 81, 100]` for $n=10$.  \n",
    "Check that it does:"
   ]
  },
  {
   "cell_type": "code",
   "execution_count": null,
   "metadata": {
    "ExecuteTime": {
     "end_time": "2018-01-18T23:35:11.019139Z",
     "start_time": "2018-01-18T23:35:11.010168Z"
    }
   },
   "outputs": [],
   "source": [
    "squares(10)"
   ]
  },
  {
   "cell_type": "markdown",
   "metadata": {
    "nbgrader": {
     "grade": false,
     "grade_id": "cell-5beb02bc07017f6f",
     "locked": true,
     "schema_version": 2,
     "solution": false
    }
   },
   "source": [
    "Check that squares returns the correct output for several inputs."
   ]
  },
  {
   "cell_type": "code",
   "execution_count": null,
   "metadata": {
    "nbgrader": {
     "grade": true,
     "grade_id": "squares-tests",
     "locked": true,
     "points": 0,
     "schema_version": 2,
     "solution": false
    }
   },
   "outputs": [],
   "source": [
    "assert squares(1) == [1]\n",
    "assert squares(2) == [1, 4]\n",
    "assert squares(10) == [1, 4, 9, 16, 25, 36, 49, 64, 81, 100]\n",
    "assert squares(11) == [1, 4, 9, 16, 25, 36, 49, 64, 81, 100, 121]"
   ]
  },
  {
   "cell_type": "markdown",
   "metadata": {
    "nbgrader": {
     "grade": false,
     "grade_id": "cell-6d8df81ad0bd073a",
     "locked": true,
     "schema_version": 2,
     "solution": false
    }
   },
   "source": [
    "### Part B\n",
    "\n",
    "Evaluate the following summation (you may use code):\n",
    "\n",
    "$$\\sum_{i=1}^{100} i^3 + 3 i^2$$"
   ]
  },
  {
   "cell_type": "code",
   "execution_count": null,
   "metadata": {
    "nbgrader": {
     "grade": false,
     "grade_id": "cell-e0447d4ce1ef9176",
     "locked": false,
     "schema_version": 2,
     "solution": true
    }
   },
   "outputs": [],
   "source": [
    "### BEGIN SOLUTION\n",
    "# TODO: solve me\n",
    "### END SOLUTION\n",
    "q2b_sum = ..."
   ]
  },
  {
   "cell_type": "markdown",
   "metadata": {
    "nbgrader": {
     "grade": false,
     "grade_id": "cell-b962e4bc590df951",
     "locked": true,
     "schema_version": 2,
     "solution": false
    }
   },
   "source": [
    "Check that your sum is correct."
   ]
  },
  {
   "cell_type": "code",
   "execution_count": null,
   "metadata": {
    "nbgrader": {
     "grade": false,
     "grade_id": "cell-38ebc2cbfb9b130c",
     "locked": true,
     "schema_version": 2,
     "solution": false
    }
   },
   "outputs": [],
   "source": [
    "assert q2b_sum == 26517550"
   ]
  },
  {
   "cell_type": "markdown",
   "metadata": {
    "nbgrader": {
     "grade": false,
     "grade_id": "cell-be7cebac927b3f1a",
     "locked": true,
     "schema_version": 2,
     "solution": false
    }
   },
   "source": [
    "### Part C\n",
    "\n",
    "Write a function `map_func` that will implement mapping and filtering on a list of values `list_vals`. This function will also take in a parameter `mapper`, which takes an input `x` and maps that value to a new value of the same type. The last parameter `filter_func` takes an input `y` and returns a boolean value based on if `y` satifies a certain condtion. In short, `map_func` should return a list of values from `n` that satisfy the condition established by `filter_func`.\n",
    "\n",
    "**Note**: If you want to see examples of map_func used, look at the tests below."
   ]
  },
  {
   "cell_type": "code",
   "execution_count": null,
   "metadata": {
    "nbgrader": {
     "grade": false,
     "grade_id": "cell-c2f4ccfbf9d99081",
     "locked": false,
     "schema_version": 2,
     "solution": true
    }
   },
   "outputs": [],
   "source": [
    "def map_func(list_vals, mapper, filter_func):\n",
    "    \"\"\"Maps and filters the input list n based on the condition established by the input param filter_func. Return a list \n",
    "    containing elements of n that filter_func returns true on.\"\"\"\n",
    "    ### BEGIN SOLUTION\n",
    "    # TODO: solve me\n",
    "    ### END SOLUTION"
   ]
  },
  {
   "cell_type": "markdown",
   "metadata": {
    "nbgrader": {
     "grade": false,
     "grade_id": "cell-6a32941d0d794e00",
     "locked": true,
     "schema_version": 2,
     "solution": false
    }
   },
   "source": [
    "Check that `map_func` returns the correct output for several inputs."
   ]
  },
  {
   "cell_type": "code",
   "execution_count": null,
   "metadata": {
    "nbgrader": {
     "grade": false,
     "grade_id": "cell-b8fe98d2427e17ea",
     "locked": true,
     "schema_version": 2,
     "solution": false
    }
   },
   "outputs": [],
   "source": [
    "assert map_func([1, 2, 3], lambda x: x*2, lambda x: x > 1) == [4, 6]\n",
    "assert map_func([], lambda x: x*1000, lambda x: x > -10) == []\n",
    "assert map_func([\"piglet\", \"gavin\", \"jim\", \"andy\"], lambda x: x[:0:-1], lambda x: len(x) < 6) == [\"niva\", \"mi\", \"ydn\"]"
   ]
  },
  {
   "cell_type": "markdown",
   "metadata": {
    "nbgrader": {
     "grade": false,
     "grade_id": "cell-262690d3399a01a6",
     "locked": true,
     "schema_version": 2,
     "solution": false
    }
   },
   "source": [
    "## Fun with indexing\n",
    "\n",
    "### Part A\n",
    "\n",
    "Write a function which takes in a string and returns `True` if the string is a palindrome. (A string is a palindrome if it is the same forwards and backwards.)"
   ]
  },
  {
   "cell_type": "code",
   "execution_count": null,
   "metadata": {
    "nbgrader": {
     "grade": false,
     "grade_id": "cell-b1fa3ce3a6566fbc",
     "locked": false,
     "schema_version": 2,
     "solution": true
    }
   },
   "outputs": [],
   "source": [
    "def is_palindrome(word):\n",
    "    \"\"\"Return True if word is a palindrome.\"\"\"\n",
    "    ### BEGIN SOLUTION\n",
    "    # TODO: solve me\n",
    "    ### END SOLUTION"
   ]
  },
  {
   "cell_type": "markdown",
   "metadata": {
    "nbgrader": {
     "grade": false,
     "grade_id": "cell-8511ab6086312dfb",
     "locked": true,
     "schema_version": 2,
     "solution": false
    }
   },
   "source": [
    "Your function should return true for \"racecar\"."
   ]
  },
  {
   "cell_type": "code",
   "execution_count": null,
   "metadata": {},
   "outputs": [],
   "source": [
    "is_palindrome(\"racecar\")"
   ]
  },
  {
   "cell_type": "markdown",
   "metadata": {
    "nbgrader": {
     "grade": false,
     "grade_id": "cell-a8e600015df76fb8",
     "locked": true,
     "schema_version": 2,
     "solution": false
    }
   },
   "source": [
    "Check that the function works for several inputs."
   ]
  },
  {
   "cell_type": "code",
   "execution_count": null,
   "metadata": {
    "nbgrader": {
     "grade": true,
     "grade_id": "test-is-palindrome",
     "locked": true,
     "points": 0,
     "schema_version": 2,
     "solution": false
    }
   },
   "outputs": [],
   "source": [
    "assert is_palindrome(\"aviddiva\") == True\n",
    "assert is_palindrome(\"clearlynotapalindrome\") == False\n",
    "assert is_palindrome(\"kayak\") == True\n",
    "assert is_palindrome(\"ab\") == False\n",
    "assert is_palindrome(\"abb\") == False\n",
    "assert is_palindrome(\"a\") == True"
   ]
  },
  {
   "cell_type": "markdown",
   "metadata": {
    "nbgrader": {
     "grade": false,
     "grade_id": "cell-5fa8405d55ebbb2f",
     "locked": true,
     "schema_version": 2,
     "solution": false
    }
   },
   "source": [
    "### Part B\n",
    "\n",
    "Write a function that flattens a nested Python list."
   ]
  },
  {
   "cell_type": "code",
   "execution_count": null,
   "metadata": {
    "nbgrader": {
     "grade": false,
     "grade_id": "cell-0335b7d85baac809",
     "locked": false,
     "schema_version": 2,
     "solution": true
    }
   },
   "outputs": [],
   "source": [
    "def flatten(lst):\n",
    "    \"\"\"Flattens the input list lst so that there are no nested lists.\"\"\"\n",
    "    ### BEGIN SOLUTION\n",
    "    # TODO: solve me\n",
    "    ### END SOLUTION"
   ]
  },
  {
   "cell_type": "markdown",
   "metadata": {
    "nbgrader": {
     "grade": false,
     "grade_id": "cell-142965116e9218f3",
     "locked": true,
     "schema_version": 2,
     "solution": false
    }
   },
   "source": [
    "Check that the function works for several inputs."
   ]
  },
  {
   "cell_type": "code",
   "execution_count": null,
   "metadata": {
    "nbgrader": {
     "grade": false,
     "grade_id": "cell-d632d0da21836b98",
     "locked": true,
     "schema_version": 2,
     "solution": false
    }
   },
   "outputs": [],
   "source": [
    "assert flatten([1, 2, 3]) == [1, 2, 3]\n",
    "assert flatten([1, 2, [3, 4]]) == [1, 2, 3, 4]\n",
    "assert flatten([1, 2, [3, [4]], 5]) == [1, 2, 3, 4, 5]\n",
    "assert flatten([1, 2, [3, [4]], [5, [[6]]]]) == [1, 2, 3, 4, 5, 6]\n",
    "assert flatten([1, 2, [3, [[4]]], [5, [[6]]], [[[7]]]]) == [1, 2, 3, 4, 5, 6, 7]"
   ]
  },
  {
   "cell_type": "markdown",
   "metadata": {
    "nbgrader": {
     "grade": false,
     "grade_id": "cell-8759283527dcb7f7",
     "locked": true,
     "schema_version": 2,
     "solution": false
    }
   },
   "source": [
    "Although there is no built-in `flatten` function for Python lists, numpy arrays have a `flatten` method that can be used to flatten an array. For example, to flatten a numpy array `arr` we would call `arr.flatten()`.\n"
   ]
  }
 ],
 "metadata": {
  "celltoolbar": "Create Assignment",
  "kernelspec": {
   "display_name": "Python 3",
   "language": "python",
   "name": "python3"
  },
  "language_info": {
   "codemirror_mode": {
    "name": "ipython",
    "version": 3
   },
   "file_extension": ".py",
   "mimetype": "text/x-python",
   "name": "python",
   "nbconvert_exporter": "python",
   "pygments_lexer": "ipython3",
   "version": "3.6.7"
  },
  "toc": {
   "colors": {
    "hover_highlight": "#DAA520",
    "running_highlight": "#FF0000",
    "selected_highlight": "#FFD700"
   },
   "moveMenuLeft": true,
   "nav_menu": {
    "height": "156px",
    "width": "252px"
   },
   "navigate_menu": true,
   "number_sections": true,
   "sideBar": true,
   "threshold": 4,
   "toc_cell": true,
   "toc_section_display": "block",
   "toc_window_display": true
  }
 },
 "nbformat": 4,
 "nbformat_minor": 4
}
