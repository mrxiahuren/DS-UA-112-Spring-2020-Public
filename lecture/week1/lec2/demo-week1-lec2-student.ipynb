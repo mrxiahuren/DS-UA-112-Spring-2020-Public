{
 "cells": [
  {
   "cell_type": "markdown",
   "metadata": {},
   "source": [
    "### Demo \n",
    "#### Week 1: Lecture 2"
   ]
  },
  {
   "cell_type": "code",
   "execution_count": 35,
   "metadata": {},
   "outputs": [],
   "source": [
    "import warnings\n",
    "warnings.filterwarnings('ignore')\n",
    "import numpy as np\n",
    "import matplotlib.pyplot as plt\n",
    "import seaborn as sns\n",
    "%matplotlib inline\n",
    "import pandas as pd\n",
    "pd.set_option('precision', 2)\n",
    "pd.set_option('display.max_rows', 15)\n",
    "pd.set_option('display.max_columns', 10)\n",
    "sns.set()\n",
    "sns.set_context('talk')\n",
    "\n",
    "import ipywidgets as widgets\n",
    "from ipywidgets import interact, interactive, fixed, interact_manual"
   ]
  },
  {
   "cell_type": "markdown",
   "metadata": {},
   "source": [
    "### Step 1: Formulate \n",
    "\n",
    "What information about gender and age could we determine from names? In particular, what guesses can we make about the sample based on the administrative dataset? "
   ]
  },
  {
   "cell_type": "markdown",
   "metadata": {},
   "source": [
    "**Question** \n",
    "\n",
    "What might be a connection between gender and name? What might be a connection between age and name?"
   ]
  },
  {
   "cell_type": "code",
   "execution_count": 36,
   "metadata": {},
   "outputs": [],
   "source": [
    "# YOUR RESPONSE HERE"
   ]
  },
  {
   "cell_type": "markdown",
   "metadata": {},
   "source": [
    "### Step 2: Collect and Process the Data  "
   ]
  },
  {
   "cell_type": "code",
   "execution_count": 38,
   "metadata": {},
   "outputs": [],
   "source": [
    "students = pd.read_csv('roster_first_names.csv')\n",
    "students['Name'] = students['Name'].str.lower()"
   ]
  },
  {
   "cell_type": "code",
   "execution_count": 39,
   "metadata": {},
   "outputs": [],
   "source": [
    "def random_name(number):\n",
    "    return \", \".join(np.random.choice(students['Name'], size = number, replace = False))"
   ]
  },
  {
   "cell_type": "code",
   "execution_count": 15,
   "metadata": {},
   "outputs": [
    {
     "data": {
      "application/vnd.jupyter.widget-view+json": {
       "model_id": "00beab90791e40e9b7afe2e6eddd46ed",
       "version_major": 2,
       "version_minor": 0
      },
      "text/plain": [
       "interactive(children=(IntSlider(value=5, description='number', max=15, min=-5), Output()), _dom_classes=('widg…"
      ]
     },
     "metadata": {},
     "output_type": "display_data"
    }
   ],
   "source": [
    "interact(random_name, number=5);"
   ]
  },
  {
   "cell_type": "code",
   "execution_count": 40,
   "metadata": {},
   "outputs": [
    {
     "name": "stdout",
     "output_type": "stream",
     "text": [
      "There are 99 students on the roster.\n"
     ]
    }
   ],
   "source": [
    "print(f\"There are {len(students)} students on the roster.\")"
   ]
  },
  {
   "cell_type": "markdown",
   "metadata": {},
   "source": [
    "**Question** \n",
    "\n",
    " - How many students are in the class?\n",
    " - How can you read the dataset `babynames.csv'"
   ]
  },
  {
   "cell_type": "code",
   "execution_count": 36,
   "metadata": {},
   "outputs": [],
   "source": [
    "# YOUR RESPONSE HERE"
   ]
  },
  {
   "cell_type": "code",
   "execution_count": 41,
   "metadata": {},
   "outputs": [],
   "source": [
    "# YOUR CODE HERE"
   ]
  },
  {
   "cell_type": "markdown",
   "metadata": {},
   "source": [
    "### Step 3: Understand the Data through Tables and Charts  "
   ]
  },
  {
   "cell_type": "markdown",
   "metadata": {},
   "source": [
    "How anonymous is the sample? Would length of name be an indicator of person? \n",
    "\n",
    "Let's determine the distribution of lengths of names in the sample?"
   ]
  },
  {
   "cell_type": "code",
   "execution_count": 42,
   "metadata": {},
   "outputs": [
    {
     "data": {
      "image/png": "[encoded data removed]",
      "text/plain": [
       "<Figure size 432x288 with 1 Axes>"
      ]
     },
     "metadata": {},
     "output_type": "display_data"
    }
   ],
   "source": [
    "sns.distplot(students['Name'].str.len(),\n",
    "             rug=True,\n",
    "             bins=np.arange(12),\n",
    "             axlabel=\"Number of Characters\")\n",
    "plt.xlim(0, 12)\n",
    "plt.xticks(np.arange(12))\n",
    "plt.gca().set_ylabel('Proportion per character');"
   ]
  },
  {
   "cell_type": "markdown",
   "metadata": {},
   "source": [
    "### Gender"
   ]
  },
  {
   "cell_type": "markdown",
   "metadata": {},
   "source": [
    "Let's understand the distribution of gender over time."
   ]
  },
  {
   "cell_type": "code",
   "execution_count": 43,
   "metadata": {},
   "outputs": [],
   "source": [
    "pivot_year_name_count = pd.pivot_table(\n",
    "    babynames, index='Year', columns='Gender',\n",
    "    values='Count', aggfunc=np.sum)"
   ]
  },
  {
   "cell_type": "code",
   "execution_count": 44,
   "metadata": {},
   "outputs": [
    {
     "data": {
      "text/html": [
       "<div>\n",
       "<style scoped>\n",
       "    .dataframe tbody tr th:only-of-type {\n",
       "        vertical-align: middle;\n",
       "    }\n",
       "\n",
       "    .dataframe tbody tr th {\n",
       "        vertical-align: top;\n",
       "    }\n",
       "\n",
       "    .dataframe thead th {\n",
       "        text-align: right;\n",
       "    }\n",
       "</style>\n",
       "<table border=\"1\" class=\"dataframe\">\n",
       "  <thead>\n",
       "    <tr style=\"text-align: right;\">\n",
       "      <th>Gender</th>\n",
       "      <th>F</th>\n",
       "      <th>M</th>\n",
       "    </tr>\n",
       "    <tr>\n",
       "      <th>Year</th>\n",
       "      <th></th>\n",
       "      <th></th>\n",
       "    </tr>\n",
       "  </thead>\n",
       "  <tbody>\n",
       "    <tr>\n",
       "      <th>1880</th>\n",
       "      <td>9.10e+04</td>\n",
       "      <td>1.10e+05</td>\n",
       "    </tr>\n",
       "    <tr>\n",
       "      <th>1881</th>\n",
       "      <td>9.20e+04</td>\n",
       "      <td>1.01e+05</td>\n",
       "    </tr>\n",
       "    <tr>\n",
       "      <th>1882</th>\n",
       "      <td>1.08e+05</td>\n",
       "      <td>1.14e+05</td>\n",
       "    </tr>\n",
       "    <tr>\n",
       "      <th>1883</th>\n",
       "      <td>1.12e+05</td>\n",
       "      <td>1.05e+05</td>\n",
       "    </tr>\n",
       "    <tr>\n",
       "      <th>1884</th>\n",
       "      <td>1.29e+05</td>\n",
       "      <td>1.14e+05</td>\n",
       "    </tr>\n",
       "    <tr>\n",
       "      <th>1885</th>\n",
       "      <td>1.33e+05</td>\n",
       "      <td>1.08e+05</td>\n",
       "    </tr>\n",
       "    <tr>\n",
       "      <th>1886</th>\n",
       "      <td>1.45e+05</td>\n",
       "      <td>1.11e+05</td>\n",
       "    </tr>\n",
       "    <tr>\n",
       "      <th>...</th>\n",
       "      <td>...</td>\n",
       "      <td>...</td>\n",
       "    </tr>\n",
       "    <tr>\n",
       "      <th>1983</th>\n",
       "      <td>1.67e+06</td>\n",
       "      <td>1.79e+06</td>\n",
       "    </tr>\n",
       "    <tr>\n",
       "      <th>1984</th>\n",
       "      <td>1.68e+06</td>\n",
       "      <td>1.80e+06</td>\n",
       "    </tr>\n",
       "    <tr>\n",
       "      <th>1985</th>\n",
       "      <td>1.72e+06</td>\n",
       "      <td>1.85e+06</td>\n",
       "    </tr>\n",
       "    <tr>\n",
       "      <th>1986</th>\n",
       "      <td>1.72e+06</td>\n",
       "      <td>1.84e+06</td>\n",
       "    </tr>\n",
       "    <tr>\n",
       "      <th>1987</th>\n",
       "      <td>1.74e+06</td>\n",
       "      <td>1.87e+06</td>\n",
       "    </tr>\n",
       "    <tr>\n",
       "      <th>1988</th>\n",
       "      <td>1.78e+06</td>\n",
       "      <td>1.91e+06</td>\n",
       "    </tr>\n",
       "    <tr>\n",
       "      <th>1989</th>\n",
       "      <td>1.70e+06</td>\n",
       "      <td>NaN</td>\n",
       "    </tr>\n",
       "  </tbody>\n",
       "</table>\n",
       "<p>110 rows × 2 columns</p>\n",
       "</div>"
      ],
      "text/plain": [
       "Gender         F         M\n",
       "Year                      \n",
       "1880    9.10e+04  1.10e+05\n",
       "1881    9.20e+04  1.01e+05\n",
       "1882    1.08e+05  1.14e+05\n",
       "1883    1.12e+05  1.05e+05\n",
       "1884    1.29e+05  1.14e+05\n",
       "1885    1.33e+05  1.08e+05\n",
       "1886    1.45e+05  1.11e+05\n",
       "...          ...       ...\n",
       "1983    1.67e+06  1.79e+06\n",
       "1984    1.68e+06  1.80e+06\n",
       "1985    1.72e+06  1.85e+06\n",
       "1986    1.72e+06  1.84e+06\n",
       "1987    1.74e+06  1.87e+06\n",
       "1988    1.78e+06  1.91e+06\n",
       "1989    1.70e+06       NaN\n",
       "\n",
       "[110 rows x 2 columns]"
      ]
     },
     "execution_count": 44,
     "metadata": {},
     "output_type": "execute_result"
    }
   ],
   "source": [
    "pivot_year_name_count"
   ]
  },
  {
   "cell_type": "code",
   "execution_count": 48,
   "metadata": {},
   "outputs": [
    {
     "data": {
      "image/png": "[encoded data removed]",
      "text/plain": [
       "<Figure size 720x576 with 1 Axes>"
      ]
     },
     "metadata": {},
     "output_type": "display_data"
    }
   ],
   "source": [
    "pivot_year_name_count.plot(marker=\".\", figsize = (10,8))\n",
    "plt.title(\"Registered Names vs Year Stratified by Gender\")\n",
    "plt.gca().set_ylabel('Names Registered that Year');"
   ]
  },
  {
   "cell_type": "code",
   "execution_count": 49,
   "metadata": {},
   "outputs": [
    {
     "data": {
      "text/html": [
       "<div>\n",
       "<style scoped>\n",
       "    .dataframe tbody tr th:only-of-type {\n",
       "        vertical-align: middle;\n",
       "    }\n",
       "\n",
       "    .dataframe tbody tr th {\n",
       "        vertical-align: top;\n",
       "    }\n",
       "\n",
       "    .dataframe thead th {\n",
       "        text-align: right;\n",
       "    }\n",
       "</style>\n",
       "<table border=\"1\" class=\"dataframe\">\n",
       "  <thead>\n",
       "    <tr style=\"text-align: right;\">\n",
       "      <th>Gender</th>\n",
       "      <th>F</th>\n",
       "      <th>M</th>\n",
       "      <th>All</th>\n",
       "    </tr>\n",
       "    <tr>\n",
       "      <th>Name</th>\n",
       "      <th></th>\n",
       "      <th></th>\n",
       "      <th></th>\n",
       "    </tr>\n",
       "  </thead>\n",
       "  <tbody>\n",
       "    <tr>\n",
       "      <th>aadam</th>\n",
       "      <td>0</td>\n",
       "      <td>10</td>\n",
       "      <td>10</td>\n",
       "    </tr>\n",
       "    <tr>\n",
       "      <th>aadil</th>\n",
       "      <td>0</td>\n",
       "      <td>6</td>\n",
       "      <td>6</td>\n",
       "    </tr>\n",
       "    <tr>\n",
       "      <th>aage</th>\n",
       "      <td>0</td>\n",
       "      <td>7</td>\n",
       "      <td>7</td>\n",
       "    </tr>\n",
       "    <tr>\n",
       "      <th>aagot</th>\n",
       "      <td>5</td>\n",
       "      <td>0</td>\n",
       "      <td>5</td>\n",
       "    </tr>\n",
       "    <tr>\n",
       "      <th>aaisha</th>\n",
       "      <td>35</td>\n",
       "      <td>0</td>\n",
       "      <td>35</td>\n",
       "    </tr>\n",
       "    <tr>\n",
       "      <th>aakash</th>\n",
       "      <td>0</td>\n",
       "      <td>62</td>\n",
       "      <td>62</td>\n",
       "    </tr>\n",
       "    <tr>\n",
       "      <th>aaliya</th>\n",
       "      <td>5</td>\n",
       "      <td>0</td>\n",
       "      <td>5</td>\n",
       "    </tr>\n",
       "    <tr>\n",
       "      <th>...</th>\n",
       "      <td>...</td>\n",
       "      <td>...</td>\n",
       "      <td>...</td>\n",
       "    </tr>\n",
       "    <tr>\n",
       "      <th>zygmund</th>\n",
       "      <td>0</td>\n",
       "      <td>168</td>\n",
       "      <td>168</td>\n",
       "    </tr>\n",
       "    <tr>\n",
       "      <th>zygmunt</th>\n",
       "      <td>0</td>\n",
       "      <td>363</td>\n",
       "      <td>363</td>\n",
       "    </tr>\n",
       "    <tr>\n",
       "      <th>zykia</th>\n",
       "      <td>7</td>\n",
       "      <td>0</td>\n",
       "      <td>7</td>\n",
       "    </tr>\n",
       "    <tr>\n",
       "      <th>zylpha</th>\n",
       "      <td>84</td>\n",
       "      <td>0</td>\n",
       "      <td>84</td>\n",
       "    </tr>\n",
       "    <tr>\n",
       "      <th>zylphia</th>\n",
       "      <td>29</td>\n",
       "      <td>0</td>\n",
       "      <td>29</td>\n",
       "    </tr>\n",
       "    <tr>\n",
       "      <th>zyndall</th>\n",
       "      <td>0</td>\n",
       "      <td>14</td>\n",
       "      <td>14</td>\n",
       "    </tr>\n",
       "    <tr>\n",
       "      <th>All</th>\n",
       "      <td>121693259</td>\n",
       "      <td>119194167</td>\n",
       "      <td>240887426</td>\n",
       "    </tr>\n",
       "  </tbody>\n",
       "</table>\n",
       "<p>51152 rows × 3 columns</p>\n",
       "</div>"
      ],
      "text/plain": [
       "Gender           F          M        All\n",
       "Name                                    \n",
       "aadam            0         10         10\n",
       "aadil            0          6          6\n",
       "aage             0          7          7\n",
       "aagot            5          0          5\n",
       "aaisha          35          0         35\n",
       "aakash           0         62         62\n",
       "aaliya           5          0          5\n",
       "...            ...        ...        ...\n",
       "zygmund          0        168        168\n",
       "zygmunt          0        363        363\n",
       "zykia            7          0          7\n",
       "zylpha          84          0         84\n",
       "zylphia         29          0         29\n",
       "zyndall          0         14         14\n",
       "All      121693259  119194167  240887426\n",
       "\n",
       "[51152 rows x 3 columns]"
      ]
     },
     "execution_count": 49,
     "metadata": {},
     "output_type": "execute_result"
    }
   ],
   "source": [
    "babynames['Name'] = babynames['Name'].str.lower()\n",
    "\n",
    "gender_counts = pd.pivot_table(babynames, index='Name', columns='Gender', values='Count',\n",
    "                            aggfunc='sum', fill_value=0., margins=True)\n",
    "gender_counts"
   ]
  },
  {
   "cell_type": "code",
   "execution_count": 51,
   "metadata": {},
   "outputs": [
    {
     "data": {
      "text/html": [
       "<div>\n",
       "<style scoped>\n",
       "    .dataframe tbody tr th:only-of-type {\n",
       "        vertical-align: middle;\n",
       "    }\n",
       "\n",
       "    .dataframe tbody tr th {\n",
       "        vertical-align: top;\n",
       "    }\n",
       "\n",
       "    .dataframe thead th {\n",
       "        text-align: right;\n",
       "    }\n",
       "</style>\n",
       "<table border=\"1\" class=\"dataframe\">\n",
       "  <thead>\n",
       "    <tr style=\"text-align: right;\">\n",
       "      <th>Gender</th>\n",
       "      <th>F</th>\n",
       "      <th>M</th>\n",
       "      <th>All</th>\n",
       "      <th>prop_female</th>\n",
       "    </tr>\n",
       "    <tr>\n",
       "      <th>Name</th>\n",
       "      <th></th>\n",
       "      <th></th>\n",
       "      <th></th>\n",
       "      <th></th>\n",
       "    </tr>\n",
       "  </thead>\n",
       "  <tbody>\n",
       "    <tr>\n",
       "      <th>aadam</th>\n",
       "      <td>0</td>\n",
       "      <td>10</td>\n",
       "      <td>10</td>\n",
       "      <td>0.00</td>\n",
       "    </tr>\n",
       "    <tr>\n",
       "      <th>aadil</th>\n",
       "      <td>0</td>\n",
       "      <td>6</td>\n",
       "      <td>6</td>\n",
       "      <td>0.00</td>\n",
       "    </tr>\n",
       "    <tr>\n",
       "      <th>aage</th>\n",
       "      <td>0</td>\n",
       "      <td>7</td>\n",
       "      <td>7</td>\n",
       "      <td>0.00</td>\n",
       "    </tr>\n",
       "    <tr>\n",
       "      <th>aagot</th>\n",
       "      <td>5</td>\n",
       "      <td>0</td>\n",
       "      <td>5</td>\n",
       "      <td>1.00</td>\n",
       "    </tr>\n",
       "    <tr>\n",
       "      <th>aaisha</th>\n",
       "      <td>35</td>\n",
       "      <td>0</td>\n",
       "      <td>35</td>\n",
       "      <td>1.00</td>\n",
       "    </tr>\n",
       "    <tr>\n",
       "      <th>aakash</th>\n",
       "      <td>0</td>\n",
       "      <td>62</td>\n",
       "      <td>62</td>\n",
       "      <td>0.00</td>\n",
       "    </tr>\n",
       "    <tr>\n",
       "      <th>aaliya</th>\n",
       "      <td>5</td>\n",
       "      <td>0</td>\n",
       "      <td>5</td>\n",
       "      <td>1.00</td>\n",
       "    </tr>\n",
       "    <tr>\n",
       "      <th>...</th>\n",
       "      <td>...</td>\n",
       "      <td>...</td>\n",
       "      <td>...</td>\n",
       "      <td>...</td>\n",
       "    </tr>\n",
       "    <tr>\n",
       "      <th>zygmund</th>\n",
       "      <td>0</td>\n",
       "      <td>168</td>\n",
       "      <td>168</td>\n",
       "      <td>0.00</td>\n",
       "    </tr>\n",
       "    <tr>\n",
       "      <th>zygmunt</th>\n",
       "      <td>0</td>\n",
       "      <td>363</td>\n",
       "      <td>363</td>\n",
       "      <td>0.00</td>\n",
       "    </tr>\n",
       "    <tr>\n",
       "      <th>zykia</th>\n",
       "      <td>7</td>\n",
       "      <td>0</td>\n",
       "      <td>7</td>\n",
       "      <td>1.00</td>\n",
       "    </tr>\n",
       "    <tr>\n",
       "      <th>zylpha</th>\n",
       "      <td>84</td>\n",
       "      <td>0</td>\n",
       "      <td>84</td>\n",
       "      <td>1.00</td>\n",
       "    </tr>\n",
       "    <tr>\n",
       "      <th>zylphia</th>\n",
       "      <td>29</td>\n",
       "      <td>0</td>\n",
       "      <td>29</td>\n",
       "      <td>1.00</td>\n",
       "    </tr>\n",
       "    <tr>\n",
       "      <th>zyndall</th>\n",
       "      <td>0</td>\n",
       "      <td>14</td>\n",
       "      <td>14</td>\n",
       "      <td>0.00</td>\n",
       "    </tr>\n",
       "    <tr>\n",
       "      <th>All</th>\n",
       "      <td>121693259</td>\n",
       "      <td>119194167</td>\n",
       "      <td>240887426</td>\n",
       "      <td>0.51</td>\n",
       "    </tr>\n",
       "  </tbody>\n",
       "</table>\n",
       "<p>51152 rows × 4 columns</p>\n",
       "</div>"
      ],
      "text/plain": [
       "Gender           F          M        All  prop_female\n",
       "Name                                                 \n",
       "aadam            0         10         10         0.00\n",
       "aadil            0          6          6         0.00\n",
       "aage             0          7          7         0.00\n",
       "aagot            5          0          5         1.00\n",
       "aaisha          35          0         35         1.00\n",
       "aakash           0         62         62         0.00\n",
       "aaliya           5          0          5         1.00\n",
       "...            ...        ...        ...          ...\n",
       "zygmund          0        168        168         0.00\n",
       "zygmunt          0        363        363         0.00\n",
       "zykia            7          0          7         1.00\n",
       "zylpha          84          0         84         1.00\n",
       "zylphia         29          0         29         1.00\n",
       "zyndall          0         14         14         0.00\n",
       "All      121693259  119194167  240887426         0.51\n",
       "\n",
       "[51152 rows x 4 columns]"
      ]
     },
     "execution_count": 51,
     "metadata": {},
     "output_type": "execute_result"
    }
   ],
   "source": [
    "prop_female = gender_counts['F'] / gender_counts['All']\n",
    "gender_counts['prop_female'] = prop_female\n",
    "gender_counts"
   ]
  },
  {
   "cell_type": "code",
   "execution_count": 52,
   "metadata": {},
   "outputs": [
    {
     "data": {
      "text/plain": [
       "'M'"
      ]
     },
     "execution_count": 52,
     "metadata": {},
     "output_type": "execute_result"
    }
   ],
   "source": [
    "def gender_from_name(name):\n",
    "    if name in gender_counts.index:\n",
    "        prop = gender_counts.loc[name, 'prop_female']\n",
    "        return 'F' if prop > 0.5 else 'M'\n",
    "    else:\n",
    "        return 'Name not in dataset'\n",
    "\n",
    "gender_from_name('daniel')"
   ]
  },
  {
   "cell_type": "code",
   "execution_count": 31,
   "metadata": {},
   "outputs": [
    {
     "data": {
      "application/vnd.jupyter.widget-view+json": {
       "model_id": "",
       "version_major": 2,
       "version_minor": 0
      },
      "text/plain": [
       "interactive(children=(Text(value='chris', description='name'), Output()), _dom_classes=('widget-interact',))"
      ]
     },
     "metadata": {},
     "output_type": "display_data"
    }
   ],
   "source": [
    "interact(gender_from_name, name='chris');"
   ]
  },
  {
   "cell_type": "code",
   "execution_count": 53,
   "metadata": {},
   "outputs": [
    {
     "data": {
      "text/html": [
       "<div>\n",
       "<style scoped>\n",
       "    .dataframe tbody tr th:only-of-type {\n",
       "        vertical-align: middle;\n",
       "    }\n",
       "\n",
       "    .dataframe tbody tr th {\n",
       "        vertical-align: top;\n",
       "    }\n",
       "\n",
       "    .dataframe thead th {\n",
       "        text-align: right;\n",
       "    }\n",
       "</style>\n",
       "<table border=\"1\" class=\"dataframe\">\n",
       "  <thead>\n",
       "    <tr style=\"text-align: right;\">\n",
       "      <th></th>\n",
       "      <th>Name</th>\n",
       "      <th>Site Role</th>\n",
       "      <th>Prediction</th>\n",
       "    </tr>\n",
       "  </thead>\n",
       "  <tbody>\n",
       "    <tr>\n",
       "      <th>0</th>\n",
       "      <td>adia</td>\n",
       "      <td>Student</td>\n",
       "      <td>F</td>\n",
       "    </tr>\n",
       "    <tr>\n",
       "      <th>1</th>\n",
       "      <td>aditya</td>\n",
       "      <td>Student</td>\n",
       "      <td>M</td>\n",
       "    </tr>\n",
       "    <tr>\n",
       "      <th>2</th>\n",
       "      <td>andy</td>\n",
       "      <td>Student</td>\n",
       "      <td>M</td>\n",
       "    </tr>\n",
       "    <tr>\n",
       "      <th>3</th>\n",
       "      <td>anya</td>\n",
       "      <td>Student</td>\n",
       "      <td>F</td>\n",
       "    </tr>\n",
       "    <tr>\n",
       "      <th>4</th>\n",
       "      <td>avery</td>\n",
       "      <td>Student</td>\n",
       "      <td>M</td>\n",
       "    </tr>\n",
       "  </tbody>\n",
       "</table>\n",
       "</div>"
      ],
      "text/plain": [
       "     Name Site Role Prediction\n",
       "0    adia   Student          F\n",
       "1  aditya   Student          M\n",
       "2    andy   Student          M\n",
       "3    anya   Student          F\n",
       "4   avery   Student          M"
      ]
     },
     "execution_count": 53,
     "metadata": {},
     "output_type": "execute_result"
    }
   ],
   "source": [
    "students['Prediction_gender'] = students['Name'].apply(gender_from_name)\n",
    "students.head()"
   ]
  },
  {
   "cell_type": "markdown",
   "metadata": {},
   "source": [
    "### Age"
   ]
  },
  {
   "cell_type": "code",
   "execution_count": 22,
   "metadata": {},
   "outputs": [
    {
     "data": {
      "text/html": [
       "<div>\n",
       "<style scoped>\n",
       "    .dataframe tbody tr th:only-of-type {\n",
       "        vertical-align: middle;\n",
       "    }\n",
       "\n",
       "    .dataframe tbody tr th {\n",
       "        vertical-align: top;\n",
       "    }\n",
       "\n",
       "    .dataframe thead th {\n",
       "        text-align: right;\n",
       "    }\n",
       "</style>\n",
       "<table border=\"1\" class=\"dataframe\">\n",
       "  <thead>\n",
       "    <tr style=\"text-align: right;\">\n",
       "      <th></th>\n",
       "      <th>avg_year</th>\n",
       "    </tr>\n",
       "    <tr>\n",
       "      <th>Name</th>\n",
       "      <th></th>\n",
       "    </tr>\n",
       "  </thead>\n",
       "  <tbody>\n",
       "    <tr>\n",
       "      <th>aadam</th>\n",
       "      <td>1987.50</td>\n",
       "    </tr>\n",
       "    <tr>\n",
       "      <th>aadil</th>\n",
       "      <td>1985.00</td>\n",
       "    </tr>\n",
       "    <tr>\n",
       "      <th>aage</th>\n",
       "      <td>1915.00</td>\n",
       "    </tr>\n",
       "    <tr>\n",
       "      <th>aagot</th>\n",
       "      <td>1915.00</td>\n",
       "    </tr>\n",
       "    <tr>\n",
       "      <th>aaisha</th>\n",
       "      <td>1985.37</td>\n",
       "    </tr>\n",
       "    <tr>\n",
       "      <th>aakash</th>\n",
       "      <td>1984.74</td>\n",
       "    </tr>\n",
       "    <tr>\n",
       "      <th>aaliya</th>\n",
       "      <td>1988.00</td>\n",
       "    </tr>\n",
       "    <tr>\n",
       "      <th>...</th>\n",
       "      <td>...</td>\n",
       "    </tr>\n",
       "    <tr>\n",
       "      <th>zygmont</th>\n",
       "      <td>1919.16</td>\n",
       "    </tr>\n",
       "    <tr>\n",
       "      <th>zygmund</th>\n",
       "      <td>1920.02</td>\n",
       "    </tr>\n",
       "    <tr>\n",
       "      <th>zygmunt</th>\n",
       "      <td>1923.86</td>\n",
       "    </tr>\n",
       "    <tr>\n",
       "      <th>zykia</th>\n",
       "      <td>1988.00</td>\n",
       "    </tr>\n",
       "    <tr>\n",
       "      <th>zylpha</th>\n",
       "      <td>1909.49</td>\n",
       "    </tr>\n",
       "    <tr>\n",
       "      <th>zylphia</th>\n",
       "      <td>1920.97</td>\n",
       "    </tr>\n",
       "    <tr>\n",
       "      <th>zyndall</th>\n",
       "      <td>1959.64</td>\n",
       "    </tr>\n",
       "  </tbody>\n",
       "</table>\n",
       "<p>51151 rows × 1 columns</p>\n",
       "</div>"
      ],
      "text/plain": [
       "         avg_year\n",
       "Name             \n",
       "aadam     1987.50\n",
       "aadil     1985.00\n",
       "aage      1915.00\n",
       "aagot     1915.00\n",
       "aaisha    1985.37\n",
       "aakash    1984.74\n",
       "aaliya    1988.00\n",
       "...           ...\n",
       "zygmont   1919.16\n",
       "zygmund   1920.02\n",
       "zygmunt   1923.86\n",
       "zykia     1988.00\n",
       "zylpha    1909.49\n",
       "zylphia   1920.97\n",
       "zyndall   1959.64\n",
       "\n",
       "[51151 rows x 1 columns]"
      ]
     },
     "execution_count": 22,
     "metadata": {},
     "output_type": "execute_result"
    }
   ],
   "source": [
    "def avg_year(group):\n",
    "    return np.average(group['Year'], weights=group['Count'])\n",
    "\n",
    "avg_years = (\n",
    "    babynames\n",
    "    .groupby('Name')\n",
    "    .apply(avg_year)\n",
    "    .rename('avg_year')\n",
    "    .to_frame()\n",
    ")\n",
    "avg_years"
   ]
  },
  {
   "cell_type": "code",
   "execution_count": 37,
   "metadata": {},
   "outputs": [],
   "source": [
    "def age_from_name(name):\n",
    "    if name in avg_years.index:\n",
    "        value = int(avg_years.loc[name, 'avg_year'])\n",
    "        years = (dt.now() - dt(value,1,1)).days // 365 \n",
    "        return years\n",
    "    else:\n",
    "        return 'Name not in dataset'"
   ]
  },
  {
   "cell_type": "code",
   "execution_count": 40,
   "metadata": {},
   "outputs": [
    {
     "data": {
      "text/plain": [
       "57"
      ]
     },
     "metadata": {},
     "output_type": "display_data"
    }
   ],
   "source": [
    "interact(age_from_name, name='daniel');"
   ]
  },
  {
   "cell_type": "code",
   "execution_count": 41,
   "metadata": {},
   "outputs": [
    {
     "data": {
      "text/html": [
       "<div>\n",
       "<style scoped>\n",
       "    .dataframe tbody tr th:only-of-type {\n",
       "        vertical-align: middle;\n",
       "    }\n",
       "\n",
       "    .dataframe tbody tr th {\n",
       "        vertical-align: top;\n",
       "    }\n",
       "\n",
       "    .dataframe thead th {\n",
       "        text-align: right;\n",
       "    }\n",
       "</style>\n",
       "<table border=\"1\" class=\"dataframe\">\n",
       "  <thead>\n",
       "    <tr style=\"text-align: right;\">\n",
       "      <th></th>\n",
       "      <th>Name</th>\n",
       "      <th>Site Role</th>\n",
       "      <th>Prediction_gender</th>\n",
       "      <th>Prediction_age</th>\n",
       "    </tr>\n",
       "  </thead>\n",
       "  <tbody>\n",
       "    <tr>\n",
       "      <th>0</th>\n",
       "      <td>adia</td>\n",
       "      <td>Student</td>\n",
       "      <td>F</td>\n",
       "      <td>42</td>\n",
       "    </tr>\n",
       "    <tr>\n",
       "      <th>1</th>\n",
       "      <td>aditya</td>\n",
       "      <td>Student</td>\n",
       "      <td>M</td>\n",
       "      <td>36</td>\n",
       "    </tr>\n",
       "    <tr>\n",
       "      <th>2</th>\n",
       "      <td>andy</td>\n",
       "      <td>Student</td>\n",
       "      <td>M</td>\n",
       "      <td>62</td>\n",
       "    </tr>\n",
       "    <tr>\n",
       "      <th>3</th>\n",
       "      <td>anya</td>\n",
       "      <td>Student</td>\n",
       "      <td>F</td>\n",
       "      <td>42</td>\n",
       "    </tr>\n",
       "    <tr>\n",
       "      <th>4</th>\n",
       "      <td>avery</td>\n",
       "      <td>Student</td>\n",
       "      <td>M</td>\n",
       "      <td>63</td>\n",
       "    </tr>\n",
       "  </tbody>\n",
       "</table>\n",
       "</div>"
      ],
      "text/plain": [
       "     Name Site Role Prediction_gender Prediction_age\n",
       "0    adia   Student                 F             42\n",
       "1  aditya   Student                 M             36\n",
       "2    andy   Student                 M             62\n",
       "3    anya   Student                 F             42\n",
       "4   avery   Student                 M             63"
      ]
     },
     "execution_count": 41,
     "metadata": {},
     "output_type": "execute_result"
    }
   ],
   "source": [
    "students['Prediction_age'] = students['Name'].apply(age_from_name)\n",
    "students.head()"
   ]
  },
  {
   "cell_type": "markdown",
   "metadata": {},
   "source": [
    "### Probability "
   ]
  },
  {
   "cell_type": "markdown",
   "metadata": {},
   "source": [
    "Calculate probability through counting occurences"
   ]
  },
  {
   "cell_type": "markdown",
   "metadata": {},
   "source": [
    "$$ \\large\n",
    "\\textbf{P}\\hspace{0pt}(\\texttt{Year} \\,\\,\\, | \\,\\,\\, \\texttt{Name} ) = \\frac{\\textbf{Count}(\\texttt{Year and Name})}{\\textbf{Count}(\\texttt{Name})}\n",
    "$$"
   ]
  },
  {
   "cell_type": "markdown",
   "metadata": {},
   "source": [
    "Conditional probability in Bayes rule"
   ]
  },
  {
   "cell_type": "markdown",
   "metadata": {},
   "source": [
    "$$ \\large\n",
    "\\textbf{P}\\hspace{0pt}(\\texttt{Year} \\,\\,\\, | \\,\\,\\, \\texttt{Name} ) = \\frac{\\textbf{P}\\hspace{0pt}(\\texttt{Name} \\,\\,\\, | \\,\\,\\, \\texttt{Year} ) \\; \\textbf{P}\\hspace{0pt}(\\texttt{Year})}{\\textbf{P}(\\texttt{Name})}\n",
    "$$"
   ]
  },
  {
   "cell_type": "markdown",
   "metadata": {},
   "source": [
    "This gives us a way to incorporate our knowledge of the problem."
   ]
  }
 ],
 "metadata": {
  "kernelspec": {
   "display_name": "Python 3",
   "language": "python",
   "name": "python3"
  },
  "language_info": {
   "codemirror_mode": {
    "name": "ipython",
    "version": 3
   },
   "file_extension": ".py",
   "mimetype": "text/x-python",
   "name": "python",
   "nbconvert_exporter": "python",
   "pygments_lexer": "ipython3",
   "version": "3.7.3"
  }
 },
 "nbformat": 4,
 "nbformat_minor": 4
}
