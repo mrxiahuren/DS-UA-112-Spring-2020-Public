{
 "cells": [
  {
   "cell_type": "markdown",
   "metadata": {},
   "source": [
    "### Exercise\n",
    "\n",
    "#### What is a byte?\n",
    "\n",
    "We will learn more about byte in Week 6. There we will try to understand the size of a file in terms of the size of the underlying data. The **byte** is a unit of information on the computer consisting of eight **bits**. Each bit is 0 or 1 to indicate off or on in the storage. Since we need to represent numbers as a sequence of bits on the computer, we need a way to convert between **decimal** format and **binary** format.\n",
    "\n",
    "##### Example\n",
    "\n",
    "10 is a decimal format number with representation 1010 as a binary format number. Here 1010 indicates $$1 \\cdot 2^3 + 0 \\cdot 2^2 + 1 \\cdot 2^1 + 0 \\cdot 2^0$$ just like 10 indicates $$1 \\cdot 10^1 + 0 \\cdot 10^0 \\ . $$ Note that the bit corresponding to the largest power of 2 is on the left just like the digit corresponding to the largest power of 10 is on the left. This is nick-named \"big-endian\" as opposed to \"little-endian\"."
   ]
  },
  {
   "cell_type": "code",
   "execution_count": 1,
   "metadata": {},
   "outputs": [
    {
     "name": "stdout",
     "output_type": "stream",
     "text": [
      "The reprsentation for 10 in binary format is 0b1010\n"
     ]
    }
   ],
   "source": [
    "integer_number = 10 \n",
    "binary_number = bin(integer_number)\n",
    "\n",
    "print(f\"The reprsentation for {integer_number} in binary format is {binary_number}\")"
   ]
  },
  {
   "cell_type": "markdown",
   "metadata": {},
   "source": [
    "What is the `type` of `binary_number`?"
   ]
  },
  {
   "cell_type": "code",
   "execution_count": 8,
   "metadata": {},
   "outputs": [],
   "source": [
    "# YOUR ANSWER HERE"
   ]
  },
  {
   "cell_type": "markdown",
   "metadata": {},
   "source": [
    "str"
   ]
  },
  {
   "cell_type": "markdown",
   "metadata": {},
   "source": [
    "How can you remove the `0b` from `binary_number`?"
   ]
  },
  {
   "cell_type": "code",
   "execution_count": 17,
   "metadata": {},
   "outputs": [],
   "source": [
    "# YOUR ANSWER HERE"
   ]
  },
  {
   "cell_type": "code",
   "execution_count": 2,
   "metadata": {},
   "outputs": [
    {
     "data": {
      "text/plain": [
       "'1010'"
      ]
     },
     "execution_count": 2,
     "metadata": {},
     "output_type": "execute_result"
    }
   ],
   "source": [
    "binary_number[2:]"
   ]
  },
  {
   "cell_type": "markdown",
   "metadata": {},
   "source": [
    "Write a function called `calculate_powers_2` that inputs an integer $n$ and outputs the largest integer $m$ such that $2^{m} \\leq n$"
   ]
  },
  {
   "cell_type": "code",
   "execution_count": null,
   "metadata": {},
   "outputs": [],
   "source": [
    "# YOUR ANSWER HERE"
   ]
  },
  {
   "cell_type": "code",
   "execution_count": 2,
   "metadata": {},
   "outputs": [
    {
     "data": {
      "text/plain": [
       "3"
      ]
     },
     "execution_count": 2,
     "metadata": {},
     "output_type": "execute_result"
    }
   ],
   "source": [
    "def calculate_powers_2(number):\n",
    "    output = -1\n",
    "    while (number >= 1):\n",
    "        number = number / 2\n",
    "        output = output + 1\n",
    "    \n",
    "    return output \n",
    "\n",
    "calculate_powers_2(10)"
   ]
  },
  {
   "cell_type": "code",
   "execution_count": 3,
   "metadata": {},
   "outputs": [],
   "source": [
    "assert calculate_powers_2(10) == 3"
   ]
  },
  {
   "cell_type": "markdown",
   "metadata": {},
   "source": [
    "How could we use `calculate_powers_2` to write our own version of `bin` to convert between decimal format and binary format?"
   ]
  },
  {
   "cell_type": "code",
   "execution_count": 4,
   "metadata": {},
   "outputs": [],
   "source": [
    "def my_bin(integer_number):\n",
    "    number_bits = calculate_powers_2(integer_number) + 1\n",
    "    list_output = number_bits * [str(0)]\n",
    "    \n",
    "    while (integer_number > 0):\n",
    "        exponent = calculate_powers_2(integer_number)\n",
    "        \n",
    "        position = number_bits - 1 - exponent\n",
    "        list_output[position] = str(1)\n",
    "        \n",
    "        integer_number = integer_number - (2**exponent)\n",
    "        \n",
    "    return \"\".join(list_output)"
   ]
  },
  {
   "cell_type": "code",
   "execution_count": 5,
   "metadata": {},
   "outputs": [],
   "source": [
    "assert my_bin(10) == binary_number[2:]"
   ]
  }
 ],
 "metadata": {
  "kernelspec": {
   "display_name": "Python 3",
   "language": "python",
   "name": "python3"
  },
  "language_info": {
   "codemirror_mode": {
    "name": "ipython",
    "version": 3
   },
   "file_extension": ".py",
   "mimetype": "text/x-python",
   "name": "python",
   "nbconvert_exporter": "python",
   "pygments_lexer": "ipython3",
   "version": "3.7.6"
  }
 },
 "nbformat": 4,
 "nbformat_minor": 2
}
