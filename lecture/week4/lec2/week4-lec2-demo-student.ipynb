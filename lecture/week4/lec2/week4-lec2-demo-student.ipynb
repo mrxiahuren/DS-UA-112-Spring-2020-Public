{
 "cells": [
  {
   "cell_type": "markdown",
   "metadata": {},
   "source": [
    "## Demo Week 4: Lecture 2"
   ]
  },
  {
   "cell_type": "markdown",
   "metadata": {},
   "source": [
    "In this demonstration we want to understand components of the `pandas` package. We will look at useful tools for\n",
    "\n",
    "- Inpecting a Table \n",
    "- Sorting the Numbers in a Table \n",
    "- Summarizing through Statistics like Average and Standard Deviation\n",
    "\n",
    "We will focus on two operations: grouping and pivoting\n",
    "\n",
    "- groupby function for pulling together rows according to some pattern\n",
    "- operation \n",
    " * agg\n",
    " * size \n",
    " * filter\n",
    "- pivot tables for grouping with two patterns"
   ]
  },
  {
   "cell_type": "code",
   "execution_count": 1,
   "metadata": {},
   "outputs": [],
   "source": [
    "%matplotlib inline\n",
    "import matplotlib.pyplot as plt\n",
    "import seaborn as sns\n",
    "import numpy as np\n",
    "import pandas as pd\n",
    "import os\n",
    "from IPython.display import Image"
   ]
  },
  {
   "cell_type": "markdown",
   "metadata": {},
   "source": [
    "#### Useful Tools"
   ]
  },
  {
   "cell_type": "code",
   "execution_count": 212,
   "metadata": {},
   "outputs": [],
   "source": [
    "elections = pd.read_csv(os.environ[\"HOME\"] + \"/shared/election_data.csv\")"
   ]
  },
  {
   "cell_type": "markdown",
   "metadata": {},
   "source": [
    "##### Look at the data"
   ]
  },
  {
   "cell_type": "code",
   "execution_count": 9,
   "metadata": {},
   "outputs": [
    {
     "data": {
      "text/html": [
       "<div>\n",
       "<style scoped>\n",
       "    .dataframe tbody tr th:only-of-type {\n",
       "        vertical-align: middle;\n",
       "    }\n",
       "\n",
       "    .dataframe tbody tr th {\n",
       "        vertical-align: top;\n",
       "    }\n",
       "\n",
       "    .dataframe thead th {\n",
       "        text-align: right;\n",
       "    }\n",
       "</style>\n",
       "<table border=\"1\" class=\"dataframe\">\n",
       "  <thead>\n",
       "    <tr style=\"text-align: right;\">\n",
       "      <th></th>\n",
       "      <th>Year</th>\n",
       "      <th>Candidate</th>\n",
       "      <th>Party</th>\n",
       "      <th>Popular vote</th>\n",
       "      <th>Result</th>\n",
       "      <th>%</th>\n",
       "    </tr>\n",
       "  </thead>\n",
       "  <tbody>\n",
       "    <tr>\n",
       "      <th>0</th>\n",
       "      <td>1824</td>\n",
       "      <td>Andrew Jackson</td>\n",
       "      <td>Democratic-Republican</td>\n",
       "      <td>151271</td>\n",
       "      <td>loss</td>\n",
       "      <td>57.210122</td>\n",
       "    </tr>\n",
       "    <tr>\n",
       "      <th>1</th>\n",
       "      <td>1824</td>\n",
       "      <td>John Quincy Adams</td>\n",
       "      <td>Democratic-Republican</td>\n",
       "      <td>113142</td>\n",
       "      <td>win</td>\n",
       "      <td>42.789878</td>\n",
       "    </tr>\n",
       "    <tr>\n",
       "      <th>2</th>\n",
       "      <td>1828</td>\n",
       "      <td>Andrew Jackson</td>\n",
       "      <td>Democratic</td>\n",
       "      <td>642806</td>\n",
       "      <td>win</td>\n",
       "      <td>56.203927</td>\n",
       "    </tr>\n",
       "  </tbody>\n",
       "</table>\n",
       "</div>"
      ],
      "text/plain": [
       "   Year          Candidate                  Party  Popular vote Result  \\\n",
       "0  1824     Andrew Jackson  Democratic-Republican        151271   loss   \n",
       "1  1824  John Quincy Adams  Democratic-Republican        113142    win   \n",
       "2  1828     Andrew Jackson             Democratic        642806    win   \n",
       "\n",
       "           %  \n",
       "0  57.210122  \n",
       "1  42.789878  \n",
       "2  56.203927  "
      ]
     },
     "execution_count": 9,
     "metadata": {},
     "output_type": "execute_result"
    }
   ],
   "source": [
    "elections.head(3)"
   ]
  },
  {
   "cell_type": "code",
   "execution_count": 10,
   "metadata": {},
   "outputs": [
    {
     "data": {
      "text/html": [
       "<div>\n",
       "<style scoped>\n",
       "    .dataframe tbody tr th:only-of-type {\n",
       "        vertical-align: middle;\n",
       "    }\n",
       "\n",
       "    .dataframe tbody tr th {\n",
       "        vertical-align: top;\n",
       "    }\n",
       "\n",
       "    .dataframe thead th {\n",
       "        text-align: right;\n",
       "    }\n",
       "</style>\n",
       "<table border=\"1\" class=\"dataframe\">\n",
       "  <thead>\n",
       "    <tr style=\"text-align: right;\">\n",
       "      <th></th>\n",
       "      <th>Year</th>\n",
       "      <th>Candidate</th>\n",
       "      <th>Party</th>\n",
       "      <th>Popular vote</th>\n",
       "      <th>Result</th>\n",
       "      <th>%</th>\n",
       "    </tr>\n",
       "  </thead>\n",
       "  <tbody>\n",
       "    <tr>\n",
       "      <th>173</th>\n",
       "      <td>2016</td>\n",
       "      <td>Donald Trump</td>\n",
       "      <td>Republican</td>\n",
       "      <td>62984828</td>\n",
       "      <td>win</td>\n",
       "      <td>46.407862</td>\n",
       "    </tr>\n",
       "    <tr>\n",
       "      <th>174</th>\n",
       "      <td>2016</td>\n",
       "      <td>Evan McMullin</td>\n",
       "      <td>Independent</td>\n",
       "      <td>732273</td>\n",
       "      <td>loss</td>\n",
       "      <td>0.539546</td>\n",
       "    </tr>\n",
       "    <tr>\n",
       "      <th>175</th>\n",
       "      <td>2016</td>\n",
       "      <td>Gary Johnson</td>\n",
       "      <td>Libertarian</td>\n",
       "      <td>4489235</td>\n",
       "      <td>loss</td>\n",
       "      <td>3.307714</td>\n",
       "    </tr>\n",
       "    <tr>\n",
       "      <th>176</th>\n",
       "      <td>2016</td>\n",
       "      <td>Hillary Clinton</td>\n",
       "      <td>Democratic</td>\n",
       "      <td>65853514</td>\n",
       "      <td>loss</td>\n",
       "      <td>48.521539</td>\n",
       "    </tr>\n",
       "    <tr>\n",
       "      <th>177</th>\n",
       "      <td>2016</td>\n",
       "      <td>Jill Stein</td>\n",
       "      <td>Green</td>\n",
       "      <td>1457226</td>\n",
       "      <td>loss</td>\n",
       "      <td>1.073699</td>\n",
       "    </tr>\n",
       "  </tbody>\n",
       "</table>\n",
       "</div>"
      ],
      "text/plain": [
       "     Year        Candidate        Party  Popular vote Result          %\n",
       "173  2016     Donald Trump   Republican      62984828    win  46.407862\n",
       "174  2016    Evan McMullin  Independent        732273   loss   0.539546\n",
       "175  2016     Gary Johnson  Libertarian       4489235   loss   3.307714\n",
       "176  2016  Hillary Clinton   Democratic      65853514   loss  48.521539\n",
       "177  2016       Jill Stein        Green       1457226   loss   1.073699"
      ]
     },
     "execution_count": 10,
     "metadata": {},
     "output_type": "execute_result"
    }
   ],
   "source": [
    "elections.tail(5)"
   ]
  },
  {
   "cell_type": "code",
   "execution_count": 38,
   "metadata": {},
   "outputs": [
    {
     "data": {
      "text/html": [
       "<div>\n",
       "<style scoped>\n",
       "    .dataframe tbody tr th:only-of-type {\n",
       "        vertical-align: middle;\n",
       "    }\n",
       "\n",
       "    .dataframe tbody tr th {\n",
       "        vertical-align: top;\n",
       "    }\n",
       "\n",
       "    .dataframe thead th {\n",
       "        text-align: right;\n",
       "    }\n",
       "</style>\n",
       "<table border=\"1\" class=\"dataframe\">\n",
       "  <thead>\n",
       "    <tr style=\"text-align: right;\">\n",
       "      <th></th>\n",
       "      <th>Year</th>\n",
       "      <th>Candidate</th>\n",
       "      <th>Party</th>\n",
       "      <th>Popular vote</th>\n",
       "      <th>Result</th>\n",
       "      <th>%</th>\n",
       "    </tr>\n",
       "  </thead>\n",
       "  <tbody>\n",
       "    <tr>\n",
       "      <th>119</th>\n",
       "      <td>1972</td>\n",
       "      <td>John G. Schmitz</td>\n",
       "      <td>American Independent</td>\n",
       "      <td>1100868</td>\n",
       "      <td>loss</td>\n",
       "      <td>1.421524</td>\n",
       "    </tr>\n",
       "    <tr>\n",
       "      <th>25</th>\n",
       "      <td>1860</td>\n",
       "      <td>John C. Breckinridge</td>\n",
       "      <td>Southern Democratic</td>\n",
       "      <td>848019</td>\n",
       "      <td>loss</td>\n",
       "      <td>18.138998</td>\n",
       "    </tr>\n",
       "    <tr>\n",
       "      <th>16</th>\n",
       "      <td>1848</td>\n",
       "      <td>Zachary Taylor</td>\n",
       "      <td>Whig</td>\n",
       "      <td>1360235</td>\n",
       "      <td>win</td>\n",
       "      <td>47.309296</td>\n",
       "    </tr>\n",
       "    <tr>\n",
       "      <th>55</th>\n",
       "      <td>1900</td>\n",
       "      <td>William Jennings Bryan</td>\n",
       "      <td>Democratic</td>\n",
       "      <td>6370932</td>\n",
       "      <td>loss</td>\n",
       "      <td>46.130540</td>\n",
       "    </tr>\n",
       "    <tr>\n",
       "      <th>149</th>\n",
       "      <td>1996</td>\n",
       "      <td>Ralph Nader</td>\n",
       "      <td>Green</td>\n",
       "      <td>685297</td>\n",
       "      <td>loss</td>\n",
       "      <td>0.712721</td>\n",
       "    </tr>\n",
       "    <tr>\n",
       "      <th>65</th>\n",
       "      <td>1908</td>\n",
       "      <td>William Taft</td>\n",
       "      <td>Republican</td>\n",
       "      <td>7678335</td>\n",
       "      <td>win</td>\n",
       "      <td>52.013300</td>\n",
       "    </tr>\n",
       "    <tr>\n",
       "      <th>19</th>\n",
       "      <td>1852</td>\n",
       "      <td>Winfield Scott</td>\n",
       "      <td>Whig</td>\n",
       "      <td>1386942</td>\n",
       "      <td>loss</td>\n",
       "      <td>44.056548</td>\n",
       "    </tr>\n",
       "    <tr>\n",
       "      <th>97</th>\n",
       "      <td>1944</td>\n",
       "      <td>Franklin Roosevelt</td>\n",
       "      <td>Democratic</td>\n",
       "      <td>25612916</td>\n",
       "      <td>win</td>\n",
       "      <td>53.773801</td>\n",
       "    </tr>\n",
       "    <tr>\n",
       "      <th>33</th>\n",
       "      <td>1876</td>\n",
       "      <td>Rutherford Hayes</td>\n",
       "      <td>Republican</td>\n",
       "      <td>4034142</td>\n",
       "      <td>win</td>\n",
       "      <td>48.471624</td>\n",
       "    </tr>\n",
       "    <tr>\n",
       "      <th>24</th>\n",
       "      <td>1860</td>\n",
       "      <td>John Bell</td>\n",
       "      <td>Constitutional Union</td>\n",
       "      <td>590901</td>\n",
       "      <td>loss</td>\n",
       "      <td>12.639283</td>\n",
       "    </tr>\n",
       "  </tbody>\n",
       "</table>\n",
       "</div>"
      ],
      "text/plain": [
       "     Year               Candidate                 Party  Popular vote Result  \\\n",
       "119  1972         John G. Schmitz  American Independent       1100868   loss   \n",
       "25   1860    John C. Breckinridge   Southern Democratic        848019   loss   \n",
       "16   1848          Zachary Taylor                  Whig       1360235    win   \n",
       "55   1900  William Jennings Bryan            Democratic       6370932   loss   \n",
       "149  1996             Ralph Nader                 Green        685297   loss   \n",
       "65   1908            William Taft            Republican       7678335    win   \n",
       "19   1852          Winfield Scott                  Whig       1386942   loss   \n",
       "97   1944      Franklin Roosevelt            Democratic      25612916    win   \n",
       "33   1876        Rutherford Hayes            Republican       4034142    win   \n",
       "24   1860               John Bell  Constitutional Union        590901   loss   \n",
       "\n",
       "             %  \n",
       "119   1.421524  \n",
       "25   18.138998  \n",
       "16   47.309296  \n",
       "55   46.130540  \n",
       "149   0.712721  \n",
       "65   52.013300  \n",
       "19   44.056548  \n",
       "97   53.773801  \n",
       "33   48.471624  \n",
       "24   12.639283  "
      ]
     },
     "execution_count": 38,
     "metadata": {},
     "output_type": "execute_result"
    }
   ],
   "source": [
    "elections.sample(10)"
   ]
  },
  {
   "cell_type": "code",
   "execution_count": 17,
   "metadata": {},
   "outputs": [
    {
     "data": {
      "text/plain": [
       "(178, 6)"
      ]
     },
     "execution_count": 17,
     "metadata": {},
     "output_type": "execute_result"
    }
   ],
   "source": [
    "elections.shape"
   ]
  },
  {
   "cell_type": "code",
   "execution_count": 19,
   "metadata": {},
   "outputs": [
    {
     "data": {
      "text/plain": [
       "array([  0,   1,   2,   3,   4,   5,   6,   7,   8,   9,  10,  11,  12,\n",
       "        13,  14,  15,  16,  17,  18,  19,  20,  21,  22,  23,  24,  25,\n",
       "        26,  27,  28,  29,  30,  31,  32,  33,  34,  35,  36,  37,  38,\n",
       "        39,  40,  41,  42,  43,  44,  45,  46,  47,  48,  49,  50,  51,\n",
       "        52,  53,  54,  55,  56,  57,  58,  59,  60,  61,  62,  63,  64,\n",
       "        65,  66,  67,  68,  69,  70,  71,  72,  73,  74,  75,  76,  77,\n",
       "        78,  79,  80,  81,  82,  83,  84,  85,  86,  87,  88,  89,  90,\n",
       "        91,  92,  93,  94,  95,  96,  97,  98,  99, 100, 101, 102, 103,\n",
       "       104, 105, 106, 107, 108, 109, 110, 111, 112, 113, 114, 115, 116,\n",
       "       117, 118, 119, 120, 121, 122, 123, 124, 125, 126, 127, 128, 129,\n",
       "       130, 131, 132, 133, 134, 135, 136, 137, 138, 139, 140, 141, 142,\n",
       "       143, 144, 145, 146, 147, 148, 149, 150, 151, 152, 153, 154, 155,\n",
       "       156, 157, 158, 159, 160, 161, 162, 163, 164, 165, 166, 167, 168,\n",
       "       169, 170, 171, 172, 173, 174, 175, 176, 177], dtype=int64)"
      ]
     },
     "execution_count": 19,
     "metadata": {},
     "output_type": "execute_result"
    }
   ],
   "source": [
    "elections.index.values"
   ]
  },
  {
   "cell_type": "code",
   "execution_count": 20,
   "metadata": {},
   "outputs": [
    {
     "data": {
      "text/plain": [
       "Index(['Year', 'Candidate', 'Party', 'Popular vote', 'Result', '%'], dtype='object')"
      ]
     },
     "execution_count": 20,
     "metadata": {},
     "output_type": "execute_result"
    }
   ],
   "source": [
    "elections.columns"
   ]
  },
  {
   "cell_type": "code",
   "execution_count": 16,
   "metadata": {},
   "outputs": [
    {
     "name": "stdout",
     "output_type": "stream",
     "text": [
      "<class 'pandas.core.frame.DataFrame'>\n",
      "RangeIndex: 178 entries, 0 to 177\n",
      "Data columns (total 6 columns):\n",
      "Year            178 non-null int64\n",
      "Candidate       178 non-null object\n",
      "Party           178 non-null object\n",
      "Popular vote    178 non-null int64\n",
      "Result          178 non-null object\n",
      "%               178 non-null float64\n",
      "dtypes: float64(1), int64(2), object(3)\n",
      "memory usage: 8.4+ KB\n"
     ]
    }
   ],
   "source": [
    "elections.info()"
   ]
  },
  {
   "cell_type": "markdown",
   "metadata": {},
   "source": [
    "You should only read a file from storage with a least twice the available memory. "
   ]
  },
  {
   "cell_type": "markdown",
   "metadata": {},
   "source": [
    "##### Sort"
   ]
  },
  {
   "cell_type": "code",
   "execution_count": 45,
   "metadata": {},
   "outputs": [
    {
     "data": {
      "text/plain": [
       "array([1824, 1828, 1832, 1836, 1840, 1844, 1848, 1852, 1856, 1860, 1864,\n",
       "       1868, 1872, 1876, 1880, 1884, 1888, 1892, 1896, 1900, 1904, 1908,\n",
       "       1912, 1916, 1920, 1924, 1928, 1932, 1936, 1940, 1944, 1948, 1952,\n",
       "       1956, 1960, 1964, 1968, 1972, 1976, 1980, 1984, 1988, 1992, 1996,\n",
       "       2000, 2004, 2008, 2012, 2016], dtype=int64)"
      ]
     },
     "execution_count": 45,
     "metadata": {},
     "output_type": "execute_result"
    }
   ],
   "source": [
    "elections[\"Year\"].unique()"
   ]
  },
  {
   "cell_type": "code",
   "execution_count": null,
   "metadata": {},
   "outputs": [],
   "source": [
    "elections[\"Party\"].isin([\"Democratic\", \"Republican\"])"
   ]
  },
  {
   "cell_type": "code",
   "execution_count": null,
   "metadata": {},
   "outputs": [],
   "source": [
    "elections[elections[\"Party\"].isin([\"Democratic\", \"Republican\"])]"
   ]
  },
  {
   "cell_type": "code",
   "execution_count": null,
   "metadata": {},
   "outputs": [],
   "source": [
    "elections.sort_values(\"%\")"
   ]
  },
  {
   "cell_type": "code",
   "execution_count": null,
   "metadata": {},
   "outputs": [],
   "source": [
    "elections.sort_values(\"%\", ascending=False)"
   ]
  },
  {
   "cell_type": "markdown",
   "metadata": {},
   "source": [
    "Note that tools like `sort_values` do not change the table. We can check that `elections` has not been sorted by the percent vote."
   ]
  },
  {
   "cell_type": "code",
   "execution_count": null,
   "metadata": {},
   "outputs": [],
   "source": [
    "elections"
   ]
  },
  {
   "cell_type": "markdown",
   "metadata": {},
   "source": [
    "##### Summarize "
   ]
  },
  {
   "cell_type": "code",
   "execution_count": 67,
   "metadata": {},
   "outputs": [
    {
     "data": {
      "text/plain": [
       "27.528089887651696"
      ]
     },
     "execution_count": 67,
     "metadata": {},
     "output_type": "execute_result"
    }
   ],
   "source": [
    "average = sum(elections[\"%\"]) / len(elections[\"%\"])\n",
    "average"
   ]
  },
  {
   "cell_type": "code",
   "execution_count": 68,
   "metadata": {},
   "outputs": [
    {
     "data": {
      "text/plain": [
       "27.528089887651696"
      ]
     },
     "execution_count": 68,
     "metadata": {},
     "output_type": "execute_result"
    }
   ],
   "source": [
    "elections[\"%\"].mean()"
   ]
  },
  {
   "cell_type": "code",
   "execution_count": 69,
   "metadata": {},
   "outputs": [
    {
     "data": {
      "text/plain": [
       "22.870693567941952"
      ]
     },
     "execution_count": 69,
     "metadata": {},
     "output_type": "execute_result"
    }
   ],
   "source": [
    "variance = sum((elections[\"%\"] - avg)**2) / len(elections[\"%\"]) \n",
    "variance**(1/2)"
   ]
  },
  {
   "cell_type": "code",
   "execution_count": 70,
   "metadata": {},
   "outputs": [
    {
     "data": {
      "text/plain": [
       "22.935209051726073"
      ]
     },
     "execution_count": 70,
     "metadata": {},
     "output_type": "execute_result"
    }
   ],
   "source": [
    "elections[\"%\"].std()"
   ]
  },
  {
   "cell_type": "code",
   "execution_count": 50,
   "metadata": {},
   "outputs": [],
   "source": [
    "dem_rep = elections[elections[\"Party\"].isin([\"Democratic\", \"Republican\"])][[\"Party\",\"%\"]]"
   ]
  },
  {
   "cell_type": "code",
   "execution_count": 62,
   "metadata": {},
   "outputs": [
    {
     "data": {
      "image/png": "[encoded data removed]",
      "text/plain": [
       "<Figure size 720x360 with 2 Axes>"
      ]
     },
     "metadata": {
      "needs_background": "light"
     },
     "output_type": "display_data"
    }
   ],
   "source": [
    "dem_rep.hist(bins=15, by=\"Party\", figsize = (10,5));"
   ]
  },
  {
   "cell_type": "markdown",
   "metadata": {},
   "source": [
    "#### Apply"
   ]
  },
  {
   "cell_type": "markdown",
   "metadata": {},
   "source": [
    "Let's start by loading the New York baby names."
   ]
  },
  {
   "cell_type": "code",
   "execution_count": 107,
   "metadata": {},
   "outputs": [],
   "source": [
    "babynames = pd.read_csv(os.environ[\"HOME\"] + \"/shared/NY_babynames.csv\")"
   ]
  },
  {
   "cell_type": "code",
   "execution_count": 72,
   "metadata": {},
   "outputs": [
    {
     "data": {
      "text/html": [
       "<div>\n",
       "<style scoped>\n",
       "    .dataframe tbody tr th:only-of-type {\n",
       "        vertical-align: middle;\n",
       "    }\n",
       "\n",
       "    .dataframe tbody tr th {\n",
       "        vertical-align: top;\n",
       "    }\n",
       "\n",
       "    .dataframe thead th {\n",
       "        text-align: right;\n",
       "    }\n",
       "</style>\n",
       "<table border=\"1\" class=\"dataframe\">\n",
       "  <thead>\n",
       "    <tr style=\"text-align: right;\">\n",
       "      <th></th>\n",
       "      <th>State</th>\n",
       "      <th>Sex</th>\n",
       "      <th>Year</th>\n",
       "      <th>Name</th>\n",
       "      <th>Count</th>\n",
       "    </tr>\n",
       "  </thead>\n",
       "  <tbody>\n",
       "    <tr>\n",
       "      <th>0</th>\n",
       "      <td>NY</td>\n",
       "      <td>F</td>\n",
       "      <td>1910</td>\n",
       "      <td>Mary</td>\n",
       "      <td>1923</td>\n",
       "    </tr>\n",
       "    <tr>\n",
       "      <th>1</th>\n",
       "      <td>NY</td>\n",
       "      <td>F</td>\n",
       "      <td>1910</td>\n",
       "      <td>Helen</td>\n",
       "      <td>1290</td>\n",
       "    </tr>\n",
       "    <tr>\n",
       "      <th>2</th>\n",
       "      <td>NY</td>\n",
       "      <td>F</td>\n",
       "      <td>1910</td>\n",
       "      <td>Rose</td>\n",
       "      <td>990</td>\n",
       "    </tr>\n",
       "  </tbody>\n",
       "</table>\n",
       "</div>"
      ],
      "text/plain": [
       "  State Sex  Year   Name  Count\n",
       "0    NY   F  1910   Mary   1923\n",
       "1    NY   F  1910  Helen   1290\n",
       "2    NY   F  1910   Rose    990"
      ]
     },
     "execution_count": 72,
     "metadata": {},
     "output_type": "execute_result"
    }
   ],
   "source": [
    "babynames.head(3)"
   ]
  },
  {
   "cell_type": "markdown",
   "metadata": {},
   "source": [
    "We want to answer several questions about the dataset. "
   ]
  },
  {
   "cell_type": "markdown",
   "metadata": {},
   "source": [
    "**Question** what was the most popular name last year? "
   ]
  },
  {
   "cell_type": "code",
   "execution_count": 74,
   "metadata": {},
   "outputs": [
    {
     "data": {
      "text/html": [
       "<div>\n",
       "<style scoped>\n",
       "    .dataframe tbody tr th:only-of-type {\n",
       "        vertical-align: middle;\n",
       "    }\n",
       "\n",
       "    .dataframe tbody tr th {\n",
       "        vertical-align: top;\n",
       "    }\n",
       "\n",
       "    .dataframe thead th {\n",
       "        text-align: right;\n",
       "    }\n",
       "</style>\n",
       "<table border=\"1\" class=\"dataframe\">\n",
       "  <thead>\n",
       "    <tr style=\"text-align: right;\">\n",
       "      <th></th>\n",
       "      <th>State</th>\n",
       "      <th>Sex</th>\n",
       "      <th>Year</th>\n",
       "      <th>Name</th>\n",
       "      <th>Count</th>\n",
       "    </tr>\n",
       "  </thead>\n",
       "  <tbody>\n",
       "    <tr>\n",
       "      <th>294173</th>\n",
       "      <td>NY</td>\n",
       "      <td>M</td>\n",
       "      <td>2018</td>\n",
       "      <td>Liam</td>\n",
       "      <td>1509</td>\n",
       "    </tr>\n",
       "    <tr>\n",
       "      <th>294174</th>\n",
       "      <td>NY</td>\n",
       "      <td>M</td>\n",
       "      <td>2018</td>\n",
       "      <td>Noah</td>\n",
       "      <td>1268</td>\n",
       "    </tr>\n",
       "    <tr>\n",
       "      <th>166664</th>\n",
       "      <td>NY</td>\n",
       "      <td>F</td>\n",
       "      <td>2018</td>\n",
       "      <td>Emma</td>\n",
       "      <td>1095</td>\n",
       "    </tr>\n",
       "    <tr>\n",
       "      <th>166665</th>\n",
       "      <td>NY</td>\n",
       "      <td>F</td>\n",
       "      <td>2018</td>\n",
       "      <td>Olivia</td>\n",
       "      <td>1083</td>\n",
       "    </tr>\n",
       "    <tr>\n",
       "      <th>294175</th>\n",
       "      <td>NY</td>\n",
       "      <td>M</td>\n",
       "      <td>2018</td>\n",
       "      <td>Jacob</td>\n",
       "      <td>1010</td>\n",
       "    </tr>\n",
       "  </tbody>\n",
       "</table>\n",
       "</div>"
      ],
      "text/plain": [
       "       State Sex  Year    Name  Count\n",
       "294173    NY   M  2018    Liam   1509\n",
       "294174    NY   M  2018    Noah   1268\n",
       "166664    NY   F  2018    Emma   1095\n",
       "166665    NY   F  2018  Olivia   1083\n",
       "294175    NY   M  2018   Jacob   1010"
      ]
     },
     "execution_count": 74,
     "metadata": {},
     "output_type": "execute_result"
    }
   ],
   "source": [
    "babynames[babynames[\"Year\"] == 2018].sort_values(by = \"Count\", ascending = False).head(5)"
   ]
  },
  {
   "cell_type": "markdown",
   "metadata": {},
   "source": [
    "**Question** Which names start with the letter e? "
   ]
  },
  {
   "cell_type": "code",
   "execution_count": 3,
   "metadata": {},
   "outputs": [
    {
     "data": {
      "text/plain": [
       "0         Mary\n",
       "1        Helen\n",
       "2      Dorothy\n",
       "3     Margaret\n",
       "4      Frances\n",
       "5         Ruth\n",
       "6       Evelyn\n",
       "7        Alice\n",
       "8     Virginia\n",
       "9    Elizabeth\n",
       "Name: Name, dtype: object"
      ]
     },
     "execution_count": 3,
     "metadata": {},
     "output_type": "execute_result"
    }
   ],
   "source": [
    "babynames[\"Name\"].head(10)"
   ]
  },
  {
   "cell_type": "code",
   "execution_count": 77,
   "metadata": {},
   "outputs": [
    {
     "data": {
      "text/plain": [
       "['Elizabeth', 'Evelyn', 'Ethel', 'Edna', 'Eleanor']"
      ]
     },
     "execution_count": 77,
     "metadata": {},
     "output_type": "execute_result"
    }
   ],
   "source": [
    "# loop \n",
    "\n",
    "start_with_e = []\n",
    "\n",
    "for name in babynames[\"Name\"]:\n",
    "    if name[0] == \"E\":\n",
    "        start_with_e.append(name)\n",
    "\n",
    "start_with_e[:5]"
   ]
  },
  {
   "cell_type": "code",
   "execution_count": 80,
   "metadata": {},
   "outputs": [
    {
     "data": {
      "text/plain": [
       "['Elizabeth', 'Evelyn', 'Ethel', 'Edna', 'Eleanor']"
      ]
     },
     "execution_count": 80,
     "metadata": {},
     "output_type": "execute_result"
    }
   ],
   "source": [
    "# list comprehension \n",
    "\n",
    "start_with_e = [name for name in babynames[\"Name\"] if name[0] == 'E']\n",
    "\n",
    "start_with_e[:5]"
   ]
  },
  {
   "cell_type": "code",
   "execution_count": 81,
   "metadata": {},
   "outputs": [],
   "source": [
    "# apply \n",
    "\n",
    "def get_first_letter(some_string):\n",
    "    return some_string[0]\n",
    "\n",
    "new_column_letter = babynames[\"Name\"].apply(get_first_letter)"
   ]
  },
  {
   "cell_type": "code",
   "execution_count": 84,
   "metadata": {},
   "outputs": [
    {
     "data": {
      "text/html": [
       "<div>\n",
       "<style scoped>\n",
       "    .dataframe tbody tr th:only-of-type {\n",
       "        vertical-align: middle;\n",
       "    }\n",
       "\n",
       "    .dataframe tbody tr th {\n",
       "        vertical-align: top;\n",
       "    }\n",
       "\n",
       "    .dataframe thead th {\n",
       "        text-align: right;\n",
       "    }\n",
       "</style>\n",
       "<table border=\"1\" class=\"dataframe\">\n",
       "  <thead>\n",
       "    <tr style=\"text-align: right;\">\n",
       "      <th></th>\n",
       "      <th>State</th>\n",
       "      <th>Sex</th>\n",
       "      <th>Year</th>\n",
       "      <th>Name</th>\n",
       "      <th>Count</th>\n",
       "      <th>Letter</th>\n",
       "    </tr>\n",
       "  </thead>\n",
       "  <tbody>\n",
       "    <tr>\n",
       "      <th>0</th>\n",
       "      <td>NY</td>\n",
       "      <td>F</td>\n",
       "      <td>1910</td>\n",
       "      <td>Mary</td>\n",
       "      <td>1923</td>\n",
       "      <td>M</td>\n",
       "    </tr>\n",
       "    <tr>\n",
       "      <th>1</th>\n",
       "      <td>NY</td>\n",
       "      <td>F</td>\n",
       "      <td>1910</td>\n",
       "      <td>Helen</td>\n",
       "      <td>1290</td>\n",
       "      <td>H</td>\n",
       "    </tr>\n",
       "    <tr>\n",
       "      <th>2</th>\n",
       "      <td>NY</td>\n",
       "      <td>F</td>\n",
       "      <td>1910</td>\n",
       "      <td>Rose</td>\n",
       "      <td>990</td>\n",
       "      <td>R</td>\n",
       "    </tr>\n",
       "  </tbody>\n",
       "</table>\n",
       "</div>"
      ],
      "text/plain": [
       "  State Sex  Year   Name  Count Letter\n",
       "0    NY   F  1910   Mary   1923      M\n",
       "1    NY   F  1910  Helen   1290      H\n",
       "2    NY   F  1910   Rose    990      R"
      ]
     },
     "execution_count": 84,
     "metadata": {},
     "output_type": "execute_result"
    }
   ],
   "source": [
    "babynames[\"Letter\"] = new_column_letter\n",
    "babynames.head(3)"
   ]
  },
  {
   "cell_type": "code",
   "execution_count": null,
   "metadata": {},
   "outputs": [],
   "source": [
    "babynames[babynames[\"Letter\"].isin([\"E\"])][\"Name\"]"
   ]
  },
  {
   "cell_type": "code",
   "execution_count": null,
   "metadata": {},
   "outputs": [],
   "source": [
    "babynames.drop(columns=[\"Letter\"])"
   ]
  },
  {
   "cell_type": "code",
   "execution_count": 87,
   "metadata": {},
   "outputs": [],
   "source": [
    "babynames.drop(columns=[\"Letter\"], inplace = True)"
   ]
  },
  {
   "cell_type": "markdown",
   "metadata": {},
   "source": [
    "**Exercise** Return all names ending with y"
   ]
  },
  {
   "cell_type": "markdown",
   "metadata": {},
   "source": [
    "**Question** Sort the data by the number of occurrences of \"dr\" plus the number of occurences of \"ea\" in the name. "
   ]
  },
  {
   "cell_type": "code",
   "execution_count": 92,
   "metadata": {},
   "outputs": [],
   "source": [
    "def dr_ea_count(some_string):\n",
    "    return some_string.count('dr') + some_string.count('ea')"
   ]
  },
  {
   "cell_type": "code",
   "execution_count": 93,
   "metadata": {},
   "outputs": [],
   "source": [
    "babynames[\"dr_ea_count\"] = babynames[\"Name\"].apply(dr_ea_count)"
   ]
  },
  {
   "cell_type": "code",
   "execution_count": 94,
   "metadata": {},
   "outputs": [],
   "source": [
    "babynames = babynames.sort_values(by = \"dr_ea_count\", ascending=False)"
   ]
  },
  {
   "cell_type": "code",
   "execution_count": 95,
   "metadata": {},
   "outputs": [
    {
     "data": {
      "text/html": [
       "<div>\n",
       "<style scoped>\n",
       "    .dataframe tbody tr th:only-of-type {\n",
       "        vertical-align: middle;\n",
       "    }\n",
       "\n",
       "    .dataframe tbody tr th {\n",
       "        vertical-align: top;\n",
       "    }\n",
       "\n",
       "    .dataframe thead th {\n",
       "        text-align: right;\n",
       "    }\n",
       "</style>\n",
       "<table border=\"1\" class=\"dataframe\">\n",
       "  <thead>\n",
       "    <tr style=\"text-align: right;\">\n",
       "      <th></th>\n",
       "      <th>State</th>\n",
       "      <th>Sex</th>\n",
       "      <th>Year</th>\n",
       "      <th>Name</th>\n",
       "      <th>Count</th>\n",
       "    </tr>\n",
       "  </thead>\n",
       "  <tbody>\n",
       "    <tr>\n",
       "      <th>76141</th>\n",
       "      <td>NY</td>\n",
       "      <td>F</td>\n",
       "      <td>1978</td>\n",
       "      <td>Deandrea</td>\n",
       "      <td>5</td>\n",
       "    </tr>\n",
       "    <tr>\n",
       "      <th>120958</th>\n",
       "      <td>NY</td>\n",
       "      <td>F</td>\n",
       "      <td>1999</td>\n",
       "      <td>Deandrea</td>\n",
       "      <td>5</td>\n",
       "    </tr>\n",
       "    <tr>\n",
       "      <th>95292</th>\n",
       "      <td>NY</td>\n",
       "      <td>F</td>\n",
       "      <td>1988</td>\n",
       "      <td>Deandrea</td>\n",
       "      <td>6</td>\n",
       "    </tr>\n",
       "    <tr>\n",
       "      <th>149033</th>\n",
       "      <td>NY</td>\n",
       "      <td>F</td>\n",
       "      <td>2011</td>\n",
       "      <td>Andrea</td>\n",
       "      <td>137</td>\n",
       "    </tr>\n",
       "    <tr>\n",
       "      <th>235701</th>\n",
       "      <td>NY</td>\n",
       "      <td>M</td>\n",
       "      <td>1986</td>\n",
       "      <td>Leandro</td>\n",
       "      <td>5</td>\n",
       "    </tr>\n",
       "  </tbody>\n",
       "</table>\n",
       "</div>"
      ],
      "text/plain": [
       "       State Sex  Year      Name  Count\n",
       "76141     NY   F  1978  Deandrea      5\n",
       "120958    NY   F  1999  Deandrea      5\n",
       "95292     NY   F  1988  Deandrea      6\n",
       "149033    NY   F  2011    Andrea    137\n",
       "235701    NY   M  1986   Leandro      5"
      ]
     },
     "execution_count": 95,
     "metadata": {},
     "output_type": "execute_result"
    }
   ],
   "source": [
    "babynames = babynames.drop(\"dr_ea_count\", 1)\n",
    "babynames.head(5)"
   ]
  },
  {
   "cell_type": "code",
   "execution_count": 118,
   "metadata": {},
   "outputs": [],
   "source": [
    "babynames = pd.read_csv(os.environ[\"HOME\"] + \"/shared/NY_babynames.csv\")"
   ]
  },
  {
   "cell_type": "code",
   "execution_count": 119,
   "metadata": {},
   "outputs": [
    {
     "data": {
      "text/html": [
       "<div>\n",
       "<style scoped>\n",
       "    .dataframe tbody tr th:only-of-type {\n",
       "        vertical-align: middle;\n",
       "    }\n",
       "\n",
       "    .dataframe tbody tr th {\n",
       "        vertical-align: top;\n",
       "    }\n",
       "\n",
       "    .dataframe thead th {\n",
       "        text-align: right;\n",
       "    }\n",
       "</style>\n",
       "<table border=\"1\" class=\"dataframe\">\n",
       "  <thead>\n",
       "    <tr style=\"text-align: right;\">\n",
       "      <th></th>\n",
       "      <th>State</th>\n",
       "      <th>Sex</th>\n",
       "      <th>Year</th>\n",
       "      <th>Name</th>\n",
       "      <th>Count</th>\n",
       "    </tr>\n",
       "  </thead>\n",
       "  <tbody>\n",
       "    <tr>\n",
       "      <th>0</th>\n",
       "      <td>NY</td>\n",
       "      <td>F</td>\n",
       "      <td>1910</td>\n",
       "      <td>Mary</td>\n",
       "      <td>1923</td>\n",
       "    </tr>\n",
       "    <tr>\n",
       "      <th>1</th>\n",
       "      <td>NY</td>\n",
       "      <td>F</td>\n",
       "      <td>1910</td>\n",
       "      <td>Helen</td>\n",
       "      <td>1290</td>\n",
       "    </tr>\n",
       "    <tr>\n",
       "      <th>2</th>\n",
       "      <td>NY</td>\n",
       "      <td>F</td>\n",
       "      <td>1910</td>\n",
       "      <td>Rose</td>\n",
       "      <td>990</td>\n",
       "    </tr>\n",
       "  </tbody>\n",
       "</table>\n",
       "</div>"
      ],
      "text/plain": [
       "  State Sex  Year   Name  Count\n",
       "0    NY   F  1910   Mary   1923\n",
       "1    NY   F  1910  Helen   1290\n",
       "2    NY   F  1910   Rose    990"
      ]
     },
     "execution_count": 119,
     "metadata": {},
     "output_type": "execute_result"
    }
   ],
   "source": [
    "babynames.head(3)"
   ]
  },
  {
   "cell_type": "markdown",
   "metadata": {},
   "source": [
    "Another approach is to take advantage of the fact that .loc can accept an index. That is:\n",
    " + df.loc[idx] returns df with its rows in the same order as the given index.\n",
    " + Only works if the index exactly matches the DataFrame."
   ]
  },
  {
   "cell_type": "markdown",
   "metadata": {},
   "source": [
    "The first step was to create a sequence of the lengths of the names."
   ]
  },
  {
   "cell_type": "code",
   "execution_count": 120,
   "metadata": {},
   "outputs": [
    {
     "data": {
      "text/plain": [
       "0    0\n",
       "1    0\n",
       "2    0\n",
       "Name: Name, dtype: int64"
      ]
     },
     "execution_count": 120,
     "metadata": {},
     "output_type": "execute_result"
    }
   ],
   "source": [
    "dr_ea_counts_series = babynames[\"Name\"].apply(dr_ea_count)\n",
    "dr_ea_counts_series.head(3)"
   ]
  },
  {
   "cell_type": "markdown",
   "metadata": {},
   "source": [
    "The next step is to sort the new series we just created."
   ]
  },
  {
   "cell_type": "code",
   "execution_count": 121,
   "metadata": {},
   "outputs": [
    {
     "data": {
      "text/plain": [
       "120958    3\n",
       "95292     3\n",
       "76141     3\n",
       "155515    2\n",
       "85330     2\n",
       "Name: Name, dtype: int64"
      ]
     },
     "execution_count": 121,
     "metadata": {},
     "output_type": "execute_result"
    }
   ],
   "source": [
    "dr_ea_counts_series_sorted = dr_ea_counts_series.sort_values(ascending = False)\n",
    "dr_ea_counts_series_sorted.head(5)"
   ]
  },
  {
   "cell_type": "markdown",
   "metadata": {},
   "source": [
    "Next, we pass the index of the sorted series to the loc method of the original dataframe."
   ]
  },
  {
   "cell_type": "code",
   "execution_count": 122,
   "metadata": {},
   "outputs": [
    {
     "data": {
      "text/plain": [
       "Int64Index([120958,  95292,  76141, 155515,  85330, 105708,  28063, 224812,\n",
       "            124584, 193786,\n",
       "            ...\n",
       "            196232, 196231, 196230, 196229, 196228, 196227, 196226, 196225,\n",
       "            196223,      0],\n",
       "           dtype='int64', length=296199)"
      ]
     },
     "execution_count": 122,
     "metadata": {},
     "output_type": "execute_result"
    }
   ],
   "source": [
    "dr_ea_counts_series_sorted_index = dr_ea_counts_series_sorted.index\n",
    "dr_ea_counts_series_sorted_index"
   ]
  },
  {
   "cell_type": "code",
   "execution_count": 123,
   "metadata": {},
   "outputs": [
    {
     "data": {
      "text/html": [
       "<div>\n",
       "<style scoped>\n",
       "    .dataframe tbody tr th:only-of-type {\n",
       "        vertical-align: middle;\n",
       "    }\n",
       "\n",
       "    .dataframe tbody tr th {\n",
       "        vertical-align: top;\n",
       "    }\n",
       "\n",
       "    .dataframe thead th {\n",
       "        text-align: right;\n",
       "    }\n",
       "</style>\n",
       "<table border=\"1\" class=\"dataframe\">\n",
       "  <thead>\n",
       "    <tr style=\"text-align: right;\">\n",
       "      <th></th>\n",
       "      <th>State</th>\n",
       "      <th>Sex</th>\n",
       "      <th>Year</th>\n",
       "      <th>Name</th>\n",
       "      <th>Count</th>\n",
       "    </tr>\n",
       "  </thead>\n",
       "  <tbody>\n",
       "    <tr>\n",
       "      <th>120958</th>\n",
       "      <td>NY</td>\n",
       "      <td>F</td>\n",
       "      <td>1999</td>\n",
       "      <td>Deandrea</td>\n",
       "      <td>5</td>\n",
       "    </tr>\n",
       "    <tr>\n",
       "      <th>95292</th>\n",
       "      <td>NY</td>\n",
       "      <td>F</td>\n",
       "      <td>1988</td>\n",
       "      <td>Deandrea</td>\n",
       "      <td>6</td>\n",
       "    </tr>\n",
       "    <tr>\n",
       "      <th>76141</th>\n",
       "      <td>NY</td>\n",
       "      <td>F</td>\n",
       "      <td>1978</td>\n",
       "      <td>Deandrea</td>\n",
       "      <td>5</td>\n",
       "    </tr>\n",
       "    <tr>\n",
       "      <th>155515</th>\n",
       "      <td>NY</td>\n",
       "      <td>F</td>\n",
       "      <td>2013</td>\n",
       "      <td>Alexandrea</td>\n",
       "      <td>9</td>\n",
       "    </tr>\n",
       "    <tr>\n",
       "      <th>85330</th>\n",
       "      <td>NY</td>\n",
       "      <td>F</td>\n",
       "      <td>1983</td>\n",
       "      <td>Leandra</td>\n",
       "      <td>6</td>\n",
       "    </tr>\n",
       "  </tbody>\n",
       "</table>\n",
       "</div>"
      ],
      "text/plain": [
       "       State Sex  Year        Name  Count\n",
       "120958    NY   F  1999    Deandrea      5\n",
       "95292     NY   F  1988    Deandrea      6\n",
       "76141     NY   F  1978    Deandrea      5\n",
       "155515    NY   F  2013  Alexandrea      9\n",
       "85330     NY   F  1983     Leandra      6"
      ]
     },
     "execution_count": 123,
     "metadata": {},
     "output_type": "execute_result"
    }
   ],
   "source": [
    "babynames.loc[dr_ea_counts_series_sorted_index].head(5)"
   ]
  },
  {
   "cell_type": "markdown",
   "metadata": {},
   "source": [
    "Note we can also do this all in one line:"
   ]
  },
  {
   "cell_type": "code",
   "execution_count": 124,
   "metadata": {},
   "outputs": [
    {
     "data": {
      "text/html": [
       "<div>\n",
       "<style scoped>\n",
       "    .dataframe tbody tr th:only-of-type {\n",
       "        vertical-align: middle;\n",
       "    }\n",
       "\n",
       "    .dataframe tbody tr th {\n",
       "        vertical-align: top;\n",
       "    }\n",
       "\n",
       "    .dataframe thead th {\n",
       "        text-align: right;\n",
       "    }\n",
       "</style>\n",
       "<table border=\"1\" class=\"dataframe\">\n",
       "  <thead>\n",
       "    <tr style=\"text-align: right;\">\n",
       "      <th></th>\n",
       "      <th>State</th>\n",
       "      <th>Sex</th>\n",
       "      <th>Year</th>\n",
       "      <th>Name</th>\n",
       "      <th>Count</th>\n",
       "    </tr>\n",
       "  </thead>\n",
       "  <tbody>\n",
       "    <tr>\n",
       "      <th>120958</th>\n",
       "      <td>NY</td>\n",
       "      <td>F</td>\n",
       "      <td>1999</td>\n",
       "      <td>Deandrea</td>\n",
       "      <td>5</td>\n",
       "    </tr>\n",
       "    <tr>\n",
       "      <th>95292</th>\n",
       "      <td>NY</td>\n",
       "      <td>F</td>\n",
       "      <td>1988</td>\n",
       "      <td>Deandrea</td>\n",
       "      <td>6</td>\n",
       "    </tr>\n",
       "    <tr>\n",
       "      <th>76141</th>\n",
       "      <td>NY</td>\n",
       "      <td>F</td>\n",
       "      <td>1978</td>\n",
       "      <td>Deandrea</td>\n",
       "      <td>5</td>\n",
       "    </tr>\n",
       "    <tr>\n",
       "      <th>155515</th>\n",
       "      <td>NY</td>\n",
       "      <td>F</td>\n",
       "      <td>2013</td>\n",
       "      <td>Alexandrea</td>\n",
       "      <td>9</td>\n",
       "    </tr>\n",
       "    <tr>\n",
       "      <th>85330</th>\n",
       "      <td>NY</td>\n",
       "      <td>F</td>\n",
       "      <td>1983</td>\n",
       "      <td>Leandra</td>\n",
       "      <td>6</td>\n",
       "    </tr>\n",
       "  </tbody>\n",
       "</table>\n",
       "</div>"
      ],
      "text/plain": [
       "       State Sex  Year        Name  Count\n",
       "120958    NY   F  1999    Deandrea      5\n",
       "95292     NY   F  1988    Deandrea      6\n",
       "76141     NY   F  1978    Deandrea      5\n",
       "155515    NY   F  2013  Alexandrea      9\n",
       "85330     NY   F  1983     Leandra      6"
      ]
     },
     "execution_count": 124,
     "metadata": {},
     "output_type": "execute_result"
    }
   ],
   "source": [
    "babynames.loc[babynames[\"Name\"].apply(dr_ea_count).sort_values(ascending=False).index].head(5)"
   ]
  },
  {
   "cell_type": "markdown",
   "metadata": {},
   "source": [
    "#### Grouping"
   ]
  },
  {
   "cell_type": "markdown",
   "metadata": {},
   "source": [
    "Suppose we want to understand trends in names. \n",
    "\n",
    "**Question** What name has changed most in popularity? Here we can measure the change as the difference between maximum count and minimum count"
   ]
  },
  {
   "cell_type": "code",
   "execution_count": 125,
   "metadata": {
    "scrolled": true
   },
   "outputs": [
    {
     "data": {
      "text/plain": [
       "16256    6\n",
       "17091    5\n",
       "17813    5\n",
       "19291    5\n",
       "19873    9\n",
       "Name: Count, dtype: int64"
      ]
     },
     "execution_count": 125,
     "metadata": {},
     "output_type": "execute_result"
    }
   ],
   "source": [
    "jennifer_counts = babynames[babynames[\"Name\"] == \"Jennifer\"][\"Count\"]\n",
    "jennifer_counts.head(5)"
   ]
  },
  {
   "cell_type": "code",
   "execution_count": 126,
   "metadata": {},
   "outputs": [],
   "source": [
    "def max_minus_min(series):\n",
    "    return max(series) - min(series)"
   ]
  },
  {
   "cell_type": "code",
   "execution_count": 127,
   "metadata": {},
   "outputs": [
    {
     "data": {
      "text/plain": [
       "5519"
      ]
     },
     "execution_count": 127,
     "metadata": {},
     "output_type": "execute_result"
    }
   ],
   "source": [
    "max_minus_min(jennifer_counts)"
   ]
  },
  {
   "cell_type": "markdown",
   "metadata": {},
   "source": [
    "As a first approach, we can try to use a for loop."
   ]
  },
  {
   "cell_type": "code",
   "execution_count": 129,
   "metadata": {},
   "outputs": [],
   "source": [
    "#build dictionary where entry i is the max_minus_min for the given name\n",
    "#e.g. max_minus_min[\"jennifer\"] should be 5519\n",
    "\n",
    "max_minus_min_of_babyname_counts = {}\n",
    "\n",
    "for name in babynames[\"Name\"].unique()[0:10]:\n",
    "    counts_of_current_name = babynames[babynames[\"Name\"] == name][\"Count\"]\n",
    "    max_minus_min_of_babyname_counts[name] = max_minus_min(counts_of_current_name)\n",
    "    "
   ]
  },
  {
   "cell_type": "code",
   "execution_count": 130,
   "metadata": {},
   "outputs": [
    {
     "data": {
      "text/plain": [
       "Mary        5518\n",
       "Helen       4086\n",
       "Rose        2350\n",
       "Anna        2315\n",
       "Margaret    2759\n",
       "Dorothy     3417\n",
       "Ruth        2715\n",
       "Lillian     1541\n",
       "Florence    1888\n",
       "Frances     1889\n",
       "dtype: int64"
      ]
     },
     "execution_count": 130,
     "metadata": {},
     "output_type": "execute_result"
    }
   ],
   "source": [
    "#convert to series\n",
    "max_minus_min_of_babyname_counts = pd.Series(max_minus_min_of_babyname_counts) \n",
    "max_minus_min_of_babyname_counts"
   ]
  },
  {
   "cell_type": "markdown",
   "metadata": {},
   "source": [
    "Answer below. Note that we only used the first 10 names because otherwise the code takes ages to complete running."
   ]
  },
  {
   "cell_type": "markdown",
   "metadata": {},
   "source": [
    "As a second approach, we could instead use groupby.agg operation. The groupby.agg operation is both simple and efficien -- in particular we can use it on the dataset without a long wait. "
   ]
  },
  {
   "cell_type": "code",
   "execution_count": 136,
   "metadata": {},
   "outputs": [
    {
     "data": {
      "text/html": [
       "<div>\n",
       "<style scoped>\n",
       "    .dataframe tbody tr th:only-of-type {\n",
       "        vertical-align: middle;\n",
       "    }\n",
       "\n",
       "    .dataframe tbody tr th {\n",
       "        vertical-align: top;\n",
       "    }\n",
       "\n",
       "    .dataframe thead th {\n",
       "        text-align: right;\n",
       "    }\n",
       "</style>\n",
       "<table border=\"1\" class=\"dataframe\">\n",
       "  <thead>\n",
       "    <tr style=\"text-align: right;\">\n",
       "      <th></th>\n",
       "      <th>Count</th>\n",
       "    </tr>\n",
       "    <tr>\n",
       "      <th>Name</th>\n",
       "      <th></th>\n",
       "    </tr>\n",
       "  </thead>\n",
       "  <tbody>\n",
       "    <tr>\n",
       "      <th>Aaban</th>\n",
       "      <td>6</td>\n",
       "    </tr>\n",
       "    <tr>\n",
       "      <th>Aaden</th>\n",
       "      <td>63</td>\n",
       "    </tr>\n",
       "    <tr>\n",
       "      <th>Aadhya</th>\n",
       "      <td>8</td>\n",
       "    </tr>\n",
       "    <tr>\n",
       "      <th>Aadi</th>\n",
       "      <td>7</td>\n",
       "    </tr>\n",
       "    <tr>\n",
       "      <th>Aadil</th>\n",
       "      <td>5</td>\n",
       "    </tr>\n",
       "  </tbody>\n",
       "</table>\n",
       "</div>"
      ],
      "text/plain": [
       "        Count\n",
       "Name         \n",
       "Aaban       6\n",
       "Aaden      63\n",
       "Aadhya      8\n",
       "Aadi        7\n",
       "Aadil       5"
      ]
     },
     "execution_count": 136,
     "metadata": {},
     "output_type": "execute_result"
    }
   ],
   "source": [
    "babynames.groupby(\"Name\").agg({\"Count\":max}).head(5)"
   ]
  },
  {
   "cell_type": "code",
   "execution_count": 137,
   "metadata": {},
   "outputs": [
    {
     "data": {
      "text/html": [
       "<div>\n",
       "<style scoped>\n",
       "    .dataframe tbody tr th:only-of-type {\n",
       "        vertical-align: middle;\n",
       "    }\n",
       "\n",
       "    .dataframe tbody tr th {\n",
       "        vertical-align: top;\n",
       "    }\n",
       "\n",
       "    .dataframe thead th {\n",
       "        text-align: right;\n",
       "    }\n",
       "</style>\n",
       "<table border=\"1\" class=\"dataframe\">\n",
       "  <thead>\n",
       "    <tr style=\"text-align: right;\">\n",
       "      <th></th>\n",
       "      <th>Count</th>\n",
       "    </tr>\n",
       "    <tr>\n",
       "      <th>Name</th>\n",
       "      <th></th>\n",
       "    </tr>\n",
       "  </thead>\n",
       "  <tbody>\n",
       "    <tr>\n",
       "      <th>Zyire</th>\n",
       "      <td>5</td>\n",
       "    </tr>\n",
       "    <tr>\n",
       "      <th>Zyla</th>\n",
       "      <td>6</td>\n",
       "    </tr>\n",
       "    <tr>\n",
       "      <th>Zylah</th>\n",
       "      <td>6</td>\n",
       "    </tr>\n",
       "    <tr>\n",
       "      <th>Zymir</th>\n",
       "      <td>5</td>\n",
       "    </tr>\n",
       "    <tr>\n",
       "      <th>Zyon</th>\n",
       "      <td>5</td>\n",
       "    </tr>\n",
       "  </tbody>\n",
       "</table>\n",
       "</div>"
      ],
      "text/plain": [
       "       Count\n",
       "Name        \n",
       "Zyire      5\n",
       "Zyla       6\n",
       "Zylah      6\n",
       "Zymir      5\n",
       "Zyon       5"
      ]
     },
     "execution_count": 137,
     "metadata": {},
     "output_type": "execute_result"
    }
   ],
   "source": [
    "babynames.groupby(\"Name\").agg({\"Count\":min}).tail(5)"
   ]
  },
  {
   "cell_type": "code",
   "execution_count": null,
   "metadata": {},
   "outputs": [],
   "source": [
    "babynames.groupby(\"Name\").agg({\"Count\":max_minus_min}).sort_values(by = \"Count\", ascending = False)"
   ]
  },
  {
   "cell_type": "markdown",
   "metadata": {},
   "source": [
    "**Exercise** How can we understand the following code? Did Woodrow Wilson campaign in 2016?"
   ]
  },
  {
   "cell_type": "code",
   "execution_count": 141,
   "metadata": {},
   "outputs": [
    {
     "data": {
      "text/html": [
       "<div>\n",
       "<style scoped>\n",
       "    .dataframe tbody tr th:only-of-type {\n",
       "        vertical-align: middle;\n",
       "    }\n",
       "\n",
       "    .dataframe tbody tr th {\n",
       "        vertical-align: top;\n",
       "    }\n",
       "\n",
       "    .dataframe thead th {\n",
       "        text-align: right;\n",
       "    }\n",
       "</style>\n",
       "<table border=\"1\" class=\"dataframe\">\n",
       "  <thead>\n",
       "    <tr style=\"text-align: right;\">\n",
       "      <th></th>\n",
       "      <th>Year</th>\n",
       "      <th>Candidate</th>\n",
       "      <th>Party</th>\n",
       "      <th>Popular vote</th>\n",
       "      <th>Result</th>\n",
       "      <th>%</th>\n",
       "    </tr>\n",
       "  </thead>\n",
       "  <tbody>\n",
       "    <tr>\n",
       "      <th>26</th>\n",
       "      <td>1860</td>\n",
       "      <td>Stephen A. Douglas</td>\n",
       "      <td>Northern Democratic</td>\n",
       "      <td>1380202</td>\n",
       "      <td>loss</td>\n",
       "      <td>29.522311</td>\n",
       "    </tr>\n",
       "    <tr>\n",
       "      <th>110</th>\n",
       "      <td>1956</td>\n",
       "      <td>T. Coleman Andrews</td>\n",
       "      <td>States' Rights</td>\n",
       "      <td>107929</td>\n",
       "      <td>loss</td>\n",
       "      <td>0.174883</td>\n",
       "    </tr>\n",
       "    <tr>\n",
       "      <th>154</th>\n",
       "      <td>2000</td>\n",
       "      <td>Pat Buchanan</td>\n",
       "      <td>Reform</td>\n",
       "      <td>448895</td>\n",
       "      <td>loss</td>\n",
       "      <td>0.426819</td>\n",
       "    </tr>\n",
       "    <tr>\n",
       "      <th>109</th>\n",
       "      <td>1956</td>\n",
       "      <td>Dwight Eisenhower</td>\n",
       "      <td>Republican</td>\n",
       "      <td>35579180</td>\n",
       "      <td>win</td>\n",
       "      <td>57.650654</td>\n",
       "    </tr>\n",
       "    <tr>\n",
       "      <th>10</th>\n",
       "      <td>1840</td>\n",
       "      <td>Martin Van Buren</td>\n",
       "      <td>Democratic</td>\n",
       "      <td>1128854</td>\n",
       "      <td>loss</td>\n",
       "      <td>46.948787</td>\n",
       "    </tr>\n",
       "  </tbody>\n",
       "</table>\n",
       "</div>"
      ],
      "text/plain": [
       "     Year           Candidate                Party  Popular vote Result  \\\n",
       "26   1860  Stephen A. Douglas  Northern Democratic       1380202   loss   \n",
       "110  1956  T. Coleman Andrews       States' Rights        107929   loss   \n",
       "154  2000        Pat Buchanan               Reform        448895   loss   \n",
       "109  1956   Dwight Eisenhower           Republican      35579180    win   \n",
       "10   1840    Martin Van Buren           Democratic       1128854   loss   \n",
       "\n",
       "             %  \n",
       "26   29.522311  \n",
       "110   0.174883  \n",
       "154   0.426819  \n",
       "109  57.650654  \n",
       "10   46.948787  "
      ]
     },
     "execution_count": 141,
     "metadata": {},
     "output_type": "execute_result"
    }
   ],
   "source": [
    "elections = pd.read_csv(os.environ[\"HOME\"] + \"/shared/election_data.csv\")\n",
    "elections.sample(5)"
   ]
  },
  {
   "cell_type": "code",
   "execution_count": 142,
   "metadata": {},
   "outputs": [
    {
     "data": {
      "text/html": [
       "<div>\n",
       "<style scoped>\n",
       "    .dataframe tbody tr th:only-of-type {\n",
       "        vertical-align: middle;\n",
       "    }\n",
       "\n",
       "    .dataframe tbody tr th {\n",
       "        vertical-align: top;\n",
       "    }\n",
       "\n",
       "    .dataframe thead th {\n",
       "        text-align: right;\n",
       "    }\n",
       "</style>\n",
       "<table border=\"1\" class=\"dataframe\">\n",
       "  <thead>\n",
       "    <tr style=\"text-align: right;\">\n",
       "      <th></th>\n",
       "      <th>Year</th>\n",
       "      <th>Candidate</th>\n",
       "      <th>Popular vote</th>\n",
       "      <th>Result</th>\n",
       "      <th>%</th>\n",
       "    </tr>\n",
       "    <tr>\n",
       "      <th>Party</th>\n",
       "      <th></th>\n",
       "      <th></th>\n",
       "      <th></th>\n",
       "      <th></th>\n",
       "      <th></th>\n",
       "    </tr>\n",
       "  </thead>\n",
       "  <tbody>\n",
       "    <tr>\n",
       "      <th>American</th>\n",
       "      <td>1976</td>\n",
       "      <td>Thomas J. Anderson</td>\n",
       "      <td>873053</td>\n",
       "      <td>loss</td>\n",
       "      <td>21.554001</td>\n",
       "    </tr>\n",
       "    <tr>\n",
       "      <th>American Independent</th>\n",
       "      <td>1976</td>\n",
       "      <td>Lester Maddox</td>\n",
       "      <td>9901118</td>\n",
       "      <td>loss</td>\n",
       "      <td>13.571218</td>\n",
       "    </tr>\n",
       "    <tr>\n",
       "      <th>Anti-Masonic</th>\n",
       "      <td>1832</td>\n",
       "      <td>William Wirt</td>\n",
       "      <td>100715</td>\n",
       "      <td>loss</td>\n",
       "      <td>7.821583</td>\n",
       "    </tr>\n",
       "    <tr>\n",
       "      <th>Anti-Monopoly</th>\n",
       "      <td>1884</td>\n",
       "      <td>Benjamin Butler</td>\n",
       "      <td>134294</td>\n",
       "      <td>loss</td>\n",
       "      <td>1.335838</td>\n",
       "    </tr>\n",
       "    <tr>\n",
       "      <th>Citizens</th>\n",
       "      <td>1980</td>\n",
       "      <td>Barry Commoner</td>\n",
       "      <td>233052</td>\n",
       "      <td>loss</td>\n",
       "      <td>0.270182</td>\n",
       "    </tr>\n",
       "    <tr>\n",
       "      <th>Communist</th>\n",
       "      <td>1932</td>\n",
       "      <td>William Z. Foster</td>\n",
       "      <td>103307</td>\n",
       "      <td>loss</td>\n",
       "      <td>0.261069</td>\n",
       "    </tr>\n",
       "    <tr>\n",
       "      <th>Constitution</th>\n",
       "      <td>2016</td>\n",
       "      <td>Michael Peroutka</td>\n",
       "      <td>203091</td>\n",
       "      <td>loss</td>\n",
       "      <td>0.152398</td>\n",
       "    </tr>\n",
       "    <tr>\n",
       "      <th>Constitutional Union</th>\n",
       "      <td>1860</td>\n",
       "      <td>John Bell</td>\n",
       "      <td>590901</td>\n",
       "      <td>loss</td>\n",
       "      <td>12.639283</td>\n",
       "    </tr>\n",
       "    <tr>\n",
       "      <th>Democratic</th>\n",
       "      <td>2016</td>\n",
       "      <td>Woodrow Wilson</td>\n",
       "      <td>69498516</td>\n",
       "      <td>win</td>\n",
       "      <td>61.344703</td>\n",
       "    </tr>\n",
       "    <tr>\n",
       "      <th>Democratic-Republican</th>\n",
       "      <td>1824</td>\n",
       "      <td>John Quincy Adams</td>\n",
       "      <td>151271</td>\n",
       "      <td>win</td>\n",
       "      <td>57.210122</td>\n",
       "    </tr>\n",
       "  </tbody>\n",
       "</table>\n",
       "</div>"
      ],
      "text/plain": [
       "                       Year           Candidate  Popular vote Result  \\\n",
       "Party                                                                  \n",
       "American               1976  Thomas J. Anderson        873053   loss   \n",
       "American Independent   1976       Lester Maddox       9901118   loss   \n",
       "Anti-Masonic           1832        William Wirt        100715   loss   \n",
       "Anti-Monopoly          1884     Benjamin Butler        134294   loss   \n",
       "Citizens               1980      Barry Commoner        233052   loss   \n",
       "Communist              1932   William Z. Foster        103307   loss   \n",
       "Constitution           2016    Michael Peroutka        203091   loss   \n",
       "Constitutional Union   1860           John Bell        590901   loss   \n",
       "Democratic             2016      Woodrow Wilson      69498516    win   \n",
       "Democratic-Republican  1824   John Quincy Adams        151271    win   \n",
       "\n",
       "                               %  \n",
       "Party                             \n",
       "American               21.554001  \n",
       "American Independent   13.571218  \n",
       "Anti-Masonic            7.821583  \n",
       "Anti-Monopoly           1.335838  \n",
       "Citizens                0.270182  \n",
       "Communist               0.261069  \n",
       "Constitution            0.152398  \n",
       "Constitutional Union   12.639283  \n",
       "Democratic             61.344703  \n",
       "Democratic-Republican  57.210122  "
      ]
     },
     "execution_count": 142,
     "metadata": {},
     "output_type": "execute_result"
    }
   ],
   "source": [
    "elections.groupby(\"Party\").agg(max).head(10)"
   ]
  },
  {
   "cell_type": "markdown",
   "metadata": {},
   "source": [
    "We can correct the problem. Each row should show the Year, Candidate, Popular Vote, Result, and % for the election in which that party saw its highest percentage."
   ]
  },
  {
   "cell_type": "code",
   "execution_count": 56,
   "metadata": {},
   "outputs": [
    {
     "data": {
      "text/html": [
       "<div>\n",
       "<table border=\"1\" class=\"dataframe\">\n",
       "  <thead>\n",
       "    <tr style=\"text-align: right;\">\n",
       "      <th></th>\n",
       "      <th>Year</th>\n",
       "      <th>Candidate</th>\n",
       "      <th>Party</th>\n",
       "      <th>Popular vote</th>\n",
       "      <th>Result</th>\n",
       "      <th>%</th>\n",
       "    </tr>\n",
       "  </thead>\n",
       "  <tbody>\n",
       "    <tr>\n",
       "      <th>114</th>\n",
       "      <td>1964</td>\n",
       "      <td>Lyndon Johnson</td>\n",
       "      <td>Democratic</td>\n",
       "      <td>43127041</td>\n",
       "      <td>win</td>\n",
       "      <td>61.344703</td>\n",
       "    </tr>\n",
       "    <tr>\n",
       "      <th>91</th>\n",
       "      <td>1936</td>\n",
       "      <td>Franklin Roosevelt</td>\n",
       "      <td>Democratic</td>\n",
       "      <td>27752648</td>\n",
       "      <td>win</td>\n",
       "      <td>60.978107</td>\n",
       "    </tr>\n",
       "    <tr>\n",
       "      <th>120</th>\n",
       "      <td>1972</td>\n",
       "      <td>Richard Nixon</td>\n",
       "      <td>Republican</td>\n",
       "      <td>47168710</td>\n",
       "      <td>win</td>\n",
       "      <td>60.907806</td>\n",
       "    </tr>\n",
       "    <tr>\n",
       "      <th>79</th>\n",
       "      <td>1920</td>\n",
       "      <td>Warren Harding</td>\n",
       "      <td>Republican</td>\n",
       "      <td>16144093</td>\n",
       "      <td>win</td>\n",
       "      <td>60.574501</td>\n",
       "    </tr>\n",
       "    <tr>\n",
       "      <th>133</th>\n",
       "      <td>1984</td>\n",
       "      <td>Ronald Reagan</td>\n",
       "      <td>Republican</td>\n",
       "      <td>54455472</td>\n",
       "      <td>win</td>\n",
       "      <td>59.023326</td>\n",
       "    </tr>\n",
       "  </tbody>\n",
       "</table>\n",
       "</div>"
      ],
      "text/plain": [
       "     Year           Candidate       Party  Popular vote Result          %\n",
       "114  1964      Lyndon Johnson  Democratic      43127041    win  61.344703\n",
       "91   1936  Franklin Roosevelt  Democratic      27752648    win  60.978107\n",
       "120  1972       Richard Nixon  Republican      47168710    win  60.907806\n",
       "79   1920      Warren Harding  Republican      16144093    win  60.574501\n",
       "133  1984       Ronald Reagan  Republican      54455472    win  59.023326"
      ]
     },
     "execution_count": 56,
     "metadata": {},
     "output_type": "execute_result"
    }
   ],
   "source": [
    "elections_sorted_by_percent = elections.sort_values(\"%\", ascending=False)\n",
    "elections_sorted_by_percent.head(5)"
   ]
  },
  {
   "cell_type": "code",
   "execution_count": 145,
   "metadata": {},
   "outputs": [
    {
     "data": {
      "text/html": [
       "<div>\n",
       "<style scoped>\n",
       "    .dataframe tbody tr th:only-of-type {\n",
       "        vertical-align: middle;\n",
       "    }\n",
       "\n",
       "    .dataframe tbody tr th {\n",
       "        vertical-align: top;\n",
       "    }\n",
       "\n",
       "    .dataframe thead th {\n",
       "        text-align: right;\n",
       "    }\n",
       "</style>\n",
       "<table border=\"1\" class=\"dataframe\">\n",
       "  <thead>\n",
       "    <tr style=\"text-align: right;\">\n",
       "      <th></th>\n",
       "      <th>Year</th>\n",
       "      <th>Candidate</th>\n",
       "      <th>Popular vote</th>\n",
       "      <th>Result</th>\n",
       "      <th>%</th>\n",
       "    </tr>\n",
       "    <tr>\n",
       "      <th>Party</th>\n",
       "      <th></th>\n",
       "      <th></th>\n",
       "      <th></th>\n",
       "      <th></th>\n",
       "      <th></th>\n",
       "    </tr>\n",
       "  </thead>\n",
       "  <tbody>\n",
       "    <tr>\n",
       "      <th>American</th>\n",
       "      <td>1856</td>\n",
       "      <td>Millard Fillmore</td>\n",
       "      <td>873053</td>\n",
       "      <td>loss</td>\n",
       "      <td>21.554001</td>\n",
       "    </tr>\n",
       "    <tr>\n",
       "      <th>American Independent</th>\n",
       "      <td>1968</td>\n",
       "      <td>George Wallace</td>\n",
       "      <td>9901118</td>\n",
       "      <td>loss</td>\n",
       "      <td>13.571218</td>\n",
       "    </tr>\n",
       "    <tr>\n",
       "      <th>Anti-Masonic</th>\n",
       "      <td>1832</td>\n",
       "      <td>William Wirt</td>\n",
       "      <td>100715</td>\n",
       "      <td>loss</td>\n",
       "      <td>7.821583</td>\n",
       "    </tr>\n",
       "    <tr>\n",
       "      <th>Anti-Monopoly</th>\n",
       "      <td>1884</td>\n",
       "      <td>Benjamin Butler</td>\n",
       "      <td>134294</td>\n",
       "      <td>loss</td>\n",
       "      <td>1.335838</td>\n",
       "    </tr>\n",
       "    <tr>\n",
       "      <th>Citizens</th>\n",
       "      <td>1980</td>\n",
       "      <td>Barry Commoner</td>\n",
       "      <td>233052</td>\n",
       "      <td>loss</td>\n",
       "      <td>0.270182</td>\n",
       "    </tr>\n",
       "    <tr>\n",
       "      <th>Communist</th>\n",
       "      <td>1932</td>\n",
       "      <td>William Z. Foster</td>\n",
       "      <td>103307</td>\n",
       "      <td>loss</td>\n",
       "      <td>0.261069</td>\n",
       "    </tr>\n",
       "    <tr>\n",
       "      <th>Constitution</th>\n",
       "      <td>2008</td>\n",
       "      <td>Chuck Baldwin</td>\n",
       "      <td>199750</td>\n",
       "      <td>loss</td>\n",
       "      <td>0.152398</td>\n",
       "    </tr>\n",
       "    <tr>\n",
       "      <th>Constitutional Union</th>\n",
       "      <td>1860</td>\n",
       "      <td>John Bell</td>\n",
       "      <td>590901</td>\n",
       "      <td>loss</td>\n",
       "      <td>12.639283</td>\n",
       "    </tr>\n",
       "    <tr>\n",
       "      <th>Democratic</th>\n",
       "      <td>1964</td>\n",
       "      <td>Lyndon Johnson</td>\n",
       "      <td>43127041</td>\n",
       "      <td>win</td>\n",
       "      <td>61.344703</td>\n",
       "    </tr>\n",
       "    <tr>\n",
       "      <th>Democratic-Republican</th>\n",
       "      <td>1824</td>\n",
       "      <td>Andrew Jackson</td>\n",
       "      <td>151271</td>\n",
       "      <td>loss</td>\n",
       "      <td>57.210122</td>\n",
       "    </tr>\n",
       "    <tr>\n",
       "      <th>Dixiecrat</th>\n",
       "      <td>1948</td>\n",
       "      <td>Strom Thurmond</td>\n",
       "      <td>1175930</td>\n",
       "      <td>loss</td>\n",
       "      <td>2.412304</td>\n",
       "    </tr>\n",
       "    <tr>\n",
       "      <th>Farmer–Labor</th>\n",
       "      <td>1920</td>\n",
       "      <td>Parley P. Christensen</td>\n",
       "      <td>265398</td>\n",
       "      <td>loss</td>\n",
       "      <td>0.995804</td>\n",
       "    </tr>\n",
       "    <tr>\n",
       "      <th>Free Soil</th>\n",
       "      <td>1848</td>\n",
       "      <td>Martin Van Buren</td>\n",
       "      <td>291501</td>\n",
       "      <td>loss</td>\n",
       "      <td>10.138474</td>\n",
       "    </tr>\n",
       "    <tr>\n",
       "      <th>Green</th>\n",
       "      <td>2000</td>\n",
       "      <td>Ralph Nader</td>\n",
       "      <td>2882955</td>\n",
       "      <td>loss</td>\n",
       "      <td>2.741176</td>\n",
       "    </tr>\n",
       "    <tr>\n",
       "      <th>Greenback</th>\n",
       "      <td>1880</td>\n",
       "      <td>James B. Weaver</td>\n",
       "      <td>308649</td>\n",
       "      <td>loss</td>\n",
       "      <td>3.352344</td>\n",
       "    </tr>\n",
       "    <tr>\n",
       "      <th>Independent</th>\n",
       "      <td>1992</td>\n",
       "      <td>Ross Perot</td>\n",
       "      <td>19743821</td>\n",
       "      <td>loss</td>\n",
       "      <td>18.956298</td>\n",
       "    </tr>\n",
       "    <tr>\n",
       "      <th>Liberal Republican</th>\n",
       "      <td>1872</td>\n",
       "      <td>Horace Greeley</td>\n",
       "      <td>2834761</td>\n",
       "      <td>loss</td>\n",
       "      <td>44.071406</td>\n",
       "    </tr>\n",
       "    <tr>\n",
       "      <th>Libertarian</th>\n",
       "      <td>2016</td>\n",
       "      <td>Gary Johnson</td>\n",
       "      <td>4489235</td>\n",
       "      <td>loss</td>\n",
       "      <td>3.307714</td>\n",
       "    </tr>\n",
       "    <tr>\n",
       "      <th>National Democratic</th>\n",
       "      <td>1896</td>\n",
       "      <td>John M. Palmer</td>\n",
       "      <td>134645</td>\n",
       "      <td>loss</td>\n",
       "      <td>0.969566</td>\n",
       "    </tr>\n",
       "    <tr>\n",
       "      <th>National Republican</th>\n",
       "      <td>1828</td>\n",
       "      <td>John Quincy Adams</td>\n",
       "      <td>500897</td>\n",
       "      <td>loss</td>\n",
       "      <td>43.796073</td>\n",
       "    </tr>\n",
       "    <tr>\n",
       "      <th>National Union</th>\n",
       "      <td>1864</td>\n",
       "      <td>Abraham Lincoln</td>\n",
       "      <td>2211317</td>\n",
       "      <td>win</td>\n",
       "      <td>54.951512</td>\n",
       "    </tr>\n",
       "    <tr>\n",
       "      <th>Natural Law</th>\n",
       "      <td>1996</td>\n",
       "      <td>John Hagelin</td>\n",
       "      <td>113670</td>\n",
       "      <td>loss</td>\n",
       "      <td>0.118219</td>\n",
       "    </tr>\n",
       "    <tr>\n",
       "      <th>New Alliance</th>\n",
       "      <td>1988</td>\n",
       "      <td>Lenora Fulani</td>\n",
       "      <td>217221</td>\n",
       "      <td>loss</td>\n",
       "      <td>0.237804</td>\n",
       "    </tr>\n",
       "    <tr>\n",
       "      <th>Northern Democratic</th>\n",
       "      <td>1860</td>\n",
       "      <td>Stephen A. Douglas</td>\n",
       "      <td>1380202</td>\n",
       "      <td>loss</td>\n",
       "      <td>29.522311</td>\n",
       "    </tr>\n",
       "    <tr>\n",
       "      <th>Populist</th>\n",
       "      <td>1892</td>\n",
       "      <td>James B. Weaver</td>\n",
       "      <td>1041028</td>\n",
       "      <td>loss</td>\n",
       "      <td>8.645038</td>\n",
       "    </tr>\n",
       "    <tr>\n",
       "      <th>Progressive</th>\n",
       "      <td>1912</td>\n",
       "      <td>Theodore Roosevelt</td>\n",
       "      <td>4122721</td>\n",
       "      <td>loss</td>\n",
       "      <td>27.457433</td>\n",
       "    </tr>\n",
       "    <tr>\n",
       "      <th>Prohibition</th>\n",
       "      <td>1892</td>\n",
       "      <td>John Bidwell</td>\n",
       "      <td>270879</td>\n",
       "      <td>loss</td>\n",
       "      <td>2.249468</td>\n",
       "    </tr>\n",
       "    <tr>\n",
       "      <th>Reform</th>\n",
       "      <td>1996</td>\n",
       "      <td>Ross Perot</td>\n",
       "      <td>8085294</td>\n",
       "      <td>loss</td>\n",
       "      <td>8.408844</td>\n",
       "    </tr>\n",
       "    <tr>\n",
       "      <th>Republican</th>\n",
       "      <td>1972</td>\n",
       "      <td>Richard Nixon</td>\n",
       "      <td>47168710</td>\n",
       "      <td>win</td>\n",
       "      <td>60.907806</td>\n",
       "    </tr>\n",
       "    <tr>\n",
       "      <th>Socialist</th>\n",
       "      <td>1912</td>\n",
       "      <td>Eugene V. Debs</td>\n",
       "      <td>901551</td>\n",
       "      <td>loss</td>\n",
       "      <td>6.004354</td>\n",
       "    </tr>\n",
       "    <tr>\n",
       "      <th>Southern Democratic</th>\n",
       "      <td>1860</td>\n",
       "      <td>John C. Breckinridge</td>\n",
       "      <td>848019</td>\n",
       "      <td>loss</td>\n",
       "      <td>18.138998</td>\n",
       "    </tr>\n",
       "    <tr>\n",
       "      <th>States' Rights</th>\n",
       "      <td>1956</td>\n",
       "      <td>T. Coleman Andrews</td>\n",
       "      <td>107929</td>\n",
       "      <td>loss</td>\n",
       "      <td>0.174883</td>\n",
       "    </tr>\n",
       "    <tr>\n",
       "      <th>Taxpayers</th>\n",
       "      <td>1996</td>\n",
       "      <td>Howard Phillips</td>\n",
       "      <td>184656</td>\n",
       "      <td>loss</td>\n",
       "      <td>0.192045</td>\n",
       "    </tr>\n",
       "    <tr>\n",
       "      <th>Union</th>\n",
       "      <td>1936</td>\n",
       "      <td>William Lemke</td>\n",
       "      <td>892378</td>\n",
       "      <td>loss</td>\n",
       "      <td>1.960733</td>\n",
       "    </tr>\n",
       "    <tr>\n",
       "      <th>Union Labor</th>\n",
       "      <td>1888</td>\n",
       "      <td>Alson Streeter</td>\n",
       "      <td>146602</td>\n",
       "      <td>loss</td>\n",
       "      <td>1.288861</td>\n",
       "    </tr>\n",
       "    <tr>\n",
       "      <th>Whig</th>\n",
       "      <td>1840</td>\n",
       "      <td>William Henry Harrison</td>\n",
       "      <td>1275583</td>\n",
       "      <td>win</td>\n",
       "      <td>53.051213</td>\n",
       "    </tr>\n",
       "  </tbody>\n",
       "</table>\n",
       "</div>"
      ],
      "text/plain": [
       "                       Year               Candidate  Popular vote Result  \\\n",
       "Party                                                                      \n",
       "American               1856        Millard Fillmore        873053   loss   \n",
       "American Independent   1968          George Wallace       9901118   loss   \n",
       "Anti-Masonic           1832            William Wirt        100715   loss   \n",
       "Anti-Monopoly          1884         Benjamin Butler        134294   loss   \n",
       "Citizens               1980          Barry Commoner        233052   loss   \n",
       "Communist              1932       William Z. Foster        103307   loss   \n",
       "Constitution           2008           Chuck Baldwin        199750   loss   \n",
       "Constitutional Union   1860               John Bell        590901   loss   \n",
       "Democratic             1964          Lyndon Johnson      43127041    win   \n",
       "Democratic-Republican  1824          Andrew Jackson        151271   loss   \n",
       "Dixiecrat              1948          Strom Thurmond       1175930   loss   \n",
       "Farmer–Labor           1920   Parley P. Christensen        265398   loss   \n",
       "Free Soil              1848        Martin Van Buren        291501   loss   \n",
       "Green                  2000             Ralph Nader       2882955   loss   \n",
       "Greenback              1880         James B. Weaver        308649   loss   \n",
       "Independent            1992              Ross Perot      19743821   loss   \n",
       "Liberal Republican     1872          Horace Greeley       2834761   loss   \n",
       "Libertarian            2016            Gary Johnson       4489235   loss   \n",
       "National Democratic    1896          John M. Palmer        134645   loss   \n",
       "National Republican    1828       John Quincy Adams        500897   loss   \n",
       "National Union         1864         Abraham Lincoln       2211317    win   \n",
       "Natural Law            1996            John Hagelin        113670   loss   \n",
       "New Alliance           1988           Lenora Fulani        217221   loss   \n",
       "Northern Democratic    1860      Stephen A. Douglas       1380202   loss   \n",
       "Populist               1892         James B. Weaver       1041028   loss   \n",
       "Progressive            1912      Theodore Roosevelt       4122721   loss   \n",
       "Prohibition            1892            John Bidwell        270879   loss   \n",
       "Reform                 1996              Ross Perot       8085294   loss   \n",
       "Republican             1972           Richard Nixon      47168710    win   \n",
       "Socialist              1912          Eugene V. Debs        901551   loss   \n",
       "Southern Democratic    1860    John C. Breckinridge        848019   loss   \n",
       "States' Rights         1956      T. Coleman Andrews        107929   loss   \n",
       "Taxpayers              1996         Howard Phillips        184656   loss   \n",
       "Union                  1936           William Lemke        892378   loss   \n",
       "Union Labor            1888          Alson Streeter        146602   loss   \n",
       "Whig                   1840  William Henry Harrison       1275583    win   \n",
       "\n",
       "                               %  \n",
       "Party                             \n",
       "American               21.554001  \n",
       "American Independent   13.571218  \n",
       "Anti-Masonic            7.821583  \n",
       "Anti-Monopoly           1.335838  \n",
       "Citizens                0.270182  \n",
       "Communist               0.261069  \n",
       "Constitution            0.152398  \n",
       "Constitutional Union   12.639283  \n",
       "Democratic             61.344703  \n",
       "Democratic-Republican  57.210122  \n",
       "Dixiecrat               2.412304  \n",
       "Farmer–Labor            0.995804  \n",
       "Free Soil              10.138474  \n",
       "Green                   2.741176  \n",
       "Greenback               3.352344  \n",
       "Independent            18.956298  \n",
       "Liberal Republican     44.071406  \n",
       "Libertarian             3.307714  \n",
       "National Democratic     0.969566  \n",
       "National Republican    43.796073  \n",
       "National Union         54.951512  \n",
       "Natural Law             0.118219  \n",
       "New Alliance            0.237804  \n",
       "Northern Democratic    29.522311  \n",
       "Populist                8.645038  \n",
       "Progressive            27.457433  \n",
       "Prohibition             2.249468  \n",
       "Reform                  8.408844  \n",
       "Republican             60.907806  \n",
       "Socialist               6.004354  \n",
       "Southern Democratic    18.138998  \n",
       "States' Rights          0.174883  \n",
       "Taxpayers               0.192045  \n",
       "Union                   1.960733  \n",
       "Union Labor             1.288861  \n",
       "Whig                   53.051213  "
      ]
     },
     "execution_count": 145,
     "metadata": {},
     "output_type": "execute_result"
    }
   ],
   "source": [
    "def select_first(some_series):\n",
    "    return some_series.values[0]\n",
    "\n",
    "elections_sorted_by_percent = elections.sort_values(\"%\", ascending=False)\n",
    "elections_sorted_by_percent.groupby(\"Party\").agg(select_first)"
   ]
  },
  {
   "cell_type": "markdown",
   "metadata": {},
   "source": [
    "#### Groups"
   ]
  },
  {
   "cell_type": "markdown",
   "metadata": {},
   "source": [
    "Applying a groupby operation to a Data Frame produces\n",
    "a DataFrameGroupBy object. "
   ]
  },
  {
   "cell_type": "code",
   "execution_count": 57,
   "metadata": {},
   "outputs": [
    {
     "data": {
      "text/plain": [
       "<pandas.core.groupby.DataFrameGroupBy object at 0x7f6522386208>"
      ]
     },
     "execution_count": 57,
     "metadata": {},
     "output_type": "execute_result"
    }
   ],
   "source": [
    "elections.groupby(\"Party\")"
   ]
  },
  {
   "cell_type": "code",
   "execution_count": null,
   "metadata": {},
   "outputs": [],
   "source": [
    "for n, g in elections.groupby(\"Party\"):\n",
    "    print(n)\n",
    "    display(g)"
   ]
  },
  {
   "cell_type": "code",
   "execution_count": null,
   "metadata": {},
   "outputs": [],
   "source": [
    "elections.groupby(\"Party\").get_group(\"Democratic\")"
   ]
  },
  {
   "cell_type": "markdown",
   "metadata": {},
   "source": [
    "Functions can then be applied to DataFrameGroupBy objects to create new Data Frames and Series. We should study a couple of these functions (sometimes called methods)."
   ]
  },
  {
   "cell_type": "markdown",
   "metadata": {},
   "source": [
    "**groupby.size()**"
   ]
  },
  {
   "cell_type": "code",
   "execution_count": 153,
   "metadata": {
    "scrolled": true
   },
   "outputs": [
    {
     "data": {
      "text/plain": [
       "Party\n",
       "American                2\n",
       "American Independent    3\n",
       "Anti-Masonic            1\n",
       "dtype: int64"
      ]
     },
     "execution_count": 153,
     "metadata": {},
     "output_type": "execute_result"
    }
   ],
   "source": [
    "#size returns a Series giving the size of each group\n",
    "\n",
    "elections.groupby(\"Party\").size().head(3)"
   ]
  },
  {
   "cell_type": "markdown",
   "metadata": {},
   "source": [
    "**groupby.filter()**"
   ]
  },
  {
   "cell_type": "markdown",
   "metadata": {},
   "source": [
    "Filter gives a copy of the original DataFrame where row r is included if its group obeys the given condition.\n",
    "\n",
    "Note that filtering is done per GROUP, not per ROW."
   ]
  },
  {
   "cell_type": "code",
   "execution_count": 147,
   "metadata": {},
   "outputs": [],
   "source": [
    "def my_filter_function(df):\n",
    "    return max(df[\"%\"]) < 45"
   ]
  },
  {
   "cell_type": "code",
   "execution_count": 149,
   "metadata": {
    "scrolled": false
   },
   "outputs": [
    {
     "data": {
      "text/html": [
       "<div>\n",
       "<style scoped>\n",
       "    .dataframe tbody tr th:only-of-type {\n",
       "        vertical-align: middle;\n",
       "    }\n",
       "\n",
       "    .dataframe tbody tr th {\n",
       "        vertical-align: top;\n",
       "    }\n",
       "\n",
       "    .dataframe thead th {\n",
       "        text-align: right;\n",
       "    }\n",
       "</style>\n",
       "<table border=\"1\" class=\"dataframe\">\n",
       "  <thead>\n",
       "    <tr style=\"text-align: right;\">\n",
       "      <th></th>\n",
       "      <th>Year</th>\n",
       "      <th>Candidate</th>\n",
       "      <th>Party</th>\n",
       "      <th>Popular vote</th>\n",
       "      <th>Result</th>\n",
       "      <th>%</th>\n",
       "    </tr>\n",
       "  </thead>\n",
       "  <tbody>\n",
       "    <tr>\n",
       "      <th>23</th>\n",
       "      <td>1860</td>\n",
       "      <td>Abraham Lincoln</td>\n",
       "      <td>Republican</td>\n",
       "      <td>1855993</td>\n",
       "      <td>win</td>\n",
       "      <td>39.699408</td>\n",
       "    </tr>\n",
       "    <tr>\n",
       "      <th>24</th>\n",
       "      <td>1860</td>\n",
       "      <td>John Bell</td>\n",
       "      <td>Constitutional Union</td>\n",
       "      <td>590901</td>\n",
       "      <td>loss</td>\n",
       "      <td>12.639283</td>\n",
       "    </tr>\n",
       "    <tr>\n",
       "      <th>25</th>\n",
       "      <td>1860</td>\n",
       "      <td>John C. Breckinridge</td>\n",
       "      <td>Southern Democratic</td>\n",
       "      <td>848019</td>\n",
       "      <td>loss</td>\n",
       "      <td>18.138998</td>\n",
       "    </tr>\n",
       "  </tbody>\n",
       "</table>\n",
       "</div>"
      ],
      "text/plain": [
       "    Year             Candidate                 Party  Popular vote Result  \\\n",
       "23  1860       Abraham Lincoln            Republican       1855993    win   \n",
       "24  1860             John Bell  Constitutional Union        590901   loss   \n",
       "25  1860  John C. Breckinridge   Southern Democratic        848019   loss   \n",
       "\n",
       "            %  \n",
       "23  39.699408  \n",
       "24  12.639283  \n",
       "25  18.138998  "
      ]
     },
     "execution_count": 149,
     "metadata": {},
     "output_type": "execute_result"
    }
   ],
   "source": [
    "elections.groupby(\"Year\").filter(my_filter_function).head(3)"
   ]
  },
  {
   "cell_type": "markdown",
   "metadata": {},
   "source": [
    "#### Pivot Tables"
   ]
  },
  {
   "cell_type": "markdown",
   "metadata": {},
   "source": [
    "In the question about changing popularity, we didn't take into account the possibility that the most popular name was actually spread across both birth sexes. While that possibility is unlikely for popular names, it could affect the difference of the maximum and minimum. For example the name Leslie is sometimes male and sometimes female."
   ]
  },
  {
   "cell_type": "markdown",
   "metadata": {},
   "source": [
    "It is possible to group a DataFrame by multiple features. For example, if we group by Year and Sex we get back a DataFrame with the babies of each sex born in each year. We can aggregate by taking a sum to calculate the total number of births."
   ]
  },
  {
   "cell_type": "code",
   "execution_count": 160,
   "metadata": {},
   "outputs": [
    {
     "data": {
      "text/html": [
       "<div>\n",
       "<style scoped>\n",
       "    .dataframe tbody tr th:only-of-type {\n",
       "        vertical-align: middle;\n",
       "    }\n",
       "\n",
       "    .dataframe tbody tr th {\n",
       "        vertical-align: top;\n",
       "    }\n",
       "\n",
       "    .dataframe thead th {\n",
       "        text-align: right;\n",
       "    }\n",
       "</style>\n",
       "<table border=\"1\" class=\"dataframe\">\n",
       "  <thead>\n",
       "    <tr style=\"text-align: right;\">\n",
       "      <th></th>\n",
       "      <th></th>\n",
       "      <th>Count</th>\n",
       "    </tr>\n",
       "    <tr>\n",
       "      <th>Year</th>\n",
       "      <th>Sex</th>\n",
       "      <th></th>\n",
       "    </tr>\n",
       "  </thead>\n",
       "  <tbody>\n",
       "    <tr>\n",
       "      <th rowspan=\"2\" valign=\"top\">1910</th>\n",
       "      <th>F</th>\n",
       "      <td>32428</td>\n",
       "    </tr>\n",
       "    <tr>\n",
       "      <th>M</th>\n",
       "      <td>15720</td>\n",
       "    </tr>\n",
       "    <tr>\n",
       "      <th rowspan=\"2\" valign=\"top\">1911</th>\n",
       "      <th>F</th>\n",
       "      <td>37180</td>\n",
       "    </tr>\n",
       "    <tr>\n",
       "      <th>M</th>\n",
       "      <td>23621</td>\n",
       "    </tr>\n",
       "    <tr>\n",
       "      <th rowspan=\"2\" valign=\"top\">1912</th>\n",
       "      <th>F</th>\n",
       "      <td>49386</td>\n",
       "    </tr>\n",
       "    <tr>\n",
       "      <th>M</th>\n",
       "      <td>42658</td>\n",
       "    </tr>\n",
       "  </tbody>\n",
       "</table>\n",
       "</div>"
      ],
      "text/plain": [
       "          Count\n",
       "Year Sex       \n",
       "1910 F    32428\n",
       "     M    15720\n",
       "1911 F    37180\n",
       "     M    23621\n",
       "1912 F    49386\n",
       "     M    42658"
      ]
     },
     "execution_count": 160,
     "metadata": {},
     "output_type": "execute_result"
    }
   ],
   "source": [
    "babynames.groupby([\"Year\", \"Sex\"]).agg({\"Count\":sum}).head(6)"
   ]
  },
  {
   "cell_type": "code",
   "execution_count": 161,
   "metadata": {},
   "outputs": [
    {
     "data": {
      "text/html": [
       "<div>\n",
       "<style scoped>\n",
       "    .dataframe tbody tr th:only-of-type {\n",
       "        vertical-align: middle;\n",
       "    }\n",
       "\n",
       "    .dataframe tbody tr th {\n",
       "        vertical-align: top;\n",
       "    }\n",
       "\n",
       "    .dataframe thead th {\n",
       "        text-align: right;\n",
       "    }\n",
       "</style>\n",
       "<table border=\"1\" class=\"dataframe\">\n",
       "  <thead>\n",
       "    <tr style=\"text-align: right;\">\n",
       "      <th></th>\n",
       "      <th></th>\n",
       "      <th>Count</th>\n",
       "    </tr>\n",
       "    <tr>\n",
       "      <th>Sex</th>\n",
       "      <th>Year</th>\n",
       "      <th></th>\n",
       "    </tr>\n",
       "  </thead>\n",
       "  <tbody>\n",
       "    <tr>\n",
       "      <th rowspan=\"6\" valign=\"top\">F</th>\n",
       "      <th>1910</th>\n",
       "      <td>32428</td>\n",
       "    </tr>\n",
       "    <tr>\n",
       "      <th>1911</th>\n",
       "      <td>37180</td>\n",
       "    </tr>\n",
       "    <tr>\n",
       "      <th>1912</th>\n",
       "      <td>49386</td>\n",
       "    </tr>\n",
       "    <tr>\n",
       "      <th>1913</th>\n",
       "      <td>55056</td>\n",
       "    </tr>\n",
       "    <tr>\n",
       "      <th>1914</th>\n",
       "      <td>73320</td>\n",
       "    </tr>\n",
       "    <tr>\n",
       "      <th>1915</th>\n",
       "      <td>91549</td>\n",
       "    </tr>\n",
       "  </tbody>\n",
       "</table>\n",
       "</div>"
      ],
      "text/plain": [
       "          Count\n",
       "Sex Year       \n",
       "F   1910  32428\n",
       "    1911  37180\n",
       "    1912  49386\n",
       "    1913  55056\n",
       "    1914  73320\n",
       "    1915  91549"
      ]
     },
     "execution_count": 161,
     "metadata": {},
     "output_type": "execute_result"
    }
   ],
   "source": [
    "babynames.groupby([\"Sex\", \"Year\"]).agg({\"Count\":sum}).head(6)"
   ]
  },
  {
   "cell_type": "code",
   "execution_count": 68,
   "metadata": {},
   "outputs": [
    {
     "data": {
      "text/html": [
       "<div>\n",
       "<table border=\"1\" class=\"dataframe\">\n",
       "  <thead>\n",
       "    <tr style=\"text-align: right;\">\n",
       "      <th></th>\n",
       "      <th>State</th>\n",
       "      <th>Sex</th>\n",
       "      <th>Year</th>\n",
       "      <th>Name</th>\n",
       "      <th>Count</th>\n",
       "    </tr>\n",
       "  </thead>\n",
       "  <tbody>\n",
       "    <tr>\n",
       "      <th>12263</th>\n",
       "      <td>CA</td>\n",
       "      <td>F</td>\n",
       "      <td>1932</td>\n",
       "      <td>Arleen</td>\n",
       "      <td>6</td>\n",
       "    </tr>\n",
       "    <tr>\n",
       "      <th>135303</th>\n",
       "      <td>CA</td>\n",
       "      <td>F</td>\n",
       "      <td>1996</td>\n",
       "      <td>Nichole</td>\n",
       "      <td>83</td>\n",
       "    </tr>\n",
       "    <tr>\n",
       "      <th>336795</th>\n",
       "      <td>CA</td>\n",
       "      <td>M</td>\n",
       "      <td>2003</td>\n",
       "      <td>Iverson</td>\n",
       "      <td>10</td>\n",
       "    </tr>\n",
       "    <tr>\n",
       "      <th>186499</th>\n",
       "      <td>CA</td>\n",
       "      <td>F</td>\n",
       "      <td>2009</td>\n",
       "      <td>Mara</td>\n",
       "      <td>24</td>\n",
       "    </tr>\n",
       "    <tr>\n",
       "      <th>79357</th>\n",
       "      <td>CA</td>\n",
       "      <td>F</td>\n",
       "      <td>1978</td>\n",
       "      <td>Shea</td>\n",
       "      <td>15</td>\n",
       "    </tr>\n",
       "  </tbody>\n",
       "</table>\n",
       "</div>"
      ],
      "text/plain": [
       "       State Sex  Year     Name  Count\n",
       "12263     CA   F  1932   Arleen      6\n",
       "135303    CA   F  1996  Nichole     83\n",
       "336795    CA   M  2003  Iverson     10\n",
       "186499    CA   F  2009     Mara     24\n",
       "79357     CA   F  1978     Shea     15"
      ]
     },
     "execution_count": 68,
     "metadata": {},
     "output_type": "execute_result"
    }
   ],
   "source": [
    "babynames.head(5)"
   ]
  },
  {
   "cell_type": "code",
   "execution_count": 204,
   "metadata": {
    "scrolled": false
   },
   "outputs": [
    {
     "data": {
      "text/html": [
       "<div>\n",
       "<style scoped>\n",
       "    .dataframe tbody tr th:only-of-type {\n",
       "        vertical-align: middle;\n",
       "    }\n",
       "\n",
       "    .dataframe tbody tr th {\n",
       "        vertical-align: top;\n",
       "    }\n",
       "\n",
       "    .dataframe thead tr th {\n",
       "        text-align: left;\n",
       "    }\n",
       "\n",
       "    .dataframe thead tr:last-of-type th {\n",
       "        text-align: right;\n",
       "    }\n",
       "</style>\n",
       "<table border=\"1\" class=\"dataframe\">\n",
       "  <thead>\n",
       "    <tr>\n",
       "      <th></th>\n",
       "      <th colspan=\"2\" halign=\"left\">Count</th>\n",
       "    </tr>\n",
       "    <tr>\n",
       "      <th>Sex</th>\n",
       "      <th>F</th>\n",
       "      <th>M</th>\n",
       "    </tr>\n",
       "    <tr>\n",
       "      <th>Year</th>\n",
       "      <th></th>\n",
       "      <th></th>\n",
       "    </tr>\n",
       "  </thead>\n",
       "  <tbody>\n",
       "    <tr>\n",
       "      <th>1910</th>\n",
       "      <td>32428</td>\n",
       "      <td>15720</td>\n",
       "    </tr>\n",
       "    <tr>\n",
       "      <th>1911</th>\n",
       "      <td>37180</td>\n",
       "      <td>23621</td>\n",
       "    </tr>\n",
       "    <tr>\n",
       "      <th>1912</th>\n",
       "      <td>49386</td>\n",
       "      <td>42658</td>\n",
       "    </tr>\n",
       "    <tr>\n",
       "      <th>1913</th>\n",
       "      <td>55056</td>\n",
       "      <td>48277</td>\n",
       "    </tr>\n",
       "    <tr>\n",
       "      <th>1914</th>\n",
       "      <td>73320</td>\n",
       "      <td>63519</td>\n",
       "    </tr>\n",
       "    <tr>\n",
       "      <th>1915</th>\n",
       "      <td>91549</td>\n",
       "      <td>78336</td>\n",
       "    </tr>\n",
       "  </tbody>\n",
       "</table>\n",
       "</div>"
      ],
      "text/plain": [
       "      Count       \n",
       "Sex       F      M\n",
       "Year              \n",
       "1910  32428  15720\n",
       "1911  37180  23621\n",
       "1912  49386  42658\n",
       "1913  55056  48277\n",
       "1914  73320  63519\n",
       "1915  91549  78336"
      ]
     },
     "execution_count": 204,
     "metadata": {},
     "output_type": "execute_result"
    }
   ],
   "source": [
    "babynames_pivot = babynames.pivot_table(\n",
    "    index='Year', # the rows (turned into index)\n",
    "    columns='Sex', # the column values\n",
    "    values=['Count'], # the field(s) to processed in each group\n",
    "    aggfunc=sum, # group operation\n",
    ")\n",
    "babynames_pivot.head(6)"
   ]
  },
  {
   "cell_type": "markdown",
   "metadata": {},
   "source": [
    "Note that we can separate over multiple lines. \n",
    "\n",
    "Now we can answer the question"
   ]
  },
  {
   "cell_type": "code",
   "execution_count": 206,
   "metadata": {
    "scrolled": true
   },
   "outputs": [],
   "source": [
    "babynames_popularity_pivot = babynames.pivot_table(\n",
    "    index='Name', # the rows (turned into index)\n",
    "    columns='Sex', # the column values\n",
    "    values=['Count'], # the field(s) to processed in each group\n",
    "    aggfunc=max_minus_min, # group operation\n",
    ")"
   ]
  },
  {
   "cell_type": "code",
   "execution_count": 208,
   "metadata": {},
   "outputs": [
    {
     "data": {
      "text/html": [
       "<div>\n",
       "<style scoped>\n",
       "    .dataframe tbody tr th:only-of-type {\n",
       "        vertical-align: middle;\n",
       "    }\n",
       "\n",
       "    .dataframe tbody tr th {\n",
       "        vertical-align: top;\n",
       "    }\n",
       "\n",
       "    .dataframe thead tr th {\n",
       "        text-align: left;\n",
       "    }\n",
       "\n",
       "    .dataframe thead tr:last-of-type th {\n",
       "        text-align: right;\n",
       "    }\n",
       "</style>\n",
       "<table border=\"1\" class=\"dataframe\">\n",
       "  <thead>\n",
       "    <tr>\n",
       "      <th></th>\n",
       "      <th colspan=\"2\" halign=\"left\">Count</th>\n",
       "    </tr>\n",
       "    <tr>\n",
       "      <th>Sex</th>\n",
       "      <th>F</th>\n",
       "      <th>M</th>\n",
       "    </tr>\n",
       "    <tr>\n",
       "      <th>Name</th>\n",
       "      <th></th>\n",
       "      <th></th>\n",
       "    </tr>\n",
       "  </thead>\n",
       "  <tbody>\n",
       "    <tr>\n",
       "      <th>Nixaliz</th>\n",
       "      <td>0.0</td>\n",
       "      <td>NaN</td>\n",
       "    </tr>\n",
       "    <tr>\n",
       "      <th>Alphonso</th>\n",
       "      <td>NaN</td>\n",
       "      <td>25.0</td>\n",
       "    </tr>\n",
       "    <tr>\n",
       "      <th>Altin</th>\n",
       "      <td>NaN</td>\n",
       "      <td>2.0</td>\n",
       "    </tr>\n",
       "    <tr>\n",
       "      <th>Joon</th>\n",
       "      <td>NaN</td>\n",
       "      <td>0.0</td>\n",
       "    </tr>\n",
       "    <tr>\n",
       "      <th>Cherry</th>\n",
       "      <td>7.0</td>\n",
       "      <td>NaN</td>\n",
       "    </tr>\n",
       "    <tr>\n",
       "      <th>Jaceon</th>\n",
       "      <td>NaN</td>\n",
       "      <td>0.0</td>\n",
       "    </tr>\n",
       "    <tr>\n",
       "      <th>Izabel</th>\n",
       "      <td>7.0</td>\n",
       "      <td>NaN</td>\n",
       "    </tr>\n",
       "    <tr>\n",
       "      <th>Akua</th>\n",
       "      <td>4.0</td>\n",
       "      <td>NaN</td>\n",
       "    </tr>\n",
       "    <tr>\n",
       "      <th>Erina</th>\n",
       "      <td>5.0</td>\n",
       "      <td>NaN</td>\n",
       "    </tr>\n",
       "    <tr>\n",
       "      <th>Callahan</th>\n",
       "      <td>NaN</td>\n",
       "      <td>4.0</td>\n",
       "    </tr>\n",
       "  </tbody>\n",
       "</table>\n",
       "</div>"
      ],
      "text/plain": [
       "         Count      \n",
       "Sex          F     M\n",
       "Name                \n",
       "Nixaliz    0.0   NaN\n",
       "Alphonso   NaN  25.0\n",
       "Altin      NaN   2.0\n",
       "Joon       NaN   0.0\n",
       "Cherry     7.0   NaN\n",
       "Jaceon     NaN   0.0\n",
       "Izabel     7.0   NaN\n",
       "Akua       4.0   NaN\n",
       "Erina      5.0   NaN\n",
       "Callahan   NaN   4.0"
      ]
     },
     "execution_count": 208,
     "metadata": {},
     "output_type": "execute_result"
    }
   ],
   "source": [
    "babynames_popularity_pivot.sample(10)"
   ]
  },
  {
   "cell_type": "markdown",
   "metadata": {},
   "source": [
    "What are these values `NaN`?"
   ]
  }
 ],
 "metadata": {
  "kernelspec": {
   "display_name": "Python 3",
   "language": "python",
   "name": "python3"
  },
  "language_info": {
   "codemirror_mode": {
    "name": "ipython",
    "version": 3
   },
   "file_extension": ".py",
   "mimetype": "text/x-python",
   "name": "python",
   "nbconvert_exporter": "python",
   "pygments_lexer": "ipython3",
   "version": "3.7.3"
  }
 },
 "nbformat": 4,
 "nbformat_minor": 2
}
