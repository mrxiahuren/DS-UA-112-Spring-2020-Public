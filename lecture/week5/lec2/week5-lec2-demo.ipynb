{
 "cells": [
  {
   "cell_type": "markdown",
   "metadata": {},
   "source": [
    "### Week 5 Lecture 2 Demo\n",
    "\n",
    "CO2 Data from Mauna Loa Observatory\n"
   ]
  },
  {
   "cell_type": "markdown",
   "metadata": {},
   "source": [
    "## Introduction\n",
    "\n",
    "In this lecture we examine the process of data cleaning and Exploratory Data Analysis (EDA). Often you will acquire or even be given a collection of data in order to conduct some analysis or answer some questions. The first step in using that data is to ensure that it is in the correct form (cleaned) and that you understand its properties and limitations (EDA). Often as you explore data through EDA you will identify additional transformations that may be required before the data is ready for analysis.\n",
    "\n",
    "In this notebook we obtain CO2 data from the Mauna Loa observatory in Hawaii. \n",
    "These data are curated by NOAA Research (National Oceanic & Atmospheric Administration) and can be found at:\n",
    "https://www.esrl.noaa.gov/gmd/ccgg/trends/mlo.html"
   ]
  },
  {
   "cell_type": "code",
   "execution_count": 1,
   "metadata": {},
   "outputs": [],
   "source": [
    "import pandas as pd\n",
    "import numpy as np\n",
    "import zipfile\n",
    "import matplotlib\n",
    "import matplotlib.pyplot as plt\n",
    "import seaborn as sns\n",
    "\n",
    "sns.set()\n"
   ]
  },
  {
   "cell_type": "markdown",
   "metadata": {},
   "source": [
    "## Unboxing the Data\n",
    "\n",
    "We have downloaded some the latest data for CO2 emissions and placed them in the data folder. The first step to understanding the data is learning a bit about the file(s).\n",
    "\n",
    "### How big is the data?\n",
    "\n",
    "We often start looking at the data by getting a rough estimate of its size. This can help inform the tools we use and how we view the data. \n",
    "\n",
    "If the data are relatively small, we might use a text editor or a spreadsheet to look at them. If they are larger, \n",
    "then we might jump to more programmatic exploration or even used distributed computing tools.\n",
    "\n",
    "The following command lists (`l`) the files with human (`h`) readable file sizes:"
   ]
  },
  {
   "cell_type": "code",
   "execution_count": 2,
   "metadata": {},
   "outputs": [
    {
     "name": "stdout",
     "output_type": "stream",
     "text": [
      "total 188K\n",
      "-rwxrwxrwx 1 hug hug 133K Sep 15 21:51 \u001b[0m\u001b[01;32m34565-0001-Data-Subset.txt\u001b[0m*\n",
      "-rwxrwxrwx 1 hug hug  50K Sep 15 21:51 \u001b[01;32mco2_mm_mlo.txt\u001b[0m*\n"
     ]
    }
   ],
   "source": [
    "ls -lh data"
   ]
  },
  {
   "cell_type": "markdown",
   "metadata": {},
   "source": [
    "In some file systems addition attributes describing the file may be available, e.g.,\n",
    "you may want to try the file command:"
   ]
  },
  {
   "cell_type": "code",
   "execution_count": 3,
   "metadata": {},
   "outputs": [
    {
     "name": "stdout",
     "output_type": "stream",
     "text": [
      "data/co2_mm_mlo.txt: ASCII text\n"
     ]
    }
   ],
   "source": [
    "!file data/co2_mm_mlo.txt"
   ]
  },
  {
   "cell_type": "markdown",
   "metadata": {},
   "source": [
    "Here we are invoking the shell command via the ! operator. \n",
    "The wc command below computes the number of lines, words, and characters in each file."
   ]
  },
  {
   "cell_type": "code",
   "execution_count": 4,
   "metadata": {},
   "outputs": [
    {
     "name": "stdout",
     "output_type": "stream",
     "text": [
      "  810  5804 51131 data/co2_mm_mlo.txt\n"
     ]
    }
   ],
   "source": [
    "!wc data/co2_mm_mlo.txt"
   ]
  },
  {
   "cell_type": "markdown",
   "metadata": {},
   "source": [
    "These command reveals a bit more about the structure of the data.\n",
    "\n",
    "The file is relatively small and we could comfortably examine it in a text editor. (Some options are *sublime*, and *emacs*, or the very old school *vi*).\n",
    "\n",
    "In listing the file, notice that the file name suffix *txt* suggests it is a text file, and this is \n",
    "confirmed by the *ASCII text* information from `file data`\n",
    "\n",
    "Some common formats for plain text are delimited formats, e.g.,\n",
    "\n",
    " + CSV: Comma separated values \n",
    " + TSV: Tab separated values\n",
    " \n",
    " \n",
    "Later in this course, we will work with JSON (JavaScript Object Notation) files. \n",
    "This is a very standard semi-structured file format used to store nested data."
   ]
  },
  {
   "cell_type": "markdown",
   "metadata": {},
   "source": [
    "### What is the format?\n",
    "We already noticed that the file ends in `txt` and the contents are ASCII text.\n",
    "Let's use the head command to look at the first few lines in the file to try to determine if we have \n",
    "a delimited file of some kind."
   ]
  },
  {
   "cell_type": "code",
   "execution_count": 5,
   "metadata": {},
   "outputs": [
    {
     "name": "stdout",
     "output_type": "stream",
     "text": [
      "# --------------------------------------------------------------------\n",
      "# USE OF NOAA ESRL DATA\n",
      "# \n",
      "# These data are made freely available to the public and the\n",
      "# scientific community in the belief that their wide dissemination\n",
      "# will lead to greater understanding and new scientific insights.\n",
      "# The availability of these data does not constitute publication\n",
      "# of the data.  NOAA relies on the ethics and integrity of the user to\n",
      "# ensure that ESRL receives fair credit for their work.  If the data \n",
      "# are obtained for potential use in a publication or presentation, \n"
     ]
    }
   ],
   "source": [
    "!head -n 10 data/co2_mm_mlo.txt"
   ]
  },
  {
   "cell_type": "markdown",
   "metadata": {},
   "source": [
    "We see that the file begins with information about the data. \n",
    "Each line begins with # indicating it is a comment.\n",
    "We can continue looking and reading the header information.\n",
    "When we do this, we find that the actual data begins on the 72 line of the file."
   ]
  },
  {
   "cell_type": "code",
   "execution_count": 6,
   "metadata": {},
   "outputs": [
    {
     "name": "stdout",
     "output_type": "stream",
     "text": [
      "# --------------------------------------------------------------------\n",
      "# USE OF NOAA ESRL DATA\n",
      "# \n",
      "# These data are made freely available to the public and the\n",
      "# scientific community in the belief that their wide dissemination\n",
      "# will lead to greater understanding and new scientific insights.\n",
      "# The availability of these data does not constitute publication\n",
      "# of the data.  NOAA relies on the ethics and integrity of the user to\n",
      "# ensure that ESRL receives fair credit for their work.  If the data \n",
      "# are obtained for potential use in a publication or presentation, \n",
      "# ESRL should be informed at the outset of the nature of this work.  \n",
      "# If the ESRL data are essential to the work, or if an important \n",
      "# result or conclusion depends on the ESRL data, co-authorship\n",
      "# may be appropriate.  This should be discussed at an early stage in\n",
      "# the work.  Manuscripts using the ESRL data should be sent to ESRL\n",
      "# for review before they are submitted for publication so we can\n",
      "# ensure that the quality and limitations of the data are accurately\n",
      "# represented.\n",
      "# \n",
      "# Contact:   Pieter Tans (303 497 6678; pieter.tans@noaa.gov)\n",
      "# \n",
      "# File Creation:  Thu Sep  5 09:14:48 2019\n",
      "# \n",
      "# RECIPROCITY\n",
      "# \n",
      "# Use of these data implies an agreement to reciprocate.\n",
      "# Laboratories making similar measurements agree to make their\n",
      "# own data available to the general public and to the scientific\n",
      "# community in an equally complete and easily accessible form.\n",
      "# Modelers are encouraged to make available to the community,\n",
      "# upon request, their own tools used in the interpretation\n",
      "# of the ESRL data, namely well documented model code, transport\n",
      "# fields, and additional information necessary for other\n",
      "# scientists to repeat the work and to run modified versions.\n",
      "# Model availability includes collaborative support for new\n",
      "# users of the models.\n",
      "# --------------------------------------------------------------------\n",
      "#  \n",
      "#  \n",
      "# See www.esrl.noaa.gov/gmd/ccgg/trends/ for additional details.\n",
      "#  \n",
      "# Data from March 1958 through April 1974 have been obtained by C. David Keeling\n",
      "# of the Scripps Institution of Oceanography (SIO) and were obtained from the\n",
      "# Scripps website (scrippsco2.ucsd.edu).\n",
      "#\n",
      "# The \"average\" column contains the monthly mean CO2 mole fraction determined\n",
      "# from daily averages.  The mole fraction of CO2, expressed as parts per million\n",
      "# (ppm) is the number of molecules of CO2 in every one million molecules of dried\n",
      "# air (water vapor removed).  If there are missing days concentrated either early\n",
      "# or late in the month, the monthly mean is corrected to the middle of the month\n",
      "# using the average seasonal cycle.  Missing months are denoted by -99.99.\n",
      "# The \"interpolated\" column includes average values from the preceding column\n",
      "# and interpolated values where data are missing.  Interpolated values are\n",
      "# computed in two steps.  First, we compute for each month the average seasonal\n",
      "# cycle in a 7-year window around each monthly value.  In this way the seasonal\n",
      "# cycle is allowed to change slowly over time.  We then determine the \"trend\"\n",
      "# value for each month by removing the seasonal cycle; this result is shown in\n",
      "# the \"trend\" column.  Trend values are linearly interpolated for missing months.\n",
      "# The interpolated monthly mean is then the sum of the average seasonal cycle\n",
      "# value and the trend value for the missing month.\n",
      "#\n",
      "# NOTE: In general, the data presented for the last year are subject to change, \n",
      "# depending on recalibration of the reference gas mixtures used, and other quality\n",
      "# control procedures. Occasionally, earlier years may also be changed for the same\n",
      "# reasons.  Usually these changes are minor.\n",
      "#\n",
      "# CO2 expressed as a mole fraction in dry air, micromol/mol, abbreviated as ppm\n",
      "#\n",
      "#  (-99.99 missing data;  -1 no data for #daily means in month)\n",
      "#\n",
      "#            decimal     average   interpolated    trend    #days\n",
      "#             date                             (season corr)\n",
      "1958   3    1958.208      315.71      315.71      314.62     -1\n",
      "1958   4    1958.292      317.45      317.45      315.29     -1\n",
      "1958   5    1958.375      317.50      317.50      314.71     -1\n",
      "1958   6    1958.458      -99.99      317.10      314.85     -1\n",
      "1958   7    1958.542      315.86      315.86      314.98     -1\n",
      "1958   8    1958.625      314.93      314.93      315.94     -1\n",
      "1958   9    1958.708      313.20      313.20      315.91     -1\n",
      "1958  10    1958.792      -99.99      312.66      315.61     -1\n"
     ]
    }
   ],
   "source": [
    "!head -n 80 data/co2_mm_mlo.txt"
   ]
  },
  {
   "cell_type": "markdown",
   "metadata": {},
   "source": [
    "### Reading About the Data\n",
    "\n",
    "This is not always an option as:\n",
    "\n",
    "1. There may be limited or no documentation.\n",
    "2. Documentation may be out of date. (How will you know?)\n",
    "\n",
    "In our case the documentation appears at the top of the file. \n",
    "We should read before we get started working with the data, but some times \n",
    "the urge to plunge into EDA wins over and we just start mucking about and \n",
    "discovery properties of the data as we go. "
   ]
  },
  {
   "cell_type": "markdown",
   "metadata": {},
   "source": [
    "### What are some observations about co2_mm_mlo.txt?\n",
    "\n",
    "Looking at the first few lines of the file we spot some interesting features.\n",
    "\n",
    "1. It appears the values are separated by white space, possibly tabs. \n",
    "2. Also, the values line up in the file, e.g., the month appears in 7th to 8th position. \n",
    "3. The 70th and 71st lines in the file contain column headings split over two lines.\n",
    "4. It looks like some data are missing and that special values indicate missingness, \n",
    "e.g., -1 and -99.99 \n"
   ]
  },
  {
   "cell_type": "markdown",
   "metadata": {},
   "source": [
    "### Loading the Data\n",
    "\n",
    "We will now attempt to load the data into python. \n",
    "We will use the Pandas dataframe library for basic tabular data analysis. \n",
    "Fortunately, the Pandas library has some relatively sophisticated functions for loading data.\n",
    "\n",
    "We use `read_csv` to read the data into a Pandas data frame.\n",
    "We simply specify that the separators are white space,\n",
    "there is no header (we will set our own field names), and to skip the first 72 rows of the file."
   ]
  },
  {
   "cell_type": "code",
   "execution_count": 9,
   "metadata": {},
   "outputs": [],
   "source": [
    "co2 = pd.read_csv('data/co2_mm_mlo.txt', header = None, skiprows = 72, \n",
    "                  sep = '\\s+',\n",
    "                  names = ['Yr', 'Mo', 'DecDate', 'Avg', 'Int', 'Trend', 'days'])"
   ]
  },
  {
   "cell_type": "markdown",
   "metadata": {},
   "source": [
    "We check the head and tail of the data frame to make sure that the file was read properly."
   ]
  },
  {
   "cell_type": "code",
   "execution_count": 10,
   "metadata": {},
   "outputs": [
    {
     "data": {
      "text/html": [
       "<div>\n",
       "<style scoped>\n",
       "    .dataframe tbody tr th:only-of-type {\n",
       "        vertical-align: middle;\n",
       "    }\n",
       "\n",
       "    .dataframe tbody tr th {\n",
       "        vertical-align: top;\n",
       "    }\n",
       "\n",
       "    .dataframe thead th {\n",
       "        text-align: right;\n",
       "    }\n",
       "</style>\n",
       "<table border=\"1\" class=\"dataframe\">\n",
       "  <thead>\n",
       "    <tr style=\"text-align: right;\">\n",
       "      <th></th>\n",
       "      <th>Yr</th>\n",
       "      <th>Mo</th>\n",
       "      <th>DecDate</th>\n",
       "      <th>Avg</th>\n",
       "      <th>Int</th>\n",
       "      <th>Trend</th>\n",
       "      <th>days</th>\n",
       "    </tr>\n",
       "  </thead>\n",
       "  <tbody>\n",
       "    <tr>\n",
       "      <th>0</th>\n",
       "      <td>1958</td>\n",
       "      <td>3</td>\n",
       "      <td>1958.208</td>\n",
       "      <td>315.71</td>\n",
       "      <td>315.71</td>\n",
       "      <td>314.62</td>\n",
       "      <td>-1</td>\n",
       "    </tr>\n",
       "    <tr>\n",
       "      <th>1</th>\n",
       "      <td>1958</td>\n",
       "      <td>4</td>\n",
       "      <td>1958.292</td>\n",
       "      <td>317.45</td>\n",
       "      <td>317.45</td>\n",
       "      <td>315.29</td>\n",
       "      <td>-1</td>\n",
       "    </tr>\n",
       "    <tr>\n",
       "      <th>2</th>\n",
       "      <td>1958</td>\n",
       "      <td>5</td>\n",
       "      <td>1958.375</td>\n",
       "      <td>317.50</td>\n",
       "      <td>317.50</td>\n",
       "      <td>314.71</td>\n",
       "      <td>-1</td>\n",
       "    </tr>\n",
       "    <tr>\n",
       "      <th>3</th>\n",
       "      <td>1958</td>\n",
       "      <td>6</td>\n",
       "      <td>1958.458</td>\n",
       "      <td>-99.99</td>\n",
       "      <td>317.10</td>\n",
       "      <td>314.85</td>\n",
       "      <td>-1</td>\n",
       "    </tr>\n",
       "    <tr>\n",
       "      <th>4</th>\n",
       "      <td>1958</td>\n",
       "      <td>7</td>\n",
       "      <td>1958.542</td>\n",
       "      <td>315.86</td>\n",
       "      <td>315.86</td>\n",
       "      <td>314.98</td>\n",
       "      <td>-1</td>\n",
       "    </tr>\n",
       "  </tbody>\n",
       "</table>\n",
       "</div>"
      ],
      "text/plain": [
       "     Yr  Mo   DecDate     Avg     Int   Trend  days\n",
       "0  1958   3  1958.208  315.71  315.71  314.62    -1\n",
       "1  1958   4  1958.292  317.45  317.45  315.29    -1\n",
       "2  1958   5  1958.375  317.50  317.50  314.71    -1\n",
       "3  1958   6  1958.458  -99.99  317.10  314.85    -1\n",
       "4  1958   7  1958.542  315.86  315.86  314.98    -1"
      ]
     },
     "execution_count": 10,
     "metadata": {},
     "output_type": "execute_result"
    }
   ],
   "source": [
    "co2.head()"
   ]
  },
  {
   "cell_type": "code",
   "execution_count": 11,
   "metadata": {},
   "outputs": [
    {
     "data": {
      "text/html": [
       "<div>\n",
       "<style scoped>\n",
       "    .dataframe tbody tr th:only-of-type {\n",
       "        vertical-align: middle;\n",
       "    }\n",
       "\n",
       "    .dataframe tbody tr th {\n",
       "        vertical-align: top;\n",
       "    }\n",
       "\n",
       "    .dataframe thead th {\n",
       "        text-align: right;\n",
       "    }\n",
       "</style>\n",
       "<table border=\"1\" class=\"dataframe\">\n",
       "  <thead>\n",
       "    <tr style=\"text-align: right;\">\n",
       "      <th></th>\n",
       "      <th>Yr</th>\n",
       "      <th>Mo</th>\n",
       "      <th>DecDate</th>\n",
       "      <th>Avg</th>\n",
       "      <th>Int</th>\n",
       "      <th>Trend</th>\n",
       "      <th>days</th>\n",
       "    </tr>\n",
       "  </thead>\n",
       "  <tbody>\n",
       "    <tr>\n",
       "      <th>733</th>\n",
       "      <td>2019</td>\n",
       "      <td>4</td>\n",
       "      <td>2019.292</td>\n",
       "      <td>413.32</td>\n",
       "      <td>413.32</td>\n",
       "      <td>410.49</td>\n",
       "      <td>26</td>\n",
       "    </tr>\n",
       "    <tr>\n",
       "      <th>734</th>\n",
       "      <td>2019</td>\n",
       "      <td>5</td>\n",
       "      <td>2019.375</td>\n",
       "      <td>414.66</td>\n",
       "      <td>414.66</td>\n",
       "      <td>411.20</td>\n",
       "      <td>28</td>\n",
       "    </tr>\n",
       "    <tr>\n",
       "      <th>735</th>\n",
       "      <td>2019</td>\n",
       "      <td>6</td>\n",
       "      <td>2019.458</td>\n",
       "      <td>413.92</td>\n",
       "      <td>413.92</td>\n",
       "      <td>411.58</td>\n",
       "      <td>27</td>\n",
       "    </tr>\n",
       "    <tr>\n",
       "      <th>736</th>\n",
       "      <td>2019</td>\n",
       "      <td>7</td>\n",
       "      <td>2019.542</td>\n",
       "      <td>411.77</td>\n",
       "      <td>411.77</td>\n",
       "      <td>411.43</td>\n",
       "      <td>23</td>\n",
       "    </tr>\n",
       "    <tr>\n",
       "      <th>737</th>\n",
       "      <td>2019</td>\n",
       "      <td>8</td>\n",
       "      <td>2019.625</td>\n",
       "      <td>409.95</td>\n",
       "      <td>409.95</td>\n",
       "      <td>411.84</td>\n",
       "      <td>29</td>\n",
       "    </tr>\n",
       "  </tbody>\n",
       "</table>\n",
       "</div>"
      ],
      "text/plain": [
       "       Yr  Mo   DecDate     Avg     Int   Trend  days\n",
       "733  2019   4  2019.292  413.32  413.32  410.49    26\n",
       "734  2019   5  2019.375  414.66  414.66  411.20    28\n",
       "735  2019   6  2019.458  413.92  413.92  411.58    27\n",
       "736  2019   7  2019.542  411.77  411.77  411.43    23\n",
       "737  2019   8  2019.625  409.95  409.95  411.84    29"
      ]
     },
     "execution_count": 11,
     "metadata": {},
     "output_type": "execute_result"
    }
   ],
   "source": [
    "co2.tail()"
   ]
  },
  {
   "cell_type": "markdown",
   "metadata": {},
   "source": [
    "### Preliminary observations on the data?\n",
    "\n",
    "Yr -- Contain a four digit integer, which appears to range from 1958 to 2019\n",
    "\n",
    "Mo -- Contains an integer that appears to represent the month\n",
    "\n",
    "DecDate -- Represents the date in decimal format, e.g., year + no days/365\n",
    "\n",
    "Avg -- The average monthly CO2 measurement, has -99.99 for missing. (any other weird values?)\n",
    "\n",
    "Int  -- Int stands for interpolation, we read in the documentation that the value is the same as the average, unless it is missing, and then it's an interpolated value\n",
    "\n",
    "days --  these are not the days in the month, but the days in operation (and the documentation says -1 is for missing)"
   ]
  },
  {
   "cell_type": "markdown",
   "metadata": {},
   "source": [
    "## Data Checking and cleaning\n",
    "\n",
    "How many rows should we have?\n",
    "\n",
    "+ First observation was in March 1958\n",
    "+ Last record was August 2019\n",
    "+ Data is supposed to be monthly\n",
    "\n",
    "\n",
    "The following simple calculation confirms "
   ]
  },
  {
   "cell_type": "code",
   "execution_count": 12,
   "metadata": {},
   "outputs": [
    {
     "data": {
      "text/plain": [
       "738"
      ]
     },
     "execution_count": 12,
     "metadata": {},
     "output_type": "execute_result"
    }
   ],
   "source": [
    "12*(2019-1957) - 2 -  4"
   ]
  },
  {
   "cell_type": "markdown",
   "metadata": {},
   "source": [
    "How many records per month?"
   ]
  },
  {
   "cell_type": "code",
   "execution_count": 13,
   "metadata": {},
   "outputs": [
    {
     "data": {
      "text/plain": [
       "62"
      ]
     },
     "execution_count": 13,
     "metadata": {},
     "output_type": "execute_result"
    }
   ],
   "source": [
    "2019-1957"
   ]
  },
  {
   "cell_type": "code",
   "execution_count": 14,
   "metadata": {
    "scrolled": true
   },
   "outputs": [
    {
     "name": "stdout",
     "output_type": "stream",
     "text": [
      "<class 'pandas.core.frame.DataFrame'>\n",
      "RangeIndex: 738 entries, 0 to 737\n",
      "Data columns (total 7 columns):\n",
      "Yr         738 non-null int64\n",
      "Mo         738 non-null int64\n",
      "DecDate    738 non-null float64\n",
      "Avg        738 non-null float64\n",
      "Int        738 non-null float64\n",
      "Trend      738 non-null float64\n",
      "days       738 non-null int64\n",
      "dtypes: float64(4), int64(3)\n",
      "memory usage: 40.4 KB\n"
     ]
    }
   ],
   "source": [
    "co2.info()"
   ]
  },
  {
   "cell_type": "code",
   "execution_count": 15,
   "metadata": {},
   "outputs": [
    {
     "data": {
      "text/html": [
       "<div>\n",
       "<style scoped>\n",
       "    .dataframe tbody tr th:only-of-type {\n",
       "        vertical-align: middle;\n",
       "    }\n",
       "\n",
       "    .dataframe tbody tr th {\n",
       "        vertical-align: top;\n",
       "    }\n",
       "\n",
       "    .dataframe thead th {\n",
       "        text-align: right;\n",
       "    }\n",
       "</style>\n",
       "<table border=\"1\" class=\"dataframe\">\n",
       "  <thead>\n",
       "    <tr style=\"text-align: right;\">\n",
       "      <th></th>\n",
       "      <th>Yr</th>\n",
       "      <th>Mo</th>\n",
       "      <th>DecDate</th>\n",
       "      <th>Avg</th>\n",
       "      <th>Int</th>\n",
       "      <th>Trend</th>\n",
       "      <th>days</th>\n",
       "    </tr>\n",
       "  </thead>\n",
       "  <tbody>\n",
       "    <tr>\n",
       "      <th>count</th>\n",
       "      <td>738.000000</td>\n",
       "      <td>738.000000</td>\n",
       "      <td>738.000000</td>\n",
       "      <td>738.000000</td>\n",
       "      <td>738.000000</td>\n",
       "      <td>738.000000</td>\n",
       "      <td>738.000000</td>\n",
       "    </tr>\n",
       "    <tr>\n",
       "      <th>mean</th>\n",
       "      <td>1988.417344</td>\n",
       "      <td>6.491870</td>\n",
       "      <td>1988.916667</td>\n",
       "      <td>350.472087</td>\n",
       "      <td>354.496057</td>\n",
       "      <td>354.483523</td>\n",
       "      <td>18.472900</td>\n",
       "    </tr>\n",
       "    <tr>\n",
       "      <th>std</th>\n",
       "      <td>17.768275</td>\n",
       "      <td>3.444944</td>\n",
       "      <td>17.765545</td>\n",
       "      <td>52.214201</td>\n",
       "      <td>28.113985</td>\n",
       "      <td>28.031320</td>\n",
       "      <td>12.200271</td>\n",
       "    </tr>\n",
       "    <tr>\n",
       "      <th>min</th>\n",
       "      <td>1958.000000</td>\n",
       "      <td>1.000000</td>\n",
       "      <td>1958.208000</td>\n",
       "      <td>-99.990000</td>\n",
       "      <td>312.660000</td>\n",
       "      <td>314.620000</td>\n",
       "      <td>-1.000000</td>\n",
       "    </tr>\n",
       "    <tr>\n",
       "      <th>25%</th>\n",
       "      <td>1973.000000</td>\n",
       "      <td>4.000000</td>\n",
       "      <td>1973.562750</td>\n",
       "      <td>328.587500</td>\n",
       "      <td>328.792500</td>\n",
       "      <td>329.730000</td>\n",
       "      <td>-1.000000</td>\n",
       "    </tr>\n",
       "    <tr>\n",
       "      <th>50%</th>\n",
       "      <td>1988.000000</td>\n",
       "      <td>6.000000</td>\n",
       "      <td>1988.916500</td>\n",
       "      <td>351.725000</td>\n",
       "      <td>351.725000</td>\n",
       "      <td>352.380000</td>\n",
       "      <td>25.000000</td>\n",
       "    </tr>\n",
       "    <tr>\n",
       "      <th>75%</th>\n",
       "      <td>2004.000000</td>\n",
       "      <td>9.000000</td>\n",
       "      <td>2004.271000</td>\n",
       "      <td>377.000000</td>\n",
       "      <td>377.000000</td>\n",
       "      <td>377.177500</td>\n",
       "      <td>28.000000</td>\n",
       "    </tr>\n",
       "    <tr>\n",
       "      <th>max</th>\n",
       "      <td>2019.000000</td>\n",
       "      <td>12.000000</td>\n",
       "      <td>2019.625000</td>\n",
       "      <td>414.660000</td>\n",
       "      <td>414.660000</td>\n",
       "      <td>411.840000</td>\n",
       "      <td>31.000000</td>\n",
       "    </tr>\n",
       "  </tbody>\n",
       "</table>\n",
       "</div>"
      ],
      "text/plain": [
       "                Yr          Mo      DecDate         Avg         Int  \\\n",
       "count   738.000000  738.000000   738.000000  738.000000  738.000000   \n",
       "mean   1988.417344    6.491870  1988.916667  350.472087  354.496057   \n",
       "std      17.768275    3.444944    17.765545   52.214201   28.113985   \n",
       "min    1958.000000    1.000000  1958.208000  -99.990000  312.660000   \n",
       "25%    1973.000000    4.000000  1973.562750  328.587500  328.792500   \n",
       "50%    1988.000000    6.000000  1988.916500  351.725000  351.725000   \n",
       "75%    2004.000000    9.000000  2004.271000  377.000000  377.000000   \n",
       "max    2019.000000   12.000000  2019.625000  414.660000  414.660000   \n",
       "\n",
       "            Trend        days  \n",
       "count  738.000000  738.000000  \n",
       "mean   354.483523   18.472900  \n",
       "std     28.031320   12.200271  \n",
       "min    314.620000   -1.000000  \n",
       "25%    329.730000   -1.000000  \n",
       "50%    352.380000   25.000000  \n",
       "75%    377.177500   28.000000  \n",
       "max    411.840000   31.000000  "
      ]
     },
     "execution_count": 15,
     "metadata": {},
     "output_type": "execute_result"
    }
   ],
   "source": [
    "co2.describe()"
   ]
  },
  {
   "cell_type": "code",
   "execution_count": 16,
   "metadata": {},
   "outputs": [
    {
     "data": {
      "image/png": "[encoded data removed]",
      "text/plain": [
       "<Figure size 432x288 with 1 Axes>"
      ]
     },
     "metadata": {},
     "output_type": "display_data"
    }
   ],
   "source": [
    "ax = co2['days'].hist()\n",
    "\n",
    "#ax.figure.savefig(\"daysHist.png\")"
   ]
  },
  {
   "cell_type": "code",
   "execution_count": 17,
   "metadata": {},
   "outputs": [
    {
     "data": {
      "text/plain": [
       "<matplotlib.axes._subplots.AxesSubplot at 0x7f0c71e69f98>"
      ]
     },
     "execution_count": 17,
     "metadata": {},
     "output_type": "execute_result"
    },
    {
     "data": {
      "image/png": "[encoded data removed]",
      "text/plain": [
       "<Figure size 432x288 with 1 Axes>"
      ]
     },
     "metadata": {},
     "output_type": "display_data"
    }
   ],
   "source": [
    "co2['Yr'].hist()"
   ]
  },
  {
   "cell_type": "code",
   "execution_count": 95,
   "metadata": {},
   "outputs": [
    {
     "data": {
      "image/png": "[encoded data removed]",
      "text/plain": [
       "<Figure size 432x288 with 1 Axes>"
      ]
     },
     "metadata": {
      "needs_background": "light"
     },
     "output_type": "display_data"
    }
   ],
   "source": [
    "ax = sns.countplot(data=co2, y=\"Yr\")\n",
    "ax.set_ylabel(\"Year\")\n",
    "ax.set_xlabel(\"Number of Months\");\n",
    "\n",
    "#ax.figure.savefig(\"countplot.png\")"
   ]
  },
  {
   "cell_type": "code",
   "execution_count": 17,
   "metadata": {},
   "outputs": [
    {
     "data": {
      "image/png": "[encoded data removed]",
      "text/plain": [
       "<Figure size 432x288 with 1 Axes>"
      ]
     },
     "metadata": {
      "needs_background": "light"
     },
     "output_type": "display_data"
    }
   ],
   "source": [
    "ax = sns.scatterplot(x=\"Yr\", y=\"DecDate\", data=co2)"
   ]
  },
  {
   "cell_type": "code",
   "execution_count": 115,
   "metadata": {},
   "outputs": [
    {
     "data": {
      "text/plain": [
       "True"
      ]
     },
     "execution_count": 115,
     "metadata": {},
     "output_type": "execute_result"
    }
   ],
   "source": [
    "checkDate = (co2[\"DecDate\"].apply(np.floor) - co2[\"Yr\"]) == 0\n",
    "checkDate.all()"
   ]
  },
  {
   "cell_type": "code",
   "execution_count": 20,
   "metadata": {},
   "outputs": [
    {
     "data": {
      "image/png": "[encoded data removed]",
      "text/plain": [
       "<Figure size 432x288 with 1 Axes>"
      ]
     },
     "metadata": {
      "needs_background": "light"
     },
     "output_type": "display_data"
    }
   ],
   "source": [
    "ax = sns.countplot(data=co2, y=\"Mo\")\n",
    "ax.set_ylabel(\"Month\")\n",
    "ax.set_xlabel(\"Count\");"
   ]
  },
  {
   "cell_type": "code",
   "execution_count": 21,
   "metadata": {},
   "outputs": [
    {
     "data": {
      "text/html": [
       "<div>\n",
       "<style scoped>\n",
       "    .dataframe tbody tr th:only-of-type {\n",
       "        vertical-align: middle;\n",
       "    }\n",
       "\n",
       "    .dataframe tbody tr th {\n",
       "        vertical-align: top;\n",
       "    }\n",
       "\n",
       "    .dataframe thead th {\n",
       "        text-align: right;\n",
       "    }\n",
       "</style>\n",
       "<table border=\"1\" class=\"dataframe\">\n",
       "  <thead>\n",
       "    <tr style=\"text-align: right;\">\n",
       "      <th></th>\n",
       "      <th>Yr</th>\n",
       "      <th>DecDate</th>\n",
       "      <th>Avg</th>\n",
       "      <th>Int</th>\n",
       "      <th>Trend</th>\n",
       "      <th>days</th>\n",
       "    </tr>\n",
       "    <tr>\n",
       "      <th>Mo</th>\n",
       "      <th></th>\n",
       "      <th></th>\n",
       "      <th></th>\n",
       "      <th></th>\n",
       "      <th></th>\n",
       "      <th></th>\n",
       "    </tr>\n",
       "  </thead>\n",
       "  <tbody>\n",
       "    <tr>\n",
       "      <td>1</td>\n",
       "      <td>61</td>\n",
       "      <td>61</td>\n",
       "      <td>61</td>\n",
       "      <td>61</td>\n",
       "      <td>61</td>\n",
       "      <td>61</td>\n",
       "    </tr>\n",
       "    <tr>\n",
       "      <td>2</td>\n",
       "      <td>61</td>\n",
       "      <td>61</td>\n",
       "      <td>61</td>\n",
       "      <td>61</td>\n",
       "      <td>61</td>\n",
       "      <td>61</td>\n",
       "    </tr>\n",
       "    <tr>\n",
       "      <td>3</td>\n",
       "      <td>62</td>\n",
       "      <td>62</td>\n",
       "      <td>62</td>\n",
       "      <td>62</td>\n",
       "      <td>62</td>\n",
       "      <td>62</td>\n",
       "    </tr>\n",
       "    <tr>\n",
       "      <td>4</td>\n",
       "      <td>62</td>\n",
       "      <td>62</td>\n",
       "      <td>62</td>\n",
       "      <td>62</td>\n",
       "      <td>62</td>\n",
       "      <td>62</td>\n",
       "    </tr>\n",
       "    <tr>\n",
       "      <td>5</td>\n",
       "      <td>62</td>\n",
       "      <td>62</td>\n",
       "      <td>62</td>\n",
       "      <td>62</td>\n",
       "      <td>62</td>\n",
       "      <td>62</td>\n",
       "    </tr>\n",
       "    <tr>\n",
       "      <td>6</td>\n",
       "      <td>62</td>\n",
       "      <td>62</td>\n",
       "      <td>62</td>\n",
       "      <td>62</td>\n",
       "      <td>62</td>\n",
       "      <td>62</td>\n",
       "    </tr>\n",
       "    <tr>\n",
       "      <td>7</td>\n",
       "      <td>62</td>\n",
       "      <td>62</td>\n",
       "      <td>62</td>\n",
       "      <td>62</td>\n",
       "      <td>62</td>\n",
       "      <td>62</td>\n",
       "    </tr>\n",
       "    <tr>\n",
       "      <td>8</td>\n",
       "      <td>62</td>\n",
       "      <td>62</td>\n",
       "      <td>62</td>\n",
       "      <td>62</td>\n",
       "      <td>62</td>\n",
       "      <td>62</td>\n",
       "    </tr>\n",
       "    <tr>\n",
       "      <td>9</td>\n",
       "      <td>61</td>\n",
       "      <td>61</td>\n",
       "      <td>61</td>\n",
       "      <td>61</td>\n",
       "      <td>61</td>\n",
       "      <td>61</td>\n",
       "    </tr>\n",
       "    <tr>\n",
       "      <td>10</td>\n",
       "      <td>61</td>\n",
       "      <td>61</td>\n",
       "      <td>61</td>\n",
       "      <td>61</td>\n",
       "      <td>61</td>\n",
       "      <td>61</td>\n",
       "    </tr>\n",
       "    <tr>\n",
       "      <td>11</td>\n",
       "      <td>61</td>\n",
       "      <td>61</td>\n",
       "      <td>61</td>\n",
       "      <td>61</td>\n",
       "      <td>61</td>\n",
       "      <td>61</td>\n",
       "    </tr>\n",
       "    <tr>\n",
       "      <td>12</td>\n",
       "      <td>61</td>\n",
       "      <td>61</td>\n",
       "      <td>61</td>\n",
       "      <td>61</td>\n",
       "      <td>61</td>\n",
       "      <td>61</td>\n",
       "    </tr>\n",
       "  </tbody>\n",
       "</table>\n",
       "</div>"
      ],
      "text/plain": [
       "    Yr  DecDate  Avg  Int  Trend  days\n",
       "Mo                                    \n",
       "1   61       61   61   61     61    61\n",
       "2   61       61   61   61     61    61\n",
       "3   62       62   62   62     62    62\n",
       "4   62       62   62   62     62    62\n",
       "5   62       62   62   62     62    62\n",
       "6   62       62   62   62     62    62\n",
       "7   62       62   62   62     62    62\n",
       "8   62       62   62   62     62    62\n",
       "9   61       61   61   61     61    61\n",
       "10  61       61   61   61     61    61\n",
       "11  61       61   61   61     61    61\n",
       "12  61       61   61   61     61    61"
      ]
     },
     "execution_count": 21,
     "metadata": {},
     "output_type": "execute_result"
    }
   ],
   "source": [
    "co2.groupby([\"Mo\"]).count()"
   ]
  },
  {
   "cell_type": "code",
   "execution_count": 92,
   "metadata": {},
   "outputs": [
    {
     "data": {
      "text/html": [
       "<div>\n",
       "<style scoped>\n",
       "    .dataframe tbody tr th:only-of-type {\n",
       "        vertical-align: middle;\n",
       "    }\n",
       "\n",
       "    .dataframe tbody tr th {\n",
       "        vertical-align: top;\n",
       "    }\n",
       "\n",
       "    .dataframe thead th {\n",
       "        text-align: right;\n",
       "    }\n",
       "</style>\n",
       "<table border=\"1\" class=\"dataframe\">\n",
       "  <thead>\n",
       "    <tr style=\"text-align: right;\">\n",
       "      <th></th>\n",
       "      <th>Mo</th>\n",
       "      <th>DecDate</th>\n",
       "      <th>Avg</th>\n",
       "      <th>Int</th>\n",
       "      <th>Trend</th>\n",
       "      <th>days</th>\n",
       "    </tr>\n",
       "    <tr>\n",
       "      <th>Yr</th>\n",
       "      <th></th>\n",
       "      <th></th>\n",
       "      <th></th>\n",
       "      <th></th>\n",
       "      <th></th>\n",
       "      <th></th>\n",
       "    </tr>\n",
       "  </thead>\n",
       "  <tbody>\n",
       "    <tr>\n",
       "      <td>2015</td>\n",
       "      <td>12</td>\n",
       "      <td>12</td>\n",
       "      <td>12</td>\n",
       "      <td>12</td>\n",
       "      <td>12</td>\n",
       "      <td>12</td>\n",
       "    </tr>\n",
       "    <tr>\n",
       "      <td>2016</td>\n",
       "      <td>12</td>\n",
       "      <td>12</td>\n",
       "      <td>12</td>\n",
       "      <td>12</td>\n",
       "      <td>12</td>\n",
       "      <td>12</td>\n",
       "    </tr>\n",
       "    <tr>\n",
       "      <td>2017</td>\n",
       "      <td>12</td>\n",
       "      <td>12</td>\n",
       "      <td>12</td>\n",
       "      <td>12</td>\n",
       "      <td>12</td>\n",
       "      <td>12</td>\n",
       "    </tr>\n",
       "    <tr>\n",
       "      <td>2018</td>\n",
       "      <td>12</td>\n",
       "      <td>12</td>\n",
       "      <td>12</td>\n",
       "      <td>12</td>\n",
       "      <td>12</td>\n",
       "      <td>12</td>\n",
       "    </tr>\n",
       "    <tr>\n",
       "      <td>2019</td>\n",
       "      <td>8</td>\n",
       "      <td>8</td>\n",
       "      <td>8</td>\n",
       "      <td>8</td>\n",
       "      <td>8</td>\n",
       "      <td>8</td>\n",
       "    </tr>\n",
       "  </tbody>\n",
       "</table>\n",
       "</div>"
      ],
      "text/plain": [
       "      Mo  DecDate  Avg  Int  Trend  days\n",
       "Yr                                      \n",
       "2015  12       12   12   12     12    12\n",
       "2016  12       12   12   12     12    12\n",
       "2017  12       12   12   12     12    12\n",
       "2018  12       12   12   12     12    12\n",
       "2019   8        8    8    8      8     8"
      ]
     },
     "execution_count": 92,
     "metadata": {},
     "output_type": "execute_result"
    }
   ],
   "source": [
    "checkYr = co2.groupby([\"Yr\"]).count()\n",
    "checkYr.tail()"
   ]
  },
  {
   "cell_type": "code",
   "execution_count": 23,
   "metadata": {},
   "outputs": [
    {
     "data": {
      "text/html": [
       "<div>\n",
       "<style scoped>\n",
       "    .dataframe tbody tr th:only-of-type {\n",
       "        vertical-align: middle;\n",
       "    }\n",
       "\n",
       "    .dataframe tbody tr th {\n",
       "        vertical-align: top;\n",
       "    }\n",
       "\n",
       "    .dataframe thead th {\n",
       "        text-align: right;\n",
       "    }\n",
       "</style>\n",
       "<table border=\"1\" class=\"dataframe\">\n",
       "  <thead>\n",
       "    <tr style=\"text-align: right;\">\n",
       "      <th></th>\n",
       "      <th>Mo</th>\n",
       "      <th>DecDate</th>\n",
       "      <th>Avg</th>\n",
       "      <th>Int</th>\n",
       "      <th>Trend</th>\n",
       "      <th>days</th>\n",
       "    </tr>\n",
       "    <tr>\n",
       "      <th>Yr</th>\n",
       "      <th></th>\n",
       "      <th></th>\n",
       "      <th></th>\n",
       "      <th></th>\n",
       "      <th></th>\n",
       "      <th></th>\n",
       "    </tr>\n",
       "  </thead>\n",
       "  <tbody>\n",
       "    <tr>\n",
       "      <td>1958</td>\n",
       "      <td>10</td>\n",
       "      <td>10</td>\n",
       "      <td>10</td>\n",
       "      <td>10</td>\n",
       "      <td>10</td>\n",
       "      <td>10</td>\n",
       "    </tr>\n",
       "    <tr>\n",
       "      <td>1959</td>\n",
       "      <td>12</td>\n",
       "      <td>12</td>\n",
       "      <td>12</td>\n",
       "      <td>12</td>\n",
       "      <td>12</td>\n",
       "      <td>12</td>\n",
       "    </tr>\n",
       "    <tr>\n",
       "      <td>1960</td>\n",
       "      <td>12</td>\n",
       "      <td>12</td>\n",
       "      <td>12</td>\n",
       "      <td>12</td>\n",
       "      <td>12</td>\n",
       "      <td>12</td>\n",
       "    </tr>\n",
       "    <tr>\n",
       "      <td>1961</td>\n",
       "      <td>12</td>\n",
       "      <td>12</td>\n",
       "      <td>12</td>\n",
       "      <td>12</td>\n",
       "      <td>12</td>\n",
       "      <td>12</td>\n",
       "    </tr>\n",
       "    <tr>\n",
       "      <td>1962</td>\n",
       "      <td>12</td>\n",
       "      <td>12</td>\n",
       "      <td>12</td>\n",
       "      <td>12</td>\n",
       "      <td>12</td>\n",
       "      <td>12</td>\n",
       "    </tr>\n",
       "  </tbody>\n",
       "</table>\n",
       "</div>"
      ],
      "text/plain": [
       "      Mo  DecDate  Avg  Int  Trend  days\n",
       "Yr                                      \n",
       "1958  10       10   10   10     10    10\n",
       "1959  12       12   12   12     12    12\n",
       "1960  12       12   12   12     12    12\n",
       "1961  12       12   12   12     12    12\n",
       "1962  12       12   12   12     12    12"
      ]
     },
     "execution_count": 23,
     "metadata": {},
     "output_type": "execute_result"
    }
   ],
   "source": [
    "checkYr.head()"
   ]
  },
  {
   "cell_type": "code",
   "execution_count": 69,
   "metadata": {},
   "outputs": [
    {
     "data": {
      "image/png": "[encoded data removed]",
      "text/plain": [
       "<Figure size 432x288 with 1 Axes>"
      ]
     },
     "metadata": {
      "needs_background": "light"
     },
     "output_type": "display_data"
    }
   ],
   "source": [
    "ax = co2['Avg'].hist()\n",
    "\n",
    "#ax.figure.savefig('AvgHist.png')"
   ]
  },
  {
   "cell_type": "code",
   "execution_count": 93,
   "metadata": {},
   "outputs": [
    {
     "data": {
      "text/plain": [
       "Yr         7\n",
       "Mo         7\n",
       "DecDate    7\n",
       "Avg        7\n",
       "Int        7\n",
       "Trend      7\n",
       "days       7\n",
       "dtype: int64"
      ]
     },
     "execution_count": 93,
     "metadata": {},
     "output_type": "execute_result"
    }
   ],
   "source": [
    "co2[co2[\"Avg\"] < 0].count()"
   ]
  },
  {
   "cell_type": "code",
   "execution_count": 96,
   "metadata": {},
   "outputs": [],
   "source": [
    "co2 = co2[co2['Avg'] > 0]"
   ]
  },
  {
   "cell_type": "code",
   "execution_count": 74,
   "metadata": {},
   "outputs": [
    {
     "data": {
      "image/png": "[encoded data removed]",
      "text/plain": [
       "<Figure size 432x288 with 1 Axes>"
      ]
     },
     "metadata": {
      "needs_background": "light"
     },
     "output_type": "display_data"
    }
   ],
   "source": [
    "ax = co2['Avg'].hist()\n",
    "\n",
    "#ax.figure.savefig(\"revisedAvgHist.png\")"
   ]
  },
  {
   "cell_type": "code",
   "execution_count": 54,
   "metadata": {},
   "outputs": [
    {
     "data": {
      "image/png": "[encoded data removed]",
      "text/plain": [
       "<Figure size 432x288 with 1 Axes>"
      ]
     },
     "metadata": {
      "needs_background": "light"
     },
     "output_type": "display_data"
    }
   ],
   "source": [
    "ax = sns.scatterplot(x=\"DecDate\", y=\"Avg\", data=co2)"
   ]
  },
  {
   "cell_type": "code",
   "execution_count": 75,
   "metadata": {},
   "outputs": [
    {
     "data": {
      "image/png": "[encoded data removed]",
      "text/plain": [
       "<Figure size 720x432 with 1 Axes>"
      ]
     },
     "metadata": {
      "needs_background": "light"
     },
     "output_type": "display_data"
    }
   ],
   "source": [
    "plt.figure(figsize=(10,6))\n",
    "\n",
    "ax = sns.scatterplot(x=\"DecDate\", y=\"Avg\", data=co2, s=10)\n",
    "#ax.figure.savefig(\"timeScatter.png\")"
   ]
  },
  {
   "cell_type": "code",
   "execution_count": 97,
   "metadata": {},
   "outputs": [
    {
     "data": {
      "image/png": "[encoded data removed]",
      "text/plain": [
       "<Figure size 720x432 with 1 Axes>"
      ]
     },
     "metadata": {
      "needs_background": "light"
     },
     "output_type": "display_data"
    }
   ],
   "source": [
    "plt.figure(figsize=(10,6))\n",
    "\n",
    "ax = sns.lineplot(x=\"DecDate\", y=\"Int\", data=co2)\n",
    "ax.figure.savefig(\"linePlot.png\")"
   ]
  },
  {
   "cell_type": "markdown",
   "metadata": {},
   "source": [
    "Zoom in on a smaller segment"
   ]
  },
  {
   "cell_type": "code",
   "execution_count": 98,
   "metadata": {},
   "outputs": [
    {
     "data": {
      "text/plain": [
       "[<matplotlib.lines.Line2D at 0x1a25a5fb50>]"
      ]
     },
     "execution_count": 98,
     "metadata": {},
     "output_type": "execute_result"
    },
    {
     "data": {
      "image/png": "[encoded data removed]",
      "text/plain": [
       "<Figure size 720x432 with 1 Axes>"
      ]
     },
     "metadata": {
      "needs_background": "light"
     },
     "output_type": "display_data"
    }
   ],
   "source": [
    "fig = plt.figure(figsize=(10,6))\n",
    "\n",
    "\n",
    "plt.plot(\"DecDate\", \"Avg\", data=co2[700:], \n",
    "         marker = 'o', color = \"palevioletred\")\n",
    "\n",
    "#fig.savefig(\"zoomTime.png\")"
   ]
  },
  {
   "cell_type": "markdown",
   "metadata": {},
   "source": [
    "overlay the trend data"
   ]
  },
  {
   "cell_type": "code",
   "execution_count": 57,
   "metadata": {},
   "outputs": [
    {
     "data": {
      "image/png": "[encoded data removed]",
      "text/plain": [
       "<Figure size 720x432 with 1 Axes>"
      ]
     },
     "metadata": {
      "needs_background": "light"
     },
     "output_type": "display_data"
    }
   ],
   "source": [
    "plt.figure(figsize=(10,6))\n",
    "    \n",
    "ax = sns.regplot(x='DecDate', y='Int', data = co2, \n",
    "                  scatter = True, lowess = True,\n",
    "                 scatter_kws={\"color\": \"palevioletred\"})"
   ]
  },
  {
   "cell_type": "code",
   "execution_count": 83,
   "metadata": {},
   "outputs": [
    {
     "data": {
      "image/png": "[encoded data removed]",
      "text/plain": [
       "<Figure size 720x432 with 1 Axes>"
      ]
     },
     "metadata": {
      "needs_background": "light"
     },
     "output_type": "display_data"
    }
   ],
   "source": [
    "fig = plt.figure(figsize=(10,6))\n",
    "\n",
    "sns.lineplot(x='DecDate', y='Avg', data = co2, \n",
    "                 color = \"palevioletred\")\n",
    "sns.lineplot(x=\"DecDate\", y=\"Trend\", data=co2)\n",
    "\n",
    "fig.savefig(\"trend.png\")"
   ]
  },
  {
   "cell_type": "code",
   "execution_count": null,
   "metadata": {},
   "outputs": [],
   "source": []
  }
 ],
 "metadata": {
  "kernelspec": {
   "display_name": "Python 3",
   "language": "python",
   "name": "python3"
  },
  "language_info": {
   "codemirror_mode": {
    "name": "ipython",
    "version": 3
   },
   "file_extension": ".py",
   "mimetype": "text/x-python",
   "name": "python",
   "nbconvert_exporter": "python",
   "pygments_lexer": "ipython3",
   "version": "3.7.3"
  }
 },
 "nbformat": 4,
 "nbformat_minor": 2
}
