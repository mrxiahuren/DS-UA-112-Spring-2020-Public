{
 "cells": [
  {
   "cell_type": "markdown",
   "metadata": {},
   "source": [
    "## Case Study\n",
    "\n",
    "Adapted from Adhikari and DeNero in [Inferential Thinking](https://www.inferentialthinking.com/chapters/intro.html) Chapter 1.3"
   ]
  },
  {
   "cell_type": "markdown",
   "metadata": {},
   "source": [
    "### Step 1 (Formulate a Question)\n",
    "\n",
    "We want to understand text as data. For example \n",
    "\n",
    " * How does textual data provide information about novels?\n",
    " \n",
    "We will look at tow novels\n",
    "\n",
    "* Huckleberry Finn by Mark Twain \n",
    "* Little Women by Louisa May Alcott\n",
    "\n",
    "Books published before 1923 are currently in the public domain. We can access them from the Project Gutenberg website. "
   ]
  },
  {
   "cell_type": "markdown",
   "metadata": {},
   "source": [
    "### Step 2 (Gather and Format the Data)"
   ]
  },
  {
   "cell_type": "code",
   "execution_count": 205,
   "metadata": {},
   "outputs": [],
   "source": [
    "# Importing packages\n",
    "\n",
    "import numpy as np\n",
    "import pandas as pd\n",
    "\n",
    "import re\n",
    "\n",
    "import matplotlib.pyplot as plt\n",
    "%matplotlib inline\n",
    "import seaborn as sns\n",
    "\n",
    "import requests\n",
    "\n",
    "from sklearn.linear_model import LinearRegression\n",
    "\n",
    "import os\n",
    "import warnings\n",
    "warnings.simplefilter(action=\"ignore\")"
   ]
  },
  {
   "cell_type": "markdown",
   "metadata": {},
   "source": [
    "We can access the data from the internet. Using the `requests` package we can send a request to the website specified by its url (uniform resource locator). "
   ]
  },
  {
   "cell_type": "code",
   "execution_count": 2,
   "metadata": {},
   "outputs": [],
   "source": [
    "# Acquire data \n",
    "\n",
    "huck_finn_url = \"http://www.gutenberg.org/files/76/76-0.txt\"\n",
    "huck_finn_binary = requests.get(huck_finn_url).content"
   ]
  },
  {
   "cell_type": "markdown",
   "metadata": {},
   "source": [
    "Note that the response to the request is a collection of numbers. The numbesrs are in binary format instead of decimal format. "
   ]
  },
  {
   "cell_type": "code",
   "execution_count": 3,
   "metadata": {},
   "outputs": [
    {
     "data": {
      "text/plain": [
       "'11101111 10111011 10111111 1101 1010 1010100 1101000 1100101 100000 1010000 1110010 1101111 1101010 1100101 1100011 1110100 100000 1000111 1110101 1110100 1100101 1101110 1100010 1100101 1110010 1100111 100000 1000101 1000010 1101111 1101111 1101011 100000 1101111 1100110 100000 1000001 1100100 1110110 1100101 1101110 1110100 1110101 1110010 1100101 1110011 100000 1101111 1100110 100000 1001000 1110101 1100011 1101011 1101100 1100101 1100010 1100101 1110010 1110010 1111001 100000 1000110 1101001 1101110 1101110 101100 100000 1000011 1101111 1101101 1110000 1101100 1100101 1110100 1100101 1101 1010 1100010 1111001 100000 1001101 1100001 1110010 1101011 100000 1010100 1110111 1100001 1101001 1101110 100000 101000 1010011 1100001 1101101 1110101 1100101 1101100 100000'"
      ]
     },
     "execution_count": 3,
     "metadata": {},
     "output_type": "execute_result"
    }
   ],
   "source": [
    "# Binary format\n",
    "\n",
    "\" \".join(format(x,'b') for x in huck_finn_binary[:100])"
   ]
  },
  {
   "cell_type": "markdown",
   "metadata": {},
   "source": [
    "From the website, we find that the text encoding shoul be `UTF-8` meaning 8-bit Unicode Transformation Format. While text can be represented with numbers in many ways, UTF-8 is common. It allows for encoding of all 1,112,064 valid binary points in Unicode using one to four bytes."
   ]
  },
  {
   "cell_type": "code",
   "execution_count": 4,
   "metadata": {},
   "outputs": [],
   "source": [
    "# Convert from binary format to utf-8 format\n",
    "\n",
    "huck_finn_utf8 = huck_finn_binary.decode(encoding='utf-8')"
   ]
  },
  {
   "cell_type": "code",
   "execution_count": 5,
   "metadata": {},
   "outputs": [
    {
     "data": {
      "text/plain": [
       "'\\ufeff\\r\\nThe Project Gutenberg EBook of Adventures of Huckleberry Finn, Complete\\r\\nby Mark Twain ('"
      ]
     },
     "execution_count": 5,
     "metadata": {},
     "output_type": "execute_result"
    }
   ],
   "source": [
    "huck_finn_utf8[:91]"
   ]
  },
  {
   "cell_type": "markdown",
   "metadata": {},
   "source": [
    "Note that we have many special characters. Remember that the back-slash indicate a special character. The special characters for formatting are \n",
    "\n",
    "* \\r\n",
    "* \\t\n",
    "* \\n\n",
    "* \\v\n",
    "* \\f\n",
    "\n",
    "Note that regular expressions allow us to capture these through \\s. We use the `re` package.\n"
   ]
  },
  {
   "cell_type": "code",
   "execution_count": 206,
   "metadata": {},
   "outputs": [],
   "source": [
    "# Remove white space\n",
    "\n",
    "huck_finn_text = re.sub(r'\\s+', ' ', huck_finn_utf8)"
   ]
  },
  {
   "cell_type": "code",
   "execution_count": 207,
   "metadata": {},
   "outputs": [
    {
     "data": {
      "text/plain": [
       "'\\ufeff The Project Gutenberg EBook of Adventures of Huckleberry Finn, Complete by Mark Twain '"
      ]
     },
     "execution_count": 207,
     "metadata": {},
     "output_type": "execute_result"
    }
   ],
   "source": [
    "huck_finn_text[:88]"
   ]
  },
  {
   "cell_type": "code",
   "execution_count": 208,
   "metadata": {},
   "outputs": [],
   "source": [
    "# Save file\n",
    "\n",
    "with open(\"huck_finn.txt\",\"w+\") as file_handle: \n",
    "        file_handle.write(huck_finn_text[1:])"
   ]
  },
  {
   "cell_type": "markdown",
   "metadata": {},
   "source": [
    "We should record these steps in a function. Remember that we try to record everything we do to make the steps reproducible."
   ]
  },
  {
   "cell_type": "code",
   "execution_count": 209,
   "metadata": {},
   "outputs": [],
   "source": [
    "# Utility function to get data from website\n",
    "\n",
    "def read_url(url): \n",
    "    return re.sub(r'\\s+', ' ', requests.get(url).content.decode(encoding='utf-8'))"
   ]
  },
  {
   "cell_type": "code",
   "execution_count": 210,
   "metadata": {},
   "outputs": [],
   "source": [
    "# Get request for text file on website \n",
    "\n",
    "little_women_url =  \"http://www.gutenberg.org/ebooks/514.txt.utf-8\"\n",
    "little_women_text = read_url(little_women_url)\n",
    "\n",
    "with open(\"little_women.txt\",\"w\") as file_handle: \n",
    "        file_handle.write(little_women_text[1:])"
   ]
  },
  {
   "cell_type": "markdown",
   "metadata": {},
   "source": [
    "### Step 3 (Summarize and Visualize the Data)"
   ]
  },
  {
   "cell_type": "markdown",
   "metadata": {},
   "source": [
    "##### Create Tables from the Data"
   ]
  },
  {
   "cell_type": "markdown",
   "metadata": {},
   "source": [
    "Before we read the file from memory, we should check the file size"
   ]
  },
  {
   "cell_type": "code",
   "execution_count": null,
   "metadata": {},
   "outputs": [],
   "source": [
    "# check the file sizes\n",
    "\n",
    "!du -sh \"huck_finn.txt\""
   ]
  },
  {
   "cell_type": "code",
   "execution_count": 211,
   "metadata": {},
   "outputs": [],
   "source": [
    "with open(\"huck_finn.txt\",\"r\") as fh_huck_finn: \n",
    "    huck_finn_text = fh_huck_finn.read()"
   ]
  },
  {
   "cell_type": "markdown",
   "metadata": {},
   "source": [
    "Note that we have a string containing the contents of the books"
   ]
  },
  {
   "cell_type": "code",
   "execution_count": 212,
   "metadata": {},
   "outputs": [
    {
     "data": {
      "text/plain": [
       "' The Project Gutenberg EBook of Adventures of Huckleberry Finn, Complete by Mark Twain (Samuel Cleme'"
      ]
     },
     "execution_count": 212,
     "metadata": {},
     "output_type": "execute_result"
    }
   ],
   "source": [
    "huck_finn_text[:100]"
   ]
  },
  {
   "cell_type": "markdown",
   "metadata": {},
   "source": [
    "So we should split into chapters"
   ]
  },
  {
   "cell_type": "code",
   "execution_count": 213,
   "metadata": {},
   "outputs": [],
   "source": [
    "huck_finn_chapters = huck_finn_text.split('CHAPTER ')[44:]"
   ]
  },
  {
   "cell_type": "markdown",
   "metadata": {},
   "source": [
    "We can do the same for the other novel."
   ]
  },
  {
   "cell_type": "code",
   "execution_count": null,
   "metadata": {},
   "outputs": [],
   "source": [
    "# check the file sizes\n",
    "\n",
    "!du -sh \"little_women.txt\""
   ]
  },
  {
   "cell_type": "code",
   "execution_count": 214,
   "metadata": {},
   "outputs": [],
   "source": [
    "with open(\"little_women.txt\",\"r\") as fh_little_women: \n",
    "    little_women_text = fh_little_women.read()\n",
    "    \n",
    "little_women_chapters = little_women_text.split('CHAPTER ')[1:]"
   ]
  },
  {
   "cell_type": "markdown",
   "metadata": {},
   "source": [
    "Now we can make two series where \n",
    "\n",
    "* index is chapter of novel \n",
    "* value is string containing the text in the chapter"
   ]
  },
  {
   "cell_type": "code",
   "execution_count": 215,
   "metadata": {},
   "outputs": [
    {
     "data": {
      "text/plain": [
       "1     I. YOU don't know about me without you have re...\n",
       "2     II. WE went tiptoeing along a path amongst the...\n",
       "3     III. WELL, I got a good going-over in the morn...\n",
       "4     IV. WELL, three or four months run along, and ...\n",
       "5     V. I had shut the door to. Then I turned aroun...\n",
       "6     VI. WELL, pretty soon the old man was up and a...\n",
       "7     VII. “GIT up! What you 'bout?” I opened my eye...\n",
       "8     VIII. THE sun was up so high when I waked that...\n",
       "9     IX. I wanted to go and look at a place right a...\n",
       "10    X. AFTER breakfast I wanted to talk about the ...\n",
       "dtype: object"
      ]
     },
     "execution_count": 215,
     "metadata": {},
     "output_type": "execute_result"
    }
   ],
   "source": [
    "# Display the chapters of Huckleberry Finn as table\n",
    "\n",
    "df_huck_finn = pd.Series(data=huck_finn_chapters, index=np.arange(1,len(huck_finn_chapters)+1))\n",
    "df_huck_finn.head(10)"
   ]
  },
  {
   "cell_type": "code",
   "execution_count": 216,
   "metadata": {},
   "outputs": [
    {
     "data": {
      "text/plain": [
       "1     ONE PLAYING PILGRIMS \"Christmas won't be Chris...\n",
       "2     TWO A MERRY CHRISTMAS Jo was the first to wake...\n",
       "3     THREE THE LAURENCE BOY \"Jo! Jo! Where are you?...\n",
       "4     FOUR BURDENS \"Oh, dear, how hard it does seem ...\n",
       "5     FIVE BEING NEIGHBORLY \"What in the world are y...\n",
       "6     SIX BETH FINDS THE PALACE BEAUTIFUL The big ho...\n",
       "7     SEVEN AMY'S VALLEY OF HUMILIATION \"That boy is...\n",
       "8     EIGHT JO MEETS APOLLYON \"Girls, where are you ...\n",
       "9     NINE MEG GOES TO VANITY FAIR \"I do think it wa...\n",
       "10    TEN THE P.C. AND P.O. As spring came on, a new...\n",
       "dtype: object"
      ]
     },
     "execution_count": 216,
     "metadata": {},
     "output_type": "execute_result"
    }
   ],
   "source": [
    "# Display the chapters of Little Women as table\n",
    "\n",
    "df_little_women = pd.Series(data=little_women_chapters, \n",
    "                            index=np.arange(1,len(little_women_chapters)+1))\n",
    "df_little_women.head(10)"
   ]
  },
  {
   "cell_type": "markdown",
   "metadata": {},
   "source": [
    "##### Generate Line-Charts"
   ]
  },
  {
   "cell_type": "code",
   "execution_count": 217,
   "metadata": {},
   "outputs": [],
   "source": [
    "# Count how many times the names Jim, Tom, and Huck appear in each chapter\n",
    "\n",
    "def count_name(some_pattern, some_string):\n",
    "    return len(re.findall(some_pattern, some_string))"
   ]
  },
  {
   "cell_type": "code",
   "execution_count": 218,
   "metadata": {},
   "outputs": [],
   "source": [
    "hf_counts = pd.DataFrame(data = {\n",
    "        'Jim': [count_name(r\"Jim\", huck_finn_chapter) for huck_finn_chapter in huck_finn_chapters],\n",
    "        'Tom': [count_name(r\"Tom\", huck_finn_chapter) for huck_finn_chapter in huck_finn_chapters],\n",
    "        'Huck': [count_name(r\"Huck\", huck_finn_chapter) for huck_finn_chapter in huck_finn_chapters]})"
   ]
  },
  {
   "cell_type": "code",
   "execution_count": 219,
   "metadata": {},
   "outputs": [
    {
     "data": {
      "text/html": [
       "<div>\n",
       "<style scoped>\n",
       "    .dataframe tbody tr th:only-of-type {\n",
       "        vertical-align: middle;\n",
       "    }\n",
       "\n",
       "    .dataframe tbody tr th {\n",
       "        vertical-align: top;\n",
       "    }\n",
       "\n",
       "    .dataframe thead th {\n",
       "        text-align: right;\n",
       "    }\n",
       "</style>\n",
       "<table border=\"1\" class=\"dataframe\">\n",
       "  <thead>\n",
       "    <tr style=\"text-align: right;\">\n",
       "      <th></th>\n",
       "      <th>Jim</th>\n",
       "      <th>Tom</th>\n",
       "      <th>Huck</th>\n",
       "    </tr>\n",
       "  </thead>\n",
       "  <tbody>\n",
       "    <tr>\n",
       "      <th>0</th>\n",
       "      <td>0</td>\n",
       "      <td>6</td>\n",
       "      <td>3</td>\n",
       "    </tr>\n",
       "    <tr>\n",
       "      <th>1</th>\n",
       "      <td>16</td>\n",
       "      <td>24</td>\n",
       "      <td>2</td>\n",
       "    </tr>\n",
       "    <tr>\n",
       "      <th>2</th>\n",
       "      <td>0</td>\n",
       "      <td>5</td>\n",
       "      <td>2</td>\n",
       "    </tr>\n",
       "    <tr>\n",
       "      <th>3</th>\n",
       "      <td>8</td>\n",
       "      <td>0</td>\n",
       "      <td>1</td>\n",
       "    </tr>\n",
       "    <tr>\n",
       "      <th>4</th>\n",
       "      <td>0</td>\n",
       "      <td>0</td>\n",
       "      <td>0</td>\n",
       "    </tr>\n",
       "  </tbody>\n",
       "</table>\n",
       "</div>"
      ],
      "text/plain": [
       "   Jim  Tom  Huck\n",
       "0    0    6     3\n",
       "1   16   24     2\n",
       "2    0    5     2\n",
       "3    8    0     1\n",
       "4    0    0     0"
      ]
     },
     "execution_count": 219,
     "metadata": {},
     "output_type": "execute_result"
    }
   ],
   "source": [
    "hf_counts.head()"
   ]
  },
  {
   "cell_type": "code",
   "execution_count": 19,
   "metadata": {},
   "outputs": [
    {
     "data": {
      "image/png": "[encoded data removed]",
      "text/plain": [
       "<Figure size 432x288 with 1 Axes>"
      ]
     },
     "metadata": {
      "needs_background": "light"
     },
     "output_type": "display_data"
    }
   ],
   "source": [
    "# Plot the cumulative counts:\n",
    "# how many times in Chapter 1, how many times in Chapters 1 and 2, and so on.\n",
    "\n",
    "cumul_counts = hf_counts.cumsum() \n",
    "cumul_counts.plot()\n",
    "plt.title('Cumulative Number of Times Name Appears');"
   ]
  },
  {
   "cell_type": "code",
   "execution_count": 220,
   "metadata": {},
   "outputs": [],
   "source": [
    "# Counts of names in the chapters of Little Women\n",
    "\n",
    "people = [r'Amy', r'Beth', r'Jo', r'Laurie', r'Meg']\n",
    "\n",
    "people_counts = {pp: [count_name(pp, little_women_chapter) for little_women_chapter in little_women_chapters] for pp in people}\n",
    "\n",
    "lw_counts = pd.DataFrame(data=people_counts)"
   ]
  },
  {
   "cell_type": "code",
   "execution_count": 221,
   "metadata": {},
   "outputs": [
    {
     "data": {
      "image/png": "[encoded data removed]",
      "text/plain": [
       "<Figure size 432x288 with 1 Axes>"
      ]
     },
     "metadata": {
      "needs_background": "light"
     },
     "output_type": "display_data"
    }
   ],
   "source": [
    "# Plot the cumulative counts\n",
    "\n",
    "cumul_counts = lw_counts.cumsum()\n",
    "cumul_counts.plot()\n",
    "plt.title('Cumulative Number of Times Name Appears');"
   ]
  },
  {
   "cell_type": "markdown",
   "metadata": {},
   "source": [
    "### Step 3 Continued (Explore the Data to Find Patterns)"
   ]
  },
  {
   "cell_type": "markdown",
   "metadata": {},
   "source": [
    "_**Relationship between amount of punctuation and length of chapter**_"
   ]
  },
  {
   "cell_type": "code",
   "execution_count": 223,
   "metadata": {},
   "outputs": [],
   "source": [
    "# In each chapter, count the number of all characters;\n",
    "# call this the \"length\" of the chapter.\n",
    "# Also count the number of periods.\n",
    "\n",
    "punctuation = r'[\\!\\.\\?]'\n",
    "\n",
    "hf_length_punctuation = pd.DataFrame({\n",
    "        'HF Chapter Length': [len(s) for s in huck_finn_chapters],\n",
    "        'Number of Sentences': [count_name(punctuation, huck_finn_chapter) for huck_finn_chapter in huck_finn_chapters]\n",
    "    }, index=np.arange(1,len(huck_finn_chapters)+1))\n",
    "\n",
    "lw_length_punctuation = pd.DataFrame({\n",
    "        'LW Chapter Length': [len(s) for s in little_women_chapters],\n",
    "        'Number of Sentences': [count_name(punctuation, little_women_chapter) for little_women_chapter in little_women_chapters]\n",
    "    }, index=np.arange(1,len(little_women_chapters)+1))"
   ]
  },
  {
   "cell_type": "code",
   "execution_count": 224,
   "metadata": {},
   "outputs": [
    {
     "data": {
      "text/html": [
       "<div>\n",
       "<style scoped>\n",
       "    .dataframe tbody tr th:only-of-type {\n",
       "        vertical-align: middle;\n",
       "    }\n",
       "\n",
       "    .dataframe tbody tr th {\n",
       "        vertical-align: top;\n",
       "    }\n",
       "\n",
       "    .dataframe thead th {\n",
       "        text-align: right;\n",
       "    }\n",
       "</style>\n",
       "<table border=\"1\" class=\"dataframe\">\n",
       "  <thead>\n",
       "    <tr style=\"text-align: right;\">\n",
       "      <th></th>\n",
       "      <th>HF Chapter Length</th>\n",
       "      <th>Number of Sentences</th>\n",
       "    </tr>\n",
       "  </thead>\n",
       "  <tbody>\n",
       "    <tr>\n",
       "      <th>1</th>\n",
       "      <td>7026</td>\n",
       "      <td>72</td>\n",
       "    </tr>\n",
       "    <tr>\n",
       "      <th>2</th>\n",
       "      <td>11982</td>\n",
       "      <td>144</td>\n",
       "    </tr>\n",
       "    <tr>\n",
       "      <th>3</th>\n",
       "      <td>8529</td>\n",
       "      <td>82</td>\n",
       "    </tr>\n",
       "    <tr>\n",
       "      <th>4</th>\n",
       "      <td>6799</td>\n",
       "      <td>93</td>\n",
       "    </tr>\n",
       "    <tr>\n",
       "      <th>5</th>\n",
       "      <td>8166</td>\n",
       "      <td>105</td>\n",
       "    </tr>\n",
       "    <tr>\n",
       "      <th>6</th>\n",
       "      <td>14550</td>\n",
       "      <td>139</td>\n",
       "    </tr>\n",
       "    <tr>\n",
       "      <th>7</th>\n",
       "      <td>13218</td>\n",
       "      <td>136</td>\n",
       "    </tr>\n",
       "    <tr>\n",
       "      <th>8</th>\n",
       "      <td>22208</td>\n",
       "      <td>289</td>\n",
       "    </tr>\n",
       "    <tr>\n",
       "      <th>9</th>\n",
       "      <td>8081</td>\n",
       "      <td>74</td>\n",
       "    </tr>\n",
       "    <tr>\n",
       "      <th>10</th>\n",
       "      <td>7036</td>\n",
       "      <td>73</td>\n",
       "    </tr>\n",
       "  </tbody>\n",
       "</table>\n",
       "</div>"
      ],
      "text/plain": [
       "    HF Chapter Length  Number of Sentences\n",
       "1                7026                   72\n",
       "2               11982                  144\n",
       "3                8529                   82\n",
       "4                6799                   93\n",
       "5                8166                  105\n",
       "6               14550                  139\n",
       "7               13218                  136\n",
       "8               22208                  289\n",
       "9                8081                   74\n",
       "10               7036                   73"
      ]
     },
     "execution_count": 224,
     "metadata": {},
     "output_type": "execute_result"
    }
   ],
   "source": [
    "# The counts for Huckleberry Finn\n",
    "\n",
    "hf_length_punctuation.head(10)"
   ]
  },
  {
   "cell_type": "code",
   "execution_count": 225,
   "metadata": {},
   "outputs": [
    {
     "data": {
      "text/html": [
       "<div>\n",
       "<style scoped>\n",
       "    .dataframe tbody tr th:only-of-type {\n",
       "        vertical-align: middle;\n",
       "    }\n",
       "\n",
       "    .dataframe tbody tr th {\n",
       "        vertical-align: top;\n",
       "    }\n",
       "\n",
       "    .dataframe thead th {\n",
       "        text-align: right;\n",
       "    }\n",
       "</style>\n",
       "<table border=\"1\" class=\"dataframe\">\n",
       "  <thead>\n",
       "    <tr style=\"text-align: right;\">\n",
       "      <th></th>\n",
       "      <th>LW Chapter Length</th>\n",
       "      <th>Number of Sentences</th>\n",
       "    </tr>\n",
       "  </thead>\n",
       "  <tbody>\n",
       "    <tr>\n",
       "      <th>1</th>\n",
       "      <td>21759</td>\n",
       "      <td>233</td>\n",
       "    </tr>\n",
       "    <tr>\n",
       "      <th>2</th>\n",
       "      <td>22148</td>\n",
       "      <td>234</td>\n",
       "    </tr>\n",
       "    <tr>\n",
       "      <th>3</th>\n",
       "      <td>20558</td>\n",
       "      <td>314</td>\n",
       "    </tr>\n",
       "    <tr>\n",
       "      <th>4</th>\n",
       "      <td>25526</td>\n",
       "      <td>225</td>\n",
       "    </tr>\n",
       "    <tr>\n",
       "      <th>5</th>\n",
       "      <td>23395</td>\n",
       "      <td>313</td>\n",
       "    </tr>\n",
       "    <tr>\n",
       "      <th>6</th>\n",
       "      <td>14622</td>\n",
       "      <td>166</td>\n",
       "    </tr>\n",
       "    <tr>\n",
       "      <th>7</th>\n",
       "      <td>14431</td>\n",
       "      <td>155</td>\n",
       "    </tr>\n",
       "    <tr>\n",
       "      <th>8</th>\n",
       "      <td>22476</td>\n",
       "      <td>251</td>\n",
       "    </tr>\n",
       "    <tr>\n",
       "      <th>9</th>\n",
       "      <td>33767</td>\n",
       "      <td>391</td>\n",
       "    </tr>\n",
       "    <tr>\n",
       "      <th>10</th>\n",
       "      <td>18507</td>\n",
       "      <td>206</td>\n",
       "    </tr>\n",
       "  </tbody>\n",
       "</table>\n",
       "</div>"
      ],
      "text/plain": [
       "    LW Chapter Length  Number of Sentences\n",
       "1               21759                  233\n",
       "2               22148                  234\n",
       "3               20558                  314\n",
       "4               25526                  225\n",
       "5               23395                  313\n",
       "6               14622                  166\n",
       "7               14431                  155\n",
       "8               22476                  251\n",
       "9               33767                  391\n",
       "10              18507                  206"
      ]
     },
     "execution_count": 225,
     "metadata": {},
     "output_type": "execute_result"
    }
   ],
   "source": [
    "# The counts for Little Women\n",
    "\n",
    "lw_length_punctuation.head(10)"
   ]
  },
  {
   "cell_type": "code",
   "execution_count": 226,
   "metadata": {},
   "outputs": [],
   "source": [
    "hf_X, hf_y = hf_length_punctuation.iloc[:,1].as_matrix().reshape(-1,1), hf_length_punctuation.iloc[:,0].as_matrix().reshape(-1,1)\n",
    "lw_X, lw_y = lw_length_punctuation.iloc[:,1].as_matrix().reshape(-1,1), lw_length_punctuation.iloc[:,0].as_matrix().reshape(-1,1)\n",
    "\n",
    "hf_reg = LinearRegression().fit(hf_X, hf_y)\n",
    "lw_reg = LinearRegression().fit(lw_X, lw_y)\n"
   ]
  },
  {
   "cell_type": "code",
   "execution_count": 229,
   "metadata": {},
   "outputs": [
    {
     "data": {
      "image/png": "[encoded data removed]",
      "text/plain": [
       "<Figure size 720x720 with 1 Axes>"
      ]
     },
     "metadata": {
      "needs_background": "light"
     },
     "output_type": "display_data"
    }
   ],
   "source": [
    "xaxis = np.linspace(50,400,1000)\n",
    "hf_yaxis = hf_reg.coef_[0][0] * xaxis + hf_reg.intercept_[0]\n",
    "lw_yaxis = lw_reg.coef_[0][0] * xaxis + lw_reg.intercept_[0]\n",
    "\n",
    "plt.figure(figsize=(10,10))\n",
    "plt.scatter(hf_length_punctuation.iloc[:,1], hf_length_punctuation.iloc[:,0], color='purple', label=\"hf\")\n",
    "plt.scatter(lw_length_punctuation.iloc[:,1], lw_length_punctuation.iloc[:,0], color='grey', label='lw')\n",
    "plt.xlabel('Number of sentences in chapter')\n",
    "plt.ylabel('Number of characters in chapter')\n",
    "plt.xlim(0,400)\n",
    "plt.plot(xaxis, hf_yaxis, color=\"purple\")\n",
    "plt.scatter(xaxis[750], hf_yaxis[750],color=\"purple\",s=300)\n",
    "plt.plot(xaxis, lw_yaxis, color=\"grey\")\n",
    "plt.scatter(xaxis[950], lw_yaxis[950],color=\"grey\",s=300)\n",
    "plt.legend();"
   ]
  },
  {
   "cell_type": "markdown",
   "metadata": {},
   "source": [
    "Recall that slope is $$\\displaystyle\\frac{\\Delta y}{\\Delta x}$$ How can we interpret the slope of the lines?"
   ]
  },
  {
   "cell_type": "code",
   "execution_count": 34,
   "metadata": {},
   "outputs": [
    {
     "name": "stdout",
     "output_type": "stream",
     "text": [
      "The ratio is 64.74 for Huck Finn \n",
      " and the ratio is 70.14 for Little Women\n"
     ]
    }
   ],
   "source": [
    "print(\"The ratio is {0} for Huck Finn \\n and the ratio is {1} for Little Women\".format(np.round(hf_reg.coef_[0][0],2), np.round(lw_reg.coef_[0][0],2)))"
   ]
  },
  {
   "cell_type": "markdown",
   "metadata": {},
   "source": [
    "_**Distinguishing between novels by length of words**_"
   ]
  },
  {
   "cell_type": "code",
   "execution_count": 230,
   "metadata": {},
   "outputs": [],
   "source": [
    "def count_lengths(df, truncate = 15):\n",
    "    df_data = df.str.split(\" \").map(lambda list_entry: [len(entry.strip()) for entry in list_entry]).sum()\n",
    "    df_lengths =  pd.Series(data=df_data).value_counts().sort_values(ascending = False)[:truncate]\n",
    "    df_lengths = df_lengths / df_lengths.sum()\n",
    "    df_lengths = df_lengths.reset_index().rename(columns = {\"index\": \"length\", 0:\"frequency\"})\n",
    "    df_lengths.index = df_lengths.index + 1\n",
    "    return df_lengths"
   ]
  },
  {
   "cell_type": "code",
   "execution_count": 231,
   "metadata": {},
   "outputs": [
    {
     "name": "stdout",
     "output_type": "stream",
     "text": [
      "The average length of word in Huck Finn is 4.124099222719949\n",
      "The average length of word in Little Women is 4.399025475345586\n"
     ]
    }
   ],
   "source": [
    "lw_mean = np.dot(count_lengths(df_little_women, truncate = -1)[\"length\"], count_lengths(df_little_women, truncate = -1)[\"frequency\"])\n",
    "\n",
    "hf_mean = np.dot(count_lengths(df_huck_finn, truncate = -1)[\"length\"], count_lengths(df_huck_finn, truncate = -1)[\"frequency\"])\n",
    "\n",
    "print(f\"The average length of word in Huck Finn is {hf_mean}\")\n",
    "print(f\"The average length of word in Little Women is {lw_mean}\")"
   ]
  },
  {
   "cell_type": "code",
   "execution_count": 232,
   "metadata": {},
   "outputs": [],
   "source": [
    "df_huck_finn_word_length = count_lengths(df_huck_finn)\n",
    "df_little_women_word_length = count_lengths(df_little_women)"
   ]
  },
  {
   "cell_type": "code",
   "execution_count": 132,
   "metadata": {},
   "outputs": [
    {
     "data": {
      "image/png": "[encoded data removed]",
      "text/plain": [
       "<Figure size 720x576 with 1 Axes>"
      ]
     },
     "metadata": {
      "needs_background": "light"
     },
     "output_type": "display_data"
    }
   ],
   "source": [
    "df_huck_finn_word_length.set_index(\"length\")['frequency'].plot(kind='bar', figsize = (10,8))\n",
    "plt.xlim(xmin=-1, xmax = 20)\n",
    "plt.xlabel(\"Word Length\", fontsize=12)\n",
    "plt.ylabel(\"Frequency\", fontsize=12)\n",
    "plt.plot();"
   ]
  },
  {
   "cell_type": "code",
   "execution_count": 128,
   "metadata": {},
   "outputs": [
    {
     "data": {
      "image/png": "[encoded data removed]",
      "text/plain": [
       "<Figure size 720x576 with 1 Axes>"
      ]
     },
     "metadata": {
      "needs_background": "light"
     },
     "output_type": "display_data"
    }
   ],
   "source": [
    "df_little_women_word_length.set_index(\"length\")['frequency'].plot(kind='bar', figsize = (10,8))\n",
    "plt.xlim(xmin=-1, xmax = 20)\n",
    "plt.xlabel(\"Word Length\", fontsize=12)\n",
    "plt.ylabel(\"Frequency\", fontsize=12)\n",
    "plt.plot();"
   ]
  },
  {
   "cell_type": "markdown",
   "metadata": {},
   "source": [
    "_**Relationship Between Frequency and Rank**_"
   ]
  },
  {
   "cell_type": "code",
   "execution_count": 234,
   "metadata": {},
   "outputs": [],
   "source": [
    "def count_frequency(df, truncate = -1):\n",
    "    df_melt = pd.melt(df.str.split(\" \", expand = True))\n",
    "    df_melt = df_melt['value'].dropna().value_counts().sort_values(ascending=False)\n",
    "    \n",
    "    df_melt = df_melt[:truncate]\n",
    "    total = df_melt.sum()\n",
    "    \n",
    "    df_melt = df_melt.to_frame().reset_index()\n",
    "    df_melt[\"value\"] = df_melt[\"value\"] / total\n",
    "    df_melt.rename(columns = {\"index\":\"word\", \"value\":\"frequency\"}, inplace = True)\n",
    "    \n",
    "    df_melt.index = df_melt.index + 1\n",
    "    \n",
    "    return df_melt"
   ]
  },
  {
   "cell_type": "code",
   "execution_count": 235,
   "metadata": {},
   "outputs": [],
   "source": [
    "df_huck_finn_word_count = count_frequency(df_huck_finn, truncate = 20)\n",
    "df_little_women_word_count = count_frequency(df_little_women, truncate = 20)"
   ]
  },
  {
   "cell_type": "code",
   "execution_count": 236,
   "metadata": {},
   "outputs": [
    {
     "data": {
      "text/html": [
       "<div>\n",
       "<style scoped>\n",
       "    .dataframe tbody tr th:only-of-type {\n",
       "        vertical-align: middle;\n",
       "    }\n",
       "\n",
       "    .dataframe tbody tr th {\n",
       "        vertical-align: top;\n",
       "    }\n",
       "\n",
       "    .dataframe thead th {\n",
       "        text-align: right;\n",
       "    }\n",
       "</style>\n",
       "<table border=\"1\" class=\"dataframe\">\n",
       "  <thead>\n",
       "    <tr style=\"text-align: right;\">\n",
       "      <th></th>\n",
       "      <th>word</th>\n",
       "      <th>frequency</th>\n",
       "    </tr>\n",
       "  </thead>\n",
       "  <tbody>\n",
       "    <tr>\n",
       "      <th>1</th>\n",
       "      <td>and</td>\n",
       "      <td>0.172667</td>\n",
       "    </tr>\n",
       "    <tr>\n",
       "      <th>2</th>\n",
       "      <td>the</td>\n",
       "      <td>0.132829</td>\n",
       "    </tr>\n",
       "    <tr>\n",
       "      <th>3</th>\n",
       "      <td>I</td>\n",
       "      <td>0.087064</td>\n",
       "    </tr>\n",
       "    <tr>\n",
       "      <th>4</th>\n",
       "      <td>a</td>\n",
       "      <td>0.083369</td>\n",
       "    </tr>\n",
       "    <tr>\n",
       "      <th>5</th>\n",
       "      <td>to</td>\n",
       "      <td>0.082854</td>\n",
       "    </tr>\n",
       "    <tr>\n",
       "      <th>6</th>\n",
       "      <td>was</td>\n",
       "      <td>0.055589</td>\n",
       "    </tr>\n",
       "    <tr>\n",
       "      <th>7</th>\n",
       "      <td>of</td>\n",
       "      <td>0.048859</td>\n",
       "    </tr>\n",
       "    <tr>\n",
       "      <th>8</th>\n",
       "      <td>it</td>\n",
       "      <td>0.040725</td>\n",
       "    </tr>\n",
       "    <tr>\n",
       "      <th>9</th>\n",
       "      <td>he</td>\n",
       "      <td>0.039322</td>\n",
       "    </tr>\n",
       "    <tr>\n",
       "      <th>10</th>\n",
       "      <td>in</td>\n",
       "      <td>0.038749</td>\n",
       "    </tr>\n",
       "    <tr>\n",
       "      <th>11</th>\n",
       "      <td>you</td>\n",
       "      <td>0.029212</td>\n",
       "    </tr>\n",
       "    <tr>\n",
       "      <th>12</th>\n",
       "      <td>that</td>\n",
       "      <td>0.025460</td>\n",
       "    </tr>\n",
       "    <tr>\n",
       "      <th>13</th>\n",
       "      <td>for</td>\n",
       "      <td>0.023398</td>\n",
       "    </tr>\n",
       "    <tr>\n",
       "      <th>14</th>\n",
       "      <td>on</td>\n",
       "      <td>0.021995</td>\n",
       "    </tr>\n",
       "    <tr>\n",
       "      <th>15</th>\n",
       "      <td>all</td>\n",
       "      <td>0.021222</td>\n",
       "    </tr>\n",
       "    <tr>\n",
       "      <th>16</th>\n",
       "      <td>but</td>\n",
       "      <td>0.021107</td>\n",
       "    </tr>\n",
       "    <tr>\n",
       "      <th>17</th>\n",
       "      <td>up</td>\n",
       "      <td>0.019933</td>\n",
       "    </tr>\n",
       "    <tr>\n",
       "      <th>18</th>\n",
       "      <td>we</td>\n",
       "      <td>0.019274</td>\n",
       "    </tr>\n",
       "    <tr>\n",
       "      <th>19</th>\n",
       "      <td>out</td>\n",
       "      <td>0.018472</td>\n",
       "    </tr>\n",
       "    <tr>\n",
       "      <th>20</th>\n",
       "      <td>so</td>\n",
       "      <td>0.017900</td>\n",
       "    </tr>\n",
       "  </tbody>\n",
       "</table>\n",
       "</div>"
      ],
      "text/plain": [
       "    word  frequency\n",
       "1    and   0.172667\n",
       "2    the   0.132829\n",
       "3      I   0.087064\n",
       "4      a   0.083369\n",
       "5     to   0.082854\n",
       "6    was   0.055589\n",
       "7     of   0.048859\n",
       "8     it   0.040725\n",
       "9     he   0.039322\n",
       "10    in   0.038749\n",
       "11   you   0.029212\n",
       "12  that   0.025460\n",
       "13   for   0.023398\n",
       "14    on   0.021995\n",
       "15   all   0.021222\n",
       "16   but   0.021107\n",
       "17    up   0.019933\n",
       "18    we   0.019274\n",
       "19   out   0.018472\n",
       "20    so   0.017900"
      ]
     },
     "execution_count": 236,
     "metadata": {},
     "output_type": "execute_result"
    }
   ],
   "source": [
    "df_huck_finn_word_count"
   ]
  },
  {
   "cell_type": "code",
   "execution_count": 237,
   "metadata": {},
   "outputs": [
    {
     "data": {
      "image/png": "[encoded data removed]",
      "text/plain": [
       "<Figure size 432x288 with 1 Axes>"
      ]
     },
     "metadata": {
      "needs_background": "light"
     },
     "output_type": "display_data"
    }
   ],
   "source": [
    "plt.plot(np.log(df_huck_finn_word_count.index.values), np.log(df_huck_finn_word_count['frequency'].values))\n",
    "plt.xlabel('Log of Rank of Word');\n",
    "plt.ylabel('Log of Frequency of Word');\n",
    "plt.title(\"Huck Finn\")\n",
    "plt.show();"
   ]
  },
  {
   "cell_type": "code",
   "execution_count": 204,
   "metadata": {},
   "outputs": [
    {
     "data": {
      "image/png": "[encoded data removed]",
      "text/plain": [
       "<Figure size 432x288 with 1 Axes>"
      ]
     },
     "metadata": {
      "needs_background": "light"
     },
     "output_type": "display_data"
    }
   ],
   "source": [
    "plt.plot(np.log(df_little_women_word_count.index.values), np.log(df_little_women_word_count['frequency'].values))\n",
    "plt.xlabel('Log of Rank of Word');\n",
    "plt.ylabel('Log of Frequency of Word');\n",
    "plt.title(\"Little Women\")\n",
    "plt.show();"
   ]
  },
  {
   "cell_type": "markdown",
   "metadata": {},
   "source": [
    "### Step 1 Continued (Formulate a Question)\n",
    "\n",
    "The plots of rank versus frequency suggest a pattern \n",
    "\n",
    "$$\\text{log}(\\text{Frequency}) \\approx \\text{Intercept} - \\text{Slope} \\times \\text{log}(\\text{Rank}) $$\n",
    "\n",
    "Remember that \n",
    "\n",
    "$$e^{\\log c} = c \\; \\text{ for any number c}$$\n",
    "\n",
    "and \n",
    "\n",
    "$$e^{a + b} = e^a \\cdot e^b$$\n",
    "\n",
    "Therefore we oobtain \n",
    "\n",
    "$$ \\text{Frequency} \\approx \\displaystyle\\frac{e^{\\text{Intercept}}}{\\text{Rank}^{\\text{Slope}}}$$\n",
    "\n",
    "This pattern of frequency and rank is called the Zipf rule. How accurate is it?"
   ]
  },
  {
   "cell_type": "code",
   "execution_count": 238,
   "metadata": {},
   "outputs": [],
   "source": [
    "hf_count_reg = LinearRegression().fit(np.log(df_huck_finn_word_count.index.values).reshape(-1,1),\n",
    "                             np.log(df_huck_finn_word_count['frequency'].values.reshape(-1,1)))\n",
    "\n",
    "slope = hf_count_reg.coef_[0][0]\n",
    "intercept = hf_count_reg.intercept_[0]"
   ]
  },
  {
   "cell_type": "code",
   "execution_count": 240,
   "metadata": {},
   "outputs": [
    {
     "data": {
      "image/png": "[encoded data removed]",
      "text/plain": [
       "<Figure size 720x576 with 1 Axes>"
      ]
     },
     "metadata": {
      "needs_background": "light"
     },
     "output_type": "display_data"
    }
   ],
   "source": [
    "plt_values = np.linspace(1,20,100)\n",
    "\n",
    "plt.plot( plt_values, np.exp(intercept) * (plt_values**slope))\n",
    "df_huck_finn_word_count['frequency'].plot(kind='bar', figsize = (10,8))\n",
    "plt.xlim(xmin=-1, xmax = 20)\n",
    "plt.xlabel(\"Rank\", fontsize=12)\n",
    "plt.ylabel(\"Frequency\", fontsize=12)\n",
    "plt.title(\"Huck Finn\")\n",
    "plt.plot();"
   ]
  },
  {
   "cell_type": "code",
   "execution_count": 241,
   "metadata": {},
   "outputs": [],
   "source": [
    "lw_count_reg = LinearRegression().fit(np.log(df_little_women_word_count.index.values).reshape(-1,1),\n",
    "                             np.log(df_little_women_word_count['frequency'].values.reshape(-1,1)))\n",
    "\n",
    "slope = lw_count_reg.coef_[0][0]\n",
    "intercept = lw_count_reg.intercept_[0]"
   ]
  },
  {
   "cell_type": "code",
   "execution_count": 242,
   "metadata": {},
   "outputs": [
    {
     "data": {
      "image/png": "[encoded data removed]",
      "text/plain": [
       "<Figure size 720x576 with 1 Axes>"
      ]
     },
     "metadata": {
      "needs_background": "light"
     },
     "output_type": "display_data"
    }
   ],
   "source": [
    "plt_values = np.linspace(1,20,100)\n",
    "\n",
    "plt.plot( plt_values, np.exp(intercept) * (plt_values**slope))\n",
    "df_little_women_word_count['frequency'].plot(kind='bar', figsize = (10,8))\n",
    "plt.xlim(xmin=-1, xmax = 20)\n",
    "plt.xlabel(\"Rank\", fontsize=12)\n",
    "plt.ylabel(\"Frequency\", fontsize=12)\n",
    "\n",
    "plt.plot();"
   ]
  },
  {
   "cell_type": "code",
   "execution_count": null,
   "metadata": {},
   "outputs": [],
   "source": []
  }
 ],
 "metadata": {
  "anaconda-cloud": {},
  "celltoolbar": "Raw Cell Format",
  "kernelspec": {
   "display_name": "Python 3",
   "language": "python",
   "name": "python3"
  },
  "language_info": {
   "codemirror_mode": {
    "name": "ipython",
    "version": 3
   },
   "file_extension": ".py",
   "mimetype": "text/x-python",
   "name": "python",
   "nbconvert_exporter": "python",
   "pygments_lexer": "ipython3",
   "version": "3.7.3"
  }
 },
 "nbformat": 4,
 "nbformat_minor": 4
}
