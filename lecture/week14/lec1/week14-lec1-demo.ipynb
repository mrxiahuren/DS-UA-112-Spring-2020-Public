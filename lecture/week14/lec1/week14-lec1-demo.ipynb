{
 "cells": [
  {
   "cell_type": "markdown",
   "metadata": {},
   "source": [
    "## Week 14 Lecture 1\n",
    "\n",
    "We will get more practice with logistic regression by studying a dataset about breast cancer. The records contain information about biopsied tumors in clinical cases at University of Wisconsin. For each patient, physicians inspected a sample of cells with fine needle aspiration. Among the different features of the tumors, physicians recorded the diagnosis of \n",
    "\n",
    "- benign \n",
    "- malignant\n",
    "\n",
    "Here logistic regression can help to predict benign or malignant tumor from the other features like shape and size of cells. "
   ]
  },
  {
   "cell_type": "code",
   "execution_count": 51,
   "metadata": {},
   "outputs": [],
   "source": [
    "# import packages \n",
    "\n",
    "import numpy as np\n",
    "import pandas as pd\n",
    "\n",
    "import matplotlib\n",
    "from mpl_toolkits.mplot3d import Axes3D\n",
    "import matplotlib.pyplot as plt\n",
    "\n",
    "from sklearn.linear_model import LinearRegression, LogisticRegression\n",
    "from scipy.optimize import minimize\n",
    "\n",
    "from helper_functions import *\n",
    "\n",
    "# change settings\n",
    "\n",
    "pd.set_option('display.max_rows', 10)\n",
    "pd.set_option('display.max_columns', 8)\n",
    "\n",
    "%matplotlib inline\n",
    "plt.rcParams['figure.figsize'] = (10, 8)\n",
    "plt.rcParams['font.size'] = 16\n",
    "\n",
    "import warnings\n",
    "warnings.filterwarnings(\"ignore\", category=FutureWarning)\n",
    "\n",
    "# import for configuration\n",
    "\n",
    "from IPython.display import Image"
   ]
  },
  {
   "cell_type": "markdown",
   "metadata": {},
   "source": [
    "The dataset consists of 699 rows and 11 columns.  \n",
    "\n",
    "- `id` : Identifier of Biopsy\n",
    "- `thick` : Clump Thickness\n",
    "- `size_unif` : Uniformity of Cell Size\n",
    "- `shape_unif` : Uniformity of Cell Shape\n",
    "- `marg` : Marginal Adhesion\n",
    "- `cell_size` : Single Epithelial Cell Size\n",
    "- `bare` : Bare Nuclei\n",
    "- `chrom` : Bland Chromatin\n",
    "- `normal` : Normal Nucleoli\n",
    "- `mit` : Mitoses\n",
    "- `class` : Malignant or Benign \n",
    "\n",
    "Note that `class` is a qualitative variable consisting of \n",
    "\n",
    "- 0 for benign\n",
    "- 1 for malignant \n",
    "\n",
    "Note that `thick`,`size_unif`,`shape_unif`,`marg`,`cell_size`,`bare`,`chrom`,`normal`, and `mit` are quantitative variables with values ranging from 0 through 10. We drop 16 rows containing missing data. "
   ]
  },
  {
   "cell_type": "code",
   "execution_count": 52,
   "metadata": {},
   "outputs": [
    {
     "data": {
      "text/html": [
       "<div>\n",
       "<style scoped>\n",
       "    .dataframe tbody tr th:only-of-type {\n",
       "        vertical-align: middle;\n",
       "    }\n",
       "\n",
       "    .dataframe tbody tr th {\n",
       "        vertical-align: top;\n",
       "    }\n",
       "\n",
       "    .dataframe thead th {\n",
       "        text-align: right;\n",
       "    }\n",
       "</style>\n",
       "<table border=\"1\" class=\"dataframe\">\n",
       "  <thead>\n",
       "    <tr style=\"text-align: right;\">\n",
       "      <th></th>\n",
       "      <th>id</th>\n",
       "      <th>thick</th>\n",
       "      <th>size_unif</th>\n",
       "      <th>shape_unif</th>\n",
       "      <th>...</th>\n",
       "      <th>chrom</th>\n",
       "      <th>normal</th>\n",
       "      <th>mit</th>\n",
       "      <th>class</th>\n",
       "    </tr>\n",
       "  </thead>\n",
       "  <tbody>\n",
       "    <tr>\n",
       "      <th>0</th>\n",
       "      <td>1000025</td>\n",
       "      <td>5</td>\n",
       "      <td>1</td>\n",
       "      <td>1</td>\n",
       "      <td>...</td>\n",
       "      <td>3</td>\n",
       "      <td>1</td>\n",
       "      <td>1</td>\n",
       "      <td>0</td>\n",
       "    </tr>\n",
       "    <tr>\n",
       "      <th>1</th>\n",
       "      <td>1002945</td>\n",
       "      <td>5</td>\n",
       "      <td>4</td>\n",
       "      <td>4</td>\n",
       "      <td>...</td>\n",
       "      <td>3</td>\n",
       "      <td>2</td>\n",
       "      <td>1</td>\n",
       "      <td>0</td>\n",
       "    </tr>\n",
       "    <tr>\n",
       "      <th>2</th>\n",
       "      <td>1015425</td>\n",
       "      <td>3</td>\n",
       "      <td>1</td>\n",
       "      <td>1</td>\n",
       "      <td>...</td>\n",
       "      <td>3</td>\n",
       "      <td>1</td>\n",
       "      <td>1</td>\n",
       "      <td>0</td>\n",
       "    </tr>\n",
       "    <tr>\n",
       "      <th>3</th>\n",
       "      <td>1016277</td>\n",
       "      <td>6</td>\n",
       "      <td>8</td>\n",
       "      <td>8</td>\n",
       "      <td>...</td>\n",
       "      <td>3</td>\n",
       "      <td>7</td>\n",
       "      <td>1</td>\n",
       "      <td>0</td>\n",
       "    </tr>\n",
       "    <tr>\n",
       "      <th>4</th>\n",
       "      <td>1017023</td>\n",
       "      <td>4</td>\n",
       "      <td>1</td>\n",
       "      <td>1</td>\n",
       "      <td>...</td>\n",
       "      <td>3</td>\n",
       "      <td>1</td>\n",
       "      <td>1</td>\n",
       "      <td>0</td>\n",
       "    </tr>\n",
       "    <tr>\n",
       "      <th>...</th>\n",
       "      <td>...</td>\n",
       "      <td>...</td>\n",
       "      <td>...</td>\n",
       "      <td>...</td>\n",
       "      <td>...</td>\n",
       "      <td>...</td>\n",
       "      <td>...</td>\n",
       "      <td>...</td>\n",
       "      <td>...</td>\n",
       "    </tr>\n",
       "    <tr>\n",
       "      <th>678</th>\n",
       "      <td>776715</td>\n",
       "      <td>3</td>\n",
       "      <td>1</td>\n",
       "      <td>1</td>\n",
       "      <td>...</td>\n",
       "      <td>1</td>\n",
       "      <td>1</td>\n",
       "      <td>1</td>\n",
       "      <td>0</td>\n",
       "    </tr>\n",
       "    <tr>\n",
       "      <th>679</th>\n",
       "      <td>841769</td>\n",
       "      <td>2</td>\n",
       "      <td>1</td>\n",
       "      <td>1</td>\n",
       "      <td>...</td>\n",
       "      <td>1</td>\n",
       "      <td>1</td>\n",
       "      <td>1</td>\n",
       "      <td>0</td>\n",
       "    </tr>\n",
       "    <tr>\n",
       "      <th>680</th>\n",
       "      <td>888820</td>\n",
       "      <td>5</td>\n",
       "      <td>10</td>\n",
       "      <td>10</td>\n",
       "      <td>...</td>\n",
       "      <td>8</td>\n",
       "      <td>10</td>\n",
       "      <td>2</td>\n",
       "      <td>1</td>\n",
       "    </tr>\n",
       "    <tr>\n",
       "      <th>681</th>\n",
       "      <td>897471</td>\n",
       "      <td>4</td>\n",
       "      <td>8</td>\n",
       "      <td>6</td>\n",
       "      <td>...</td>\n",
       "      <td>10</td>\n",
       "      <td>6</td>\n",
       "      <td>1</td>\n",
       "      <td>1</td>\n",
       "    </tr>\n",
       "    <tr>\n",
       "      <th>682</th>\n",
       "      <td>897471</td>\n",
       "      <td>4</td>\n",
       "      <td>8</td>\n",
       "      <td>8</td>\n",
       "      <td>...</td>\n",
       "      <td>10</td>\n",
       "      <td>4</td>\n",
       "      <td>1</td>\n",
       "      <td>1</td>\n",
       "    </tr>\n",
       "  </tbody>\n",
       "</table>\n",
       "<p>683 rows × 11 columns</p>\n",
       "</div>"
      ],
      "text/plain": [
       "          id  thick  size_unif  shape_unif  ...  chrom  normal  mit  class\n",
       "0    1000025      5          1           1  ...      3       1    1      0\n",
       "1    1002945      5          4           4  ...      3       2    1      0\n",
       "2    1015425      3          1           1  ...      3       1    1      0\n",
       "3    1016277      6          8           8  ...      3       7    1      0\n",
       "4    1017023      4          1           1  ...      3       1    1      0\n",
       "..       ...    ...        ...         ...  ...    ...     ...  ...    ...\n",
       "678   776715      3          1           1  ...      1       1    1      0\n",
       "679   841769      2          1           1  ...      1       1    1      0\n",
       "680   888820      5         10          10  ...      8      10    2      1\n",
       "681   897471      4          8           6  ...     10       6    1      1\n",
       "682   897471      4          8           8  ...     10       4    1      1\n",
       "\n",
       "[683 rows x 11 columns]"
      ]
     },
     "execution_count": 52,
     "metadata": {},
     "output_type": "execute_result"
    }
   ],
   "source": [
    "# load dataset \n",
    "biopsy = pd.read_csv(\"breast_cancer_biopsies.csv\")\n",
    "biopsy"
   ]
  },
  {
   "cell_type": "markdown",
   "metadata": {},
   "source": [
    "#### Plotting the Data\n",
    "\n",
    "The objective is to identify benign or malignant classes. After loading the data, we can create a scatter-plot labeling the classes with different colors. "
   ]
  },
  {
   "cell_type": "code",
   "execution_count": 53,
   "metadata": {
    "scrolled": true
   },
   "outputs": [
    {
     "data": {
      "image/png": "[encoded data removed]",
      "text/plain": [
       "<Figure size 720x576 with 1 Axes>"
      ]
     },
     "metadata": {
      "needs_background": "light"
     },
     "output_type": "display_data"
    }
   ],
   "source": [
    "# Get records\n",
    "malignant_records = biopsy[biopsy[\"class\"] == 1] \n",
    "benign_records =  biopsy[biopsy[\"class\"] == 0]\n",
    "\n",
    "# Create the scatter plot\n",
    "plt.plot(malignant_records[\"size_unif\"],malignant_records[\"marg\"],'r.', label = \"malignant\")\n",
    "plt.plot(benign_records[\"size_unif\"],benign_records[\"marg\"],'g.', label = \"benign\")\n",
    "plt.xlabel(\"size_unif\")\n",
    "plt.ylabel(\"marg\")\n",
    "plt.ylim(0,14)\n",
    "plt.legend();"
   ]
  },
  {
   "cell_type": "markdown",
   "metadata": {},
   "source": [
    "We will focus on two of the features \n",
    "\n",
    "- Uniformity of Cell Size \n",
    "- Marginal Adhesion\n",
    "\n",
    "Remember that we abbreviate these featues as `size_unif` and `marg`. Note that we have some over-plotting. We can jitter the point to display points with overlapping coordinates."
   ]
  },
  {
   "cell_type": "code",
   "execution_count": 54,
   "metadata": {
    "scrolled": true
   },
   "outputs": [
    {
     "data": {
      "image/png": "[encoded data removed]",
      "text/plain": [
       "<Figure size 720x576 with 1 Axes>"
      ]
     },
     "metadata": {
      "needs_background": "light"
     },
     "output_type": "display_data"
    }
   ],
   "source": [
    "data = biopsy\n",
    "amount_jitter = 0.25\n",
    "\n",
    "plot_scatter_plot(data, amount_jitter)"
   ]
  },
  {
   "cell_type": "markdown",
   "metadata": {},
   "source": [
    "Despite jittering the points, the chart is not informative because we cannot see the relative frequency of malign and benign points. Instead we can use a histogram. Since we are working with two variables, we would need to have 3-dimensions for the chart. However, we can use the size of the points to denote the heights of the rectangles. "
   ]
  },
  {
   "cell_type": "code",
   "execution_count": 55,
   "metadata": {},
   "outputs": [
    {
     "data": {
      "image/png": "[encoded data removed]",
      "text/plain": [
       "<Figure size 720x576 with 1 Axes>"
      ]
     },
     "metadata": {
      "needs_background": "light"
     },
     "output_type": "display_data"
    }
   ],
   "source": [
    "data = biopsy \n",
    "explanatory_variables = [\"size_unif\", \"marg\"] \n",
    "response_variables = \"class\"\n",
    "\n",
    "plot_histogram(data, explanatory_variables, response_variables)"
   ]
  },
  {
   "cell_type": "markdown",
   "metadata": {},
   "source": [
    "Here are some ideas for classification that you may have already thought of.  We can see that the benign samples are located in the lower left.  So, one simple classification rule is to define the region with a line.  We plot the region for one possible line with the following code."
   ]
  },
  {
   "cell_type": "code",
   "execution_count": 6,
   "metadata": {},
   "outputs": [
    {
     "data": {
      "image/png": "[encoded data removed]",
      "text/plain": [
       "<Figure size 432x288 with 1 Axes>"
      ]
     },
     "metadata": {
      "needs_background": "light"
     },
     "output_type": "display_data"
    }
   ],
   "source": [
    "data = biopsy \n",
    "explanatory_variables = [\"size_unif\", \"marg\"] \n",
    "response_variables = \"class\"\n",
    "\n",
    "plot_histogram(data, explanatory_variables, response_variables)\n",
    "add_patch(plt.gca(), [[0,0],[0,4],[6,0]])"
   ]
  },
  {
   "cell_type": "markdown",
   "metadata": {},
   "source": [
    "Here is an alternate classification rule based on two linear constraints."
   ]
  },
  {
   "cell_type": "code",
   "execution_count": 7,
   "metadata": {},
   "outputs": [
    {
     "data": {
      "image/png": "[encoded data removed]",
      "text/plain": [
       "<Figure size 432x288 with 1 Axes>"
      ]
     },
     "metadata": {
      "needs_background": "light"
     },
     "output_type": "display_data"
    }
   ],
   "source": [
    "data = biopsy \n",
    "explanatory_variables = [\"size_unif\", \"marg\"] \n",
    "response_variables = \"class\"\n",
    "\n",
    "plot_histogram(data, explanatory_variables, response_variables)\n",
    "add_patch(plt.gca(), [[0,0],[3.5,0],[3.5,4.5],[0,4.5]])"
   ]
  },
  {
   "cell_type": "markdown",
   "metadata": {},
   "source": [
    "#### Regression\n",
    "\n",
    "Instead of guessing an approach to classifying the biopsies, we should use a model for prediction. \n",
    "\n",
    "##### Linear Regression \n",
    "\n",
    "Before we learned about logisitic regression for qualitative response variables, we studied linear regression for quantitative response variables. If we pretend the `class` column consists of quantitative variables 0 and 1, then can we make guesses with linear regression?"
   ]
  },
  {
   "cell_type": "code",
   "execution_count": 56,
   "metadata": {},
   "outputs": [
    {
     "name": "stdout",
     "output_type": "stream",
     "text": [
      "Intercept = -0.08420066620061473\n",
      "Slopes = [0.10007944 0.04197521]\n"
     ]
    }
   ],
   "source": [
    "linear_model = LinearRegression()\n",
    "linear_model.fit(data[explanatory_variables],data[response_variables])\n",
    "\n",
    "intercept = linear_model.intercept_\n",
    "slopes = linear_model.coef_\n",
    "\n",
    "print('Intercept =', intercept)\n",
    "print('Slopes =', slopes)"
   ]
  },
  {
   "cell_type": "markdown",
   "metadata": {},
   "source": [
    "Here we have a linear regression model with three parameters \n",
    "\n",
    "$$\\hat{y} = w_0 + w_1 \\text{size_unif} + w_2 \\text{marg}$$\n",
    "\n",
    "We can use the model for classification by guessing \n",
    "\n",
    "$$\\begin{cases} 1 & \\text{if } \\hat{y} \\geq 0.5 \\\\ 0 & \\text{if } \\hat{y} < 0.5  \\end{cases}$$\n",
    "\n",
    "So the model will predict 0 or 1 for each combination of the features `size_unif` and `marg`. We can visualize the separation into 0 and 1 by plotting the line\n",
    "\n",
    "$$\\frac{1}{2} = w_0 + w_1 \\cdot \\text{size_unif} + w_2 \\cdot \\text{marg}$$\n",
    "\n",
    "The line will break the chart into two regions corresponding to guesses of 0 and 1. "
   ]
  },
  {
   "cell_type": "code",
   "execution_count": 57,
   "metadata": {},
   "outputs": [
    {
     "data": {
      "image/png": "[encoded data removed]",
      "text/plain": [
       "<Figure size 720x576 with 1 Axes>"
      ]
     },
     "metadata": {
      "needs_background": "light"
     },
     "output_type": "display_data"
    }
   ],
   "source": [
    "data = biopsy \n",
    "explanatory_variables = [\"size_unif\", \"marg\"] \n",
    "response_variables = \"class\"\n",
    "\n",
    "w0=intercept\n",
    "w1=slopes[0]\n",
    "w2=slopes[1]\n",
    "\n",
    "plot_histogram(data, explanatory_variables, response_variables)\n",
    "\n",
    "xvalues = np.linspace(1, 6, 100)\n",
    "yvalues = (0.5 - w0 - w1 * xvalues) / w2    \n",
    "plt.plot(xvalues, yvalues, lw = 2);"
   ]
  },
  {
   "cell_type": "markdown",
   "metadata": {},
   "source": [
    "So we can color the two regions red and green for malignant and benign"
   ]
  },
  {
   "cell_type": "code",
   "execution_count": 58,
   "metadata": {},
   "outputs": [
    {
     "data": {
      "image/png": "[encoded data removed]",
      "text/plain": [
       "<Figure size 720x576 with 1 Axes>"
      ]
     },
     "metadata": {
      "needs_background": "light"
     },
     "output_type": "display_data"
    }
   ],
   "source": [
    "data = biopsy \n",
    "explanatory_variables = [\"size_unif\", \"marg\"] \n",
    "response_variables = \"class\"\n",
    "\n",
    "w0=intercept\n",
    "w1=slopes[0]\n",
    "w2=slopes[1]\n",
    "\n",
    "plot_histogram(data, explanatory_variables, response_variables)\n",
    "\n",
    "xvalues = np.linspace(1, 6, 100)\n",
    "yvalues = (0.5 - w0 - w1 * xvalues) / w2    \n",
    "plt.plot(xvalues, yvalues)\n",
    "\n",
    "add_patch(plt.gca(), [[1,0],[xvalues[-1],yvalues[-1]],[xvalues[0],yvalues[0]]])\n",
    "add_patch(plt.gca(), [[xvalues[-1],yvalues[-1]],[10,0],[10,yvalues[0]],[xvalues[0],yvalues[0]]], \"red\");"
   ]
  },
  {
   "cell_type": "markdown",
   "metadata": {},
   "source": [
    "We should compute the accuracy of the predictions."
   ]
  },
  {
   "cell_type": "code",
   "execution_count": 11,
   "metadata": {},
   "outputs": [
    {
     "name": "stdout",
     "output_type": "stream",
     "text": [
      "Accuracy on training data using two features = 0.9224\n"
     ]
    }
   ],
   "source": [
    "# compute predictions\n",
    "yhat = linear_model.predict(data[explanatory_variables])\n",
    "\n",
    "# use predictions for classification\n",
    "yhat_classification = np.where(0.5 <= yhat, 1, 0)\n",
    "\n",
    "# calculate accuracy\n",
    "accuracy = np.mean(yhat_classification == data[response_variables])\n",
    "\n",
    "print(f\"Accuracy on training data using two features = {accuracy:0.4f}\")"
   ]
  },
  {
   "cell_type": "markdown",
   "metadata": {},
   "source": [
    "We have used two of nine features. If we add he other seven features, then we might have more accurate predictions."
   ]
  },
  {
   "cell_type": "code",
   "execution_count": 12,
   "metadata": {},
   "outputs": [],
   "source": [
    "def convert_to_standard_units(array):\n",
    "    return (array - array.mean()) / array.std()"
   ]
  },
  {
   "cell_type": "markdown",
   "metadata": {},
   "source": [
    "Before we fit a model to data, we want the features to have the same scale. Here the values all lie between 0 and 10. However, Remember we convert to standard units to avoid any issues."
   ]
  },
  {
   "cell_type": "code",
   "execution_count": 13,
   "metadata": {},
   "outputs": [
    {
     "data": {
      "text/html": [
       "<div>\n",
       "<style scoped>\n",
       "    .dataframe tbody tr th:only-of-type {\n",
       "        vertical-align: middle;\n",
       "    }\n",
       "\n",
       "    .dataframe tbody tr th {\n",
       "        vertical-align: top;\n",
       "    }\n",
       "\n",
       "    .dataframe thead th {\n",
       "        text-align: right;\n",
       "    }\n",
       "</style>\n",
       "<table border=\"1\" class=\"dataframe\">\n",
       "  <thead>\n",
       "    <tr style=\"text-align: right;\">\n",
       "      <th></th>\n",
       "      <th>Feature</th>\n",
       "      <th>Slope</th>\n",
       "    </tr>\n",
       "  </thead>\n",
       "  <tbody>\n",
       "    <tr>\n",
       "      <th>0</th>\n",
       "      <td>thick</td>\n",
       "      <td>0.089455</td>\n",
       "    </tr>\n",
       "    <tr>\n",
       "      <th>1</th>\n",
       "      <td>size_unif</td>\n",
       "      <td>0.089455</td>\n",
       "    </tr>\n",
       "    <tr>\n",
       "      <th>2</th>\n",
       "      <td>shape_unif</td>\n",
       "      <td>0.089455</td>\n",
       "    </tr>\n",
       "    <tr>\n",
       "      <th>3</th>\n",
       "      <td>marg</td>\n",
       "      <td>0.089455</td>\n",
       "    </tr>\n",
       "    <tr>\n",
       "      <th>4</th>\n",
       "      <td>cell_size</td>\n",
       "      <td>0.089455</td>\n",
       "    </tr>\n",
       "    <tr>\n",
       "      <th>5</th>\n",
       "      <td>bare</td>\n",
       "      <td>0.089455</td>\n",
       "    </tr>\n",
       "    <tr>\n",
       "      <th>6</th>\n",
       "      <td>chrom</td>\n",
       "      <td>0.089455</td>\n",
       "    </tr>\n",
       "    <tr>\n",
       "      <th>7</th>\n",
       "      <td>normal</td>\n",
       "      <td>0.089455</td>\n",
       "    </tr>\n",
       "    <tr>\n",
       "      <th>8</th>\n",
       "      <td>mit</td>\n",
       "      <td>0.089455</td>\n",
       "    </tr>\n",
       "  </tbody>\n",
       "</table>\n",
       "</div>"
      ],
      "text/plain": [
       "      Feature     Slope\n",
       "0       thick  0.089455\n",
       "1   size_unif  0.089455\n",
       "2  shape_unif  0.089455\n",
       "3        marg  0.089455\n",
       "4   cell_size  0.089455\n",
       "5        bare  0.089455\n",
       "6       chrom  0.089455\n",
       "7      normal  0.089455\n",
       "8         mit  0.089455"
      ]
     },
     "execution_count": 13,
     "metadata": {},
     "output_type": "execute_result"
    }
   ],
   "source": [
    "data = biopsy\n",
    "explanatory_variables_extended = ['thick','size_unif','shape_unif','marg','cell_size','bare','chrom','normal','mit']\n",
    "response_variables = \"class\"\n",
    "\n",
    "linear_model = LinearRegression()\n",
    "linear_model.fit(data[explanatory_variables_extended].apply(convert_to_standard_units),data[response_variables])\n",
    "\n",
    "pd.DataFrame(data= {\n",
    "    'Feature': explanatory_variables_extended, \n",
    "    'Slope': linear_model.coef_[0] })"
   ]
  },
  {
   "cell_type": "markdown",
   "metadata": {},
   "source": [
    "Again we can compute the accuracy."
   ]
  },
  {
   "cell_type": "code",
   "execution_count": 14,
   "metadata": {},
   "outputs": [
    {
     "name": "stdout",
     "output_type": "stream",
     "text": [
      "Accuracy on training data using two features = 0.9605\n"
     ]
    }
   ],
   "source": [
    "# compute predictions\n",
    "yhat = linear_model.predict(data[explanatory_variables_extended].apply(convert_to_standard_units))\n",
    "\n",
    "# use predictions for classification\n",
    "yhat_classification = np.where(0.5 <= yhat, 1, 0)\n",
    "\n",
    "# calculate accuracy\n",
    "accuracy = np.mean(yhat_classification == data[response_variables])\n",
    "\n",
    "print(f\"Accuracy on training data using two features = {accuracy:0.4f}\")"
   ]
  },
  {
   "cell_type": "markdown",
   "metadata": {},
   "source": [
    "##### Sigmoid Function\n",
    "\n",
    "While we managed to get accurate classifications from linear regression, we should use logisitic regression. For logistic regression, we predict a probability: \n",
    "\n",
    "$$\n",
    "    P(\\text{Response Variable} = 1 \\; | \\; \\text{Explanatory Variable})\n",
    "$$\n",
    "\n",
    "Note that we have a conditional probability. For fixed values of the explanatory variables, it indicates the chances of the reponse variable equaling 1. So we would use some combination of the nine explanatory variables to estimate the conditional probability that the response variable equals 1. Here we assume that the conditional probability takes the form\n",
    "\n",
    "$$\n",
    "    P(\\text{Response Variable} = 1 \\; | \\; \\text{Explanatory Variable}) = \\sigma(\\text{Weighted Sum}), \n",
    "$$\n",
    "where \n",
    "\n",
    "$$\n",
    "\\text{Weighted Sum} = w_0 + w_1 \\cdot \\text{Explanatory Variable 1} + \\cdots + w_m \\cdot \\text{Explanatory Variable m}  \n",
    "$$\n",
    "\n",
    "and \n",
    "\n",
    "$$\n",
    "    \\sigma(t) = \\frac{1}{1+e^{-t}}\n",
    "$$\n",
    "\n",
    "To better understand the sigmoid function $\\sigma$, suppose we have one explanatory variable with no intercept. So $$P(\\text{Response Variable} = 1 \\; | \\; \\text{Explanatory Variable}) = \\sigma(w_1 \\cdot \\text{Explanatory Variable})$$ for some slope $w_1$.  We plot different values of $w_1$."
   ]
  },
  {
   "cell_type": "code",
   "execution_count": 15,
   "metadata": {},
   "outputs": [
    {
     "data": {
      "image/png": "[encoded data removed]",
      "text/plain": [
       "<Figure size 1152x720 with 6 Axes>"
      ]
     },
     "metadata": {
      "needs_background": "light"
     },
     "output_type": "display_data"
    }
   ],
   "source": [
    "def sigmoid(t):\n",
    "    return 1 / (1 + np.exp(-t))\n",
    "\n",
    "plot_sigmoid()"
   ]
  },
  {
   "cell_type": "markdown",
   "metadata": {},
   "source": [
    "So $\\sigma(w_1 \\cdot \\text{Explanatory Variable})$ represents the probability that the response variable equals 1. Assuming that $w_1 > 0$, if \n",
    "$$\\sigma(w_1 \\cdot \\text{Explanatory Variable}) > 0.5$$ \n",
    "\n",
    "then the response variable will more likely equal 1.  Similarly, if \n",
    "$$\\sigma(w_1 \\cdot \\text{Explanatory Variable}) \\leq 0.5$$ \n",
    "\n",
    "then the response variable will more likely equal 0. The value of the slope $w_1$ determines the rate of increase between 0 and 1."
   ]
  },
  {
   "cell_type": "code",
   "execution_count": 16,
   "metadata": {},
   "outputs": [
    {
     "data": {
      "image/png": "[encoded data removed]",
      "text/plain": [
       "<Figure size 432x288 with 1 Axes>"
      ]
     },
     "metadata": {
      "needs_background": "light"
     },
     "output_type": "display_data"
    }
   ],
   "source": [
    "xvalues = np.linspace(-10,10,100)\n",
    "yvalues = sigmoid(xvalues)\n",
    "plt.plot(xvalues, yvalues)\n",
    "plt.axvline(x = 0, color = \"green\", linestyle = \"dashed\")\n",
    "plt.axhline(y = 0.5, color = \"red\", linestyle = \"dashed\");"
   ]
  },
  {
   "cell_type": "markdown",
   "metadata": {},
   "source": [
    "##### Logistic Regression\n",
    "\n",
    "We can try to fit a logistic regression model to the data. We will want to evaluate the accuracy out-so-sample on a testing set. So we should split into a training set and testing set."
   ]
  },
  {
   "cell_type": "code",
   "execution_count": 17,
   "metadata": {},
   "outputs": [
    {
     "name": "stdout",
     "output_type": "stream",
     "text": [
      "Training Data Size:  546\n",
      "Test Data Size:  137\n"
     ]
    }
   ],
   "source": [
    "biopsy_shuffled = biopsy.sample(frac = 1, replace= True, random_state=42)\n",
    "\n",
    "number_records_training_set = int(0.8 * len(biopsy))\n",
    "\n",
    "training_set = biopsy_shuffled.iloc[:number_records_training_set,:] \n",
    "testing_set = biopsy_shuffled.iloc[number_records_training_set:,:] \n",
    "\n",
    "print(\"Training Data Size: \", len(training_set))\n",
    "print(\"Test Data Size: \", len(testing_set))"
   ]
  },
  {
   "cell_type": "markdown",
   "metadata": {},
   "source": [
    "Remember that we sample with replacement to shuffle the rows. After we shuffle the rows, we can choose 80% for training set and 20% for testing set."
   ]
  },
  {
   "cell_type": "code",
   "execution_count": 18,
   "metadata": {},
   "outputs": [
    {
     "data": {
      "image/png": "[encoded data removed]",
      "text/plain": [
       "<Figure size 432x288 with 1 Axes>"
      ]
     },
     "metadata": {
      "needs_background": "light"
     },
     "output_type": "display_data"
    }
   ],
   "source": [
    "# Get records\n",
    "malignant_records = training_set[training_set[\"class\"] == 1] \n",
    "benign_records =  training_set[training_set[\"class\"] == 0]\n",
    "\n",
    "# Create the scatter plot\n",
    "plt.xlabel('mit')\n",
    "plt.ylabel('class')\n",
    "\n",
    "plt.plot(malignant_records[\"mit\"],malignant_records[\"class\"],'r.', markersize = 20, label = \"malignant\")\n",
    "plt.plot(benign_records[\"mit\"],benign_records[\"class\"],'g.', markersize = 20, label = \"benign\")\n",
    "\n",
    "plt.legend();"
   ]
  },
  {
   "cell_type": "markdown",
   "metadata": {},
   "source": [
    "Here we take `mit` for the explanatory variable and `class` for the response variable. Before we try logistic regression, we should try binned regression. "
   ]
  },
  {
   "cell_type": "code",
   "execution_count": 19,
   "metadata": {},
   "outputs": [
    {
     "data": {
      "text/html": [
       "<div>\n",
       "<style scoped>\n",
       "    .dataframe tbody tr th:only-of-type {\n",
       "        vertical-align: middle;\n",
       "    }\n",
       "\n",
       "    .dataframe tbody tr th {\n",
       "        vertical-align: top;\n",
       "    }\n",
       "\n",
       "    .dataframe thead th {\n",
       "        text-align: right;\n",
       "    }\n",
       "</style>\n",
       "<table border=\"1\" class=\"dataframe\">\n",
       "  <thead>\n",
       "    <tr style=\"text-align: right;\">\n",
       "      <th></th>\n",
       "      <th>Median Value of mit</th>\n",
       "      <th>Mean Value of class</th>\n",
       "    </tr>\n",
       "    <tr>\n",
       "      <th>mit</th>\n",
       "      <th></th>\n",
       "      <th></th>\n",
       "    </tr>\n",
       "  </thead>\n",
       "  <tbody>\n",
       "    <tr>\n",
       "      <th>(0.991, 2.8]</th>\n",
       "      <td>1</td>\n",
       "      <td>0.289916</td>\n",
       "    </tr>\n",
       "    <tr>\n",
       "      <th>(2.8, 4.6]</th>\n",
       "      <td>3</td>\n",
       "      <td>1.000000</td>\n",
       "    </tr>\n",
       "    <tr>\n",
       "      <th>(4.6, 6.4]</th>\n",
       "      <td>5</td>\n",
       "      <td>0.900000</td>\n",
       "    </tr>\n",
       "    <tr>\n",
       "      <th>(6.4, 8.2]</th>\n",
       "      <td>8</td>\n",
       "      <td>1.000000</td>\n",
       "    </tr>\n",
       "    <tr>\n",
       "      <th>(8.2, 10.0]</th>\n",
       "      <td>10</td>\n",
       "      <td>1.000000</td>\n",
       "    </tr>\n",
       "  </tbody>\n",
       "</table>\n",
       "</div>"
      ],
      "text/plain": [
       "              Median Value of mit  Mean Value of class\n",
       "mit                                                   \n",
       "(0.991, 2.8]                    1             0.289916\n",
       "(2.8, 4.6]                      3             1.000000\n",
       "(4.6, 6.4]                      5             0.900000\n",
       "(6.4, 8.2]                      8             1.000000\n",
       "(8.2, 10.0]                    10             1.000000"
      ]
     },
     "execution_count": 19,
     "metadata": {},
     "output_type": "execute_result"
    }
   ],
   "source": [
    "bins = pd.cut(training_set[\"mit\"], 5)\n",
    "training_set_groups = training_set.groupby(bins).agg({\"mit\":np.median, \"class\":np.mean})\n",
    "training_set_groups.rename(columns = {\"mit\":\"Median Value of mit\", \"class\":\"Mean Value of class\"}, inplace = True)\n",
    "training_set_groups"
   ]
  },
  {
   "cell_type": "markdown",
   "metadata": {},
   "source": [
    "We group the data into five ranges of values for the `mit` feature. We use the median to summarize the values of `mit` and the mean to summarize the values of `class`. Note that the average of the values of `class` give the proportion of malignant records."
   ]
  },
  {
   "cell_type": "code",
   "execution_count": 20,
   "metadata": {},
   "outputs": [
    {
     "data": {
      "image/png": "[encoded data removed]",
      "text/plain": [
       "<Figure size 432x288 with 1 Axes>"
      ]
     },
     "metadata": {
      "needs_background": "light"
     },
     "output_type": "display_data"
    }
   ],
   "source": [
    "# Get records\n",
    "malignant_records = training_set[training_set[\"class\"] == 1] \n",
    "benign_records =  training_set[training_set[\"class\"] == 0]\n",
    "\n",
    "# Create the scatter plot\n",
    "plt.xlabel('mit')\n",
    "plt.ylabel('class')\n",
    "\n",
    "# Plot the values\n",
    "plt.plot(malignant_records[\"mit\"],malignant_records[\"class\"],'r.', markersize = 20, label = \"malignant\")\n",
    "plt.plot(benign_records[\"mit\"],benign_records[\"class\"],'g.', markersize = 20, label = \"benign\")\n",
    "plt.plot(training_set_groups[\"Median Value of mit\"], training_set_groups[\"Mean Value of class\"], 'b^', linewidth = 2, markersize = 7, label=\"binned regression\")\n",
    "\n",
    "# Indicate the bins\n",
    "for bins in training_set_groups.index[:-1]:\n",
    "    plt.axvline(x = bins.right, color = \"blue\", linestyle = \"dashed\")\n",
    "\n",
    "plt.legend();"
   ]
  },
  {
   "cell_type": "markdown",
   "metadata": {},
   "source": [
    "For binned regression, we plot the summary statistics for the five groups. With five points insted of 546 points, we can understand the trends and patterns in the data. "
   ]
  },
  {
   "cell_type": "code",
   "execution_count": 21,
   "metadata": {},
   "outputs": [],
   "source": [
    "def logistic_loss(y, y_hat):\n",
    "    return -y * np.log(y_hat) - (1-y) * np.log(1-y_hat)\n",
    "\n",
    "def average_logistic_loss(w):\n",
    "    x = training_set[\"mit\"]\n",
    "    y_obs = training_set[\"class\"]\n",
    "    y_hat = sigmoid(w[0] + w[1] * x)\n",
    "    return np.mean(logistic_loss(y_obs, y_hat))"
   ]
  },
  {
   "cell_type": "markdown",
   "metadata": {},
   "source": [
    "While binned regression helps us to understand the data, we need logistic regression to guess `class` from `mit`. In particular, binned regression will not help us to make predictions on the testing set.\n",
    "\n",
    "Remember that we use the logistic loss function to fit the model to the data. "
   ]
  },
  {
   "cell_type": "code",
   "execution_count": 22,
   "metadata": {},
   "outputs": [
    {
     "name": "stdout",
     "output_type": "stream",
     "text": [
      "Intercept = -3.447672164201143\n",
      "Slopes = 2.3806735282440106\n"
     ]
    }
   ],
   "source": [
    "slopes = minimize(average_logistic_loss, x0 = [0,0]).x\n",
    "print('Intercept =', slopes[0])\n",
    "print('Slopes =', slopes[1])"
   ]
  },
  {
   "cell_type": "markdown",
   "metadata": {},
   "source": [
    "We use `minimize` in the `scipy.optimize` package to determine the parameters for the logistic regression model. Remember that `minimize` runs gradient descent for us. "
   ]
  },
  {
   "cell_type": "code",
   "execution_count": 23,
   "metadata": {},
   "outputs": [
    {
     "data": {
      "image/png": "[encoded data removed]",
      "text/plain": [
       "<Figure size 432x288 with 1 Axes>"
      ]
     },
     "metadata": {
      "needs_background": "light"
     },
     "output_type": "display_data"
    }
   ],
   "source": [
    "# Get records\n",
    "malignant_records = training_set[training_set[\"class\"] == 1] \n",
    "benign_records =  training_set[training_set[\"class\"] == 0]\n",
    "\n",
    "# Create the scatter plot\n",
    "plt.xlabel('mit')\n",
    "plt.ylabel('class')\n",
    "\n",
    "plt.plot(malignant_records[\"mit\"],malignant_records[\"class\"],'r.', markersize = 20, label = \"malignant\")\n",
    "plt.plot(benign_records[\"mit\"],benign_records[\"class\"],'g.', markersize = 20, label = \"benign\")\n",
    "\n",
    "plt.plot(training_set_groups[\"Median Value of mit\"], training_set_groups[\"Mean Value of class\"], 'b^', linewidth = 2, markersize = 7, label=\"binned regression\")\n",
    "\n",
    "x = np.linspace(0,10,50)\n",
    "plt.plot(x, sigmoid(slopes[0] + slopes[1] * x), 'b:', linewidth = 2, label=\"logistic regression\")\n",
    "\n",
    "plt.legend();"
   ]
  },
  {
   "cell_type": "markdown",
   "metadata": {},
   "source": [
    "With the slope and intercept, we can plot the predicted probabilities of `class` conditional on `mit`. We manage to connect four of five points from binned regression."
   ]
  },
  {
   "cell_type": "code",
   "execution_count": 24,
   "metadata": {},
   "outputs": [
    {
     "name": "stdout",
     "output_type": "stream",
     "text": [
      "Accuracy on training data using two features = 0.7857\n"
     ]
    }
   ],
   "source": [
    "# compute predictions\n",
    "x = training_set[\"mit\"]\n",
    "yhat = sigmoid(slopes[0] + slopes[1] * x)\n",
    "\n",
    "# use predictions for classification\n",
    "yhat_classification = np.where(0.5 <= yhat, 1, 0)\n",
    "\n",
    "# calculate accuracy\n",
    "accuracy = np.mean(yhat_classification == training_set[\"class\"])\n",
    "\n",
    "print(f\"Accuracy on training data using two features = {accuracy:0.4f}\")"
   ]
  },
  {
   "cell_type": "markdown",
   "metadata": {},
   "source": [
    "The accuracy on the training set gives us the in-sample error. However, we want to know the out-of-sample error."
   ]
  },
  {
   "cell_type": "code",
   "execution_count": 25,
   "metadata": {},
   "outputs": [
    {
     "name": "stdout",
     "output_type": "stream",
     "text": [
      "Accuracy on training data using two features = 0.7664\n"
     ]
    }
   ],
   "source": [
    "# compute predictions\n",
    "x = testing_set[\"mit\"]\n",
    "yhat = sigmoid(slopes[0] + slopes[1] * x)\n",
    "\n",
    "# use predictions for classification\n",
    "yhat_classification = np.where(0.5 <= yhat, 1, 0)\n",
    "\n",
    "# calculate accuracy\n",
    "accuracy = np.mean(yhat_classification == testing_set[\"class\"])\n",
    "\n",
    "print(f\"Accuracy on training data using two features = {accuracy:0.4f}\")"
   ]
  },
  {
   "cell_type": "markdown",
   "metadata": {},
   "source": [
    "The accuracy of 76% seems reasonable for the testing set. However, we should compare to a benchmark. If we were to guess at random with 50% chance of malignant and 50% chance of benign then we expect the accuracy to be about 50%. Note that the dataset contains more records of benign than malignant."
   ]
  },
  {
   "cell_type": "code",
   "execution_count": 26,
   "metadata": {},
   "outputs": [
    {
     "name": "stdout",
     "output_type": "stream",
     "text": [
      "Number of malignant records 50\n",
      "Number of benign records 87\n"
     ]
    }
   ],
   "source": [
    "number_malignant = len(testing_set[testing_set[\"class\"] == 1])\n",
    "number_benign = len(testing_set[testing_set[\"class\"] == 0])\n",
    "\n",
    "print(f\"Number of malignant records {number_malignant}\")\n",
    "print(f\"Number of benign records {number_benign}\")"
   ]
  },
  {
   "cell_type": "markdown",
   "metadata": {},
   "source": [
    "So we should not guess at random with chance with 50% chance of malignant and 50% chance of benign. Instead we could guess with probabilities reflecting the number of malignant records and benign records"
   ]
  },
  {
   "cell_type": "code",
   "execution_count": 27,
   "metadata": {},
   "outputs": [
    {
     "name": "stdout",
     "output_type": "stream",
     "text": [
      "Accuracy on training data using two features = 0.3796\n"
     ]
    }
   ],
   "source": [
    "probability_malignant = 50 / (50 + 87)\n",
    "\n",
    "yhat_classification = [np.random.binomial(1, 0.9) for trial in range(len(testing_set))]\n",
    "\n",
    "accuracy = np.mean(yhat_classification == testing_set[\"class\"])\n",
    "\n",
    "print(f\"Accuracy on training data using two features = {accuracy:0.4f}\")"
   ]
  },
  {
   "cell_type": "markdown",
   "metadata": {},
   "source": [
    "Alternatively we could alway guess benign."
   ]
  },
  {
   "cell_type": "code",
   "execution_count": 28,
   "metadata": {},
   "outputs": [
    {
     "name": "stdout",
     "output_type": "stream",
     "text": [
      "Accuracy on training data using two features = 0.6350\n"
     ]
    }
   ],
   "source": [
    "# use predictions for classification\n",
    "yhat_classification = np.zeros(len(testing_set))\n",
    "\n",
    "# calculate accuracy\n",
    "accuracy = np.mean(yhat_classification == testing_set[\"class\"])\n",
    "\n",
    "print(f\"Accuracy on training data using two features = {accuracy:0.4f}\")"
   ]
  },
  {
   "cell_type": "markdown",
   "metadata": {},
   "source": [
    "Note that 63% does not differ much from the 76% of the model"
   ]
  },
  {
   "cell_type": "markdown",
   "metadata": {},
   "source": [
    "##### Multiple Features\n",
    "\n",
    "We might improve the accuracy of the predictions through additional features. Remember that the logisitic regression model takes the form\n",
    "\n",
    "$$P(\\text{Response Variable} = 1 \\; | \\; \\text{Explanatory Variable}) = \\sigma(w_0 + w_1 \\cdot \\text{Explanatory Variable 1} + \\cdots + w_m \\cdot \\text{Explanatory Variable m} )$$\n",
    "\n",
    "We can use scikit-learn to fit the model to the data."
   ]
  },
  {
   "cell_type": "code",
   "execution_count": 29,
   "metadata": {},
   "outputs": [
    {
     "data": {
      "text/html": [
       "<div>\n",
       "<style scoped>\n",
       "    .dataframe tbody tr th:only-of-type {\n",
       "        vertical-align: middle;\n",
       "    }\n",
       "\n",
       "    .dataframe tbody tr th {\n",
       "        vertical-align: top;\n",
       "    }\n",
       "\n",
       "    .dataframe thead th {\n",
       "        text-align: right;\n",
       "    }\n",
       "</style>\n",
       "<table border=\"1\" class=\"dataframe\">\n",
       "  <thead>\n",
       "    <tr style=\"text-align: right;\">\n",
       "      <th></th>\n",
       "      <th>Feature</th>\n",
       "      <th>Slope</th>\n",
       "    </tr>\n",
       "  </thead>\n",
       "  <tbody>\n",
       "    <tr>\n",
       "      <th>0</th>\n",
       "      <td>thick</td>\n",
       "      <td>0.884850</td>\n",
       "    </tr>\n",
       "    <tr>\n",
       "      <th>1</th>\n",
       "      <td>size_unif</td>\n",
       "      <td>0.071957</td>\n",
       "    </tr>\n",
       "    <tr>\n",
       "      <th>2</th>\n",
       "      <td>shape_unif</td>\n",
       "      <td>1.095548</td>\n",
       "    </tr>\n",
       "    <tr>\n",
       "      <th>3</th>\n",
       "      <td>marg</td>\n",
       "      <td>0.780344</td>\n",
       "    </tr>\n",
       "    <tr>\n",
       "      <th>4</th>\n",
       "      <td>cell_size</td>\n",
       "      <td>-0.141151</td>\n",
       "    </tr>\n",
       "    <tr>\n",
       "      <th>5</th>\n",
       "      <td>bare</td>\n",
       "      <td>1.084682</td>\n",
       "    </tr>\n",
       "    <tr>\n",
       "      <th>6</th>\n",
       "      <td>chrom</td>\n",
       "      <td>1.035673</td>\n",
       "    </tr>\n",
       "    <tr>\n",
       "      <th>7</th>\n",
       "      <td>normal</td>\n",
       "      <td>1.034414</td>\n",
       "    </tr>\n",
       "    <tr>\n",
       "      <th>8</th>\n",
       "      <td>mit</td>\n",
       "      <td>0.733239</td>\n",
       "    </tr>\n",
       "  </tbody>\n",
       "</table>\n",
       "</div>"
      ],
      "text/plain": [
       "      Feature     Slope\n",
       "0       thick  0.884850\n",
       "1   size_unif  0.071957\n",
       "2  shape_unif  1.095548\n",
       "3        marg  0.780344\n",
       "4   cell_size -0.141151\n",
       "5        bare  1.084682\n",
       "6       chrom  1.035673\n",
       "7      normal  1.034414\n",
       "8         mit  0.733239"
      ]
     },
     "execution_count": 29,
     "metadata": {},
     "output_type": "execute_result"
    }
   ],
   "source": [
    "data = training_set\n",
    "explanatory_variables_extended = ['thick','size_unif','shape_unif','marg','cell_size','bare','chrom','normal','mit']\n",
    "response_variables = \"class\"\n",
    "\n",
    "logistic_model = LogisticRegression()\n",
    "logistic_model.fit(data[explanatory_variables_extended].apply(convert_to_standard_units),data[response_variables])\n",
    "\n",
    "pd.DataFrame(data= {\n",
    "    'Feature': explanatory_variables_extended, \n",
    "    'Slope': logistic_model.coef_[0]})"
   ]
  },
  {
   "cell_type": "markdown",
   "metadata": {},
   "source": [
    "We can compute the accuracy on the training set."
   ]
  },
  {
   "cell_type": "code",
   "execution_count": 30,
   "metadata": {},
   "outputs": [
    {
     "name": "stdout",
     "output_type": "stream",
     "text": [
      "Accuracy on training data using two features = 0.9707\n"
     ]
    }
   ],
   "source": [
    "yhat = logistic_model.predict_proba(training_set[explanatory_variables_extended].apply(convert_to_standard_units))\n",
    "\n",
    "yhat_classification = np.where(0.5 <= yhat[:,1], 1, 0)\n",
    "\n",
    "accuracy = np.mean(yhat_classification == training_set[\"class\"])\n",
    "\n",
    "print(f\"Accuracy on training data using two features = {accuracy:0.4f}\")"
   ]
  },
  {
   "cell_type": "markdown",
   "metadata": {},
   "source": [
    "We can compute the accuracy on the testing set."
   ]
  },
  {
   "cell_type": "code",
   "execution_count": 31,
   "metadata": {},
   "outputs": [
    {
     "name": "stdout",
     "output_type": "stream",
     "text": [
      "Accuracy on training data using two features = 0.9416\n"
     ]
    }
   ],
   "source": [
    "yhat_classification = logistic_model.predict(testing_set[explanatory_variables_extended].apply(convert_to_standard_units))\n",
    "\n",
    "accuracy = np.mean(yhat_classification == testing_set[\"class\"])\n",
    "\n",
    "print(f\"Accuracy on training data using two features = {accuracy:0.4f}\")"
   ]
  },
  {
   "cell_type": "markdown",
   "metadata": {},
   "source": [
    "While we have good accuracy with logistic regression, we should explore other approaches to assessing the model."
   ]
  },
  {
   "cell_type": "markdown",
   "metadata": {},
   "source": [
    "#### Evaluating the Classifications\n",
    "\n",
    "We have been comparing observations and predictions through accuracy. However we should try to understand the type of errors in the classification. We will unpack these error through other metrics. "
   ]
  },
  {
   "cell_type": "markdown",
   "metadata": {},
   "source": [
    "##### Confusion Matrix\n",
    "\n",
    "We have two possible values for the response variable either 0 and 1. We have two possible values for the guesses either 0 or 1. So we have four possibilities. \n",
    "\n",
    "- True Positive : Observation = 1 and Prediction = 1\n",
    "- False Positive : Observation = 0 and Prediction = 1\n",
    "- True Negative : Observation = 0 and Prediction = 0\n",
    "- False Negative : Observation = 1 and Prediction = 0\n",
    "\n",
    "We can calculate these four possibilities"
   ]
  },
  {
   "cell_type": "code",
   "execution_count": 32,
   "metadata": {},
   "outputs": [],
   "source": [
    "observed =  testing_set[\"class\"]\n",
    "predicted = yhat_classification \n",
    "\n",
    "tp = sum((observed == predicted) & (observed == 1))\n",
    "tn = sum((observed == predicted) & (observed == 0))\n",
    "fp = sum((observed != predicted) & (observed == 0))\n",
    "fn = sum((observed != predicted) & (observed == 1))"
   ]
  },
  {
   "cell_type": "markdown",
   "metadata": {},
   "source": [
    "We can plot these four possibilities in a confusion matrix."
   ]
  },
  {
   "cell_type": "code",
   "execution_count": 33,
   "metadata": {},
   "outputs": [
    {
     "data": {
      "image/png": "[encoded data removed]",
      "text/plain": [
       "<Figure size 432x288 with 1 Axes>"
      ]
     },
     "metadata": {
      "needs_background": "light"
     },
     "output_type": "display_data"
    }
   ],
   "source": [
    "confusion_matrix = np.array([\n",
    "    [tp, fp],\n",
    "    [fp, tn],\n",
    "])\n",
    "    \n",
    "plot_confusion(confusion_matrix)"
   ]
  },
  {
   "cell_type": "markdown",
   "metadata": {},
   "source": [
    "We learn that we have \n",
    "\n",
    "- 46 True Positive's \n",
    "- 4 False Positive's \n",
    "- 83 True Negative's\n",
    "- 4 False Negative's\n",
    "\n",
    "on the testing set for the logistic regression model with nine features."
   ]
  },
  {
   "cell_type": "code",
   "execution_count": 34,
   "metadata": {},
   "outputs": [
    {
     "data": {
      "text/plain": [
       "0.9416058394160584"
      ]
     },
     "execution_count": 34,
     "metadata": {},
     "output_type": "execute_result"
    }
   ],
   "source": [
    "def accuracy(observed, predicted):\n",
    "    return np.mean(observed == predicted)\n",
    "\n",
    "accuracy(observed, predicted)"
   ]
  },
  {
   "cell_type": "markdown",
   "metadata": {},
   "source": [
    "In addition to the accuracy, we have precision and recall. "
   ]
  },
  {
   "cell_type": "code",
   "execution_count": 35,
   "metadata": {},
   "outputs": [
    {
     "data": {
      "text/plain": [
       "0.92"
      ]
     },
     "execution_count": 35,
     "metadata": {},
     "output_type": "execute_result"
    }
   ],
   "source": [
    "def precision(observed, predicted):    \n",
    "    tp = sum((observed == predicted) & (observed == 1))\n",
    "    fp = sum((observed != predicted) & (observed == 0))\n",
    "   \n",
    "    return tp / (tp + fp)\n",
    "\n",
    "precision(observed, predicted)"
   ]
  },
  {
   "cell_type": "markdown",
   "metadata": {},
   "source": [
    "Precision measures the number of true postives amongst predictions of 1."
   ]
  },
  {
   "cell_type": "code",
   "execution_count": 36,
   "metadata": {},
   "outputs": [
    {
     "data": {
      "text/plain": [
       "0.92"
      ]
     },
     "execution_count": 36,
     "metadata": {},
     "output_type": "execute_result"
    }
   ],
   "source": [
    "def recall(observed, predicted):\n",
    "    tp = sum((observed == predicted) & (observed == 1))\n",
    "    fn = sum((observed != predicted) & (observed == 1))\n",
    "\n",
    "    return tp / (tp + fn)\n",
    "\n",
    "recall(observed, predicted)"
   ]
  },
  {
   "cell_type": "markdown",
   "metadata": {},
   "source": [
    "Remember that we took the threshold to be 0.5. If we adjust the threshold then we obtain different values for accuracy, precision and recall."
   ]
  },
  {
   "cell_type": "code",
   "execution_count": 43,
   "metadata": {},
   "outputs": [
    {
     "name": "stdout",
     "output_type": "stream",
     "text": [
      "threshold p >= 0.1: accuracy 0.93, precision 0.87, recall 0.96\n",
      "threshold p >= 0.2: accuracy 0.95, precision 0.91, recall 0.96\n",
      "threshold p >= 0.3: accuracy 0.95, precision 0.91, recall 0.96\n",
      "threshold p >= 0.4: accuracy 0.95, precision 0.92, recall 0.94\n",
      "threshold p >= 0.5: accuracy 0.94, precision 0.92, recall 0.92\n",
      "threshold p >= 0.6: accuracy 0.94, precision 0.94, recall 0.9\n",
      "threshold p >= 0.7: accuracy 0.93, precision 0.93, recall 0.86\n",
      "threshold p >= 0.8: accuracy 0.93, precision 0.96, recall 0.86\n"
     ]
    }
   ],
   "source": [
    "accuracies = []\n",
    "precisions = []\n",
    "recalls = []\n",
    "thresholds = np.arange(0.1, 0.9, 0.1)\n",
    "\n",
    "yhat = logistic_model.predict_proba(testing_set[explanatory_variables_extended].apply(convert_to_standard_units))\n",
    "\n",
    "for threshold in thresholds:\n",
    "    predicted = np.where(threshold <= yhat[:,1], 1, 0)\n",
    "\n",
    "    acc = accuracy(observed, predicted)\n",
    "    pre = precision(observed, predicted)\n",
    "    rec = recall(observed, predicted)\n",
    "\n",
    "    accuracies.append(acc)\n",
    "    precisions.append(pre)\n",
    "    recalls.append(rec)\n",
    "    \n",
    "    print(\"threshold p >= {}: accuracy {}, precision {}, recall {}\".format(np.round(threshold,2), \n",
    "                                                                           np.round(acc, 2),\n",
    "                                                                           np.round(pre, 2),\n",
    "                                                                           np.round(rec, 2)))"
   ]
  },
  {
   "cell_type": "markdown",
   "metadata": {},
   "source": [
    "We can plot the values in a precision-recall curve."
   ]
  },
  {
   "cell_type": "code",
   "execution_count": 50,
   "metadata": {},
   "outputs": [
    {
     "data": {
      "image/png": "[encoded data removed]",
      "text/plain": [
       "<Figure size 432x288 with 1 Axes>"
      ]
     },
     "metadata": {
      "needs_background": "light"
     },
     "output_type": "display_data"
    }
   ],
   "source": [
    "plt.scatter(precisions, recalls)\n",
    "\n",
    "for thresh, prec, rec in zip(thresholds, precisions, recalls):\n",
    "    plt.text(prec + 0.003, rec + 0.003, f\"{thresh:0.2f}\")\n",
    "\n",
    "plt.xlabel('precision')\n",
    "plt.ylabel('recall')\n",
    "plt.title('Precision vs. Recall');"
   ]
  },
  {
   "cell_type": "markdown",
   "metadata": {},
   "source": [
    "Note that if we increase the threshold then the precision increases. However the recall decreases with larger thresholds. So we have to balance the precision and recall."
   ]
  }
 ],
 "metadata": {
  "kernelspec": {
   "display_name": "Python 3",
   "language": "python",
   "name": "python3"
  },
  "language_info": {
   "codemirror_mode": {
    "name": "ipython",
    "version": 3
   },
   "file_extension": ".py",
   "mimetype": "text/x-python",
   "name": "python",
   "nbconvert_exporter": "python",
   "pygments_lexer": "ipython3",
   "version": "3.7.3"
  }
 },
 "nbformat": 4,
 "nbformat_minor": 4
}
